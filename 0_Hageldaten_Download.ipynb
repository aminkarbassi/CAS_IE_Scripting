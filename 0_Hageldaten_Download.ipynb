{
 "cells": [
  {
   "cell_type": "markdown",
   "id": "8b332629",
   "metadata": {},
   "source": [
    "# 0. Download, Bereinigung und Anreicherung der zugrundeliegenden Hageldaten\n",
    "\n",
    "In diesem Notebook werden Daten zur Anzahl der Hageltage sowie die maximal zu erwartende Hagelkorngrösse in den Sommermonaten (April-September) von 2002 bis 2022 in der Schweiz heruntergeladen und vorverarbeitet. Es handelt sich dabei um Monatsdaten pro km^2, also Gitterdaten über der Schweiz.\n",
    "\n",
    "Da Hagel und Hagelkorngrössen nicht flächendeckend am Boden gemessen werden können, wird ein Hageltag und die Grösse aus Radarmessungen abgeleitet. \n",
    "\n",
    "Weitere Informationen befinden sich in https://www.nccs.admin.ch/nccs/en/home/data-and-media-library/data/hail-climate-datasets.html\n",
    "\n",
    "\n",
    "Das Notebook beinhaltet dabei die folgenden Abschnitte:\n",
    "\n",
    "* [0.1 Download der Daten](#download)\n",
    "\n",
    "* [0.2 Bereinigung der Daten](#cleaning)\n",
    "\n",
    "* [0.3 Anreicherung der Daten](#enrichment)\n",
    "\n",
    "* [0.4 Speichern der Daten](#dump)"
   ]
  },
  {
   "cell_type": "markdown",
   "id": "fff3106e-d1a5-4f6c-b8df-675d9eb30def",
   "metadata": {},
   "source": [
    "<a id=\"download\"></a>\n",
    "## 0.1 Herunterladen der Daten"
   ]
  },
  {
   "cell_type": "code",
   "execution_count": 1,
   "id": "115e0fb4-6196-4e3f-a589-bffe51370340",
   "metadata": {
    "tags": []
   },
   "outputs": [],
   "source": [
    "import os\n",
    "from pathlib import Path\n",
    "import zipfile"
   ]
  },
  {
   "cell_type": "markdown",
   "id": "48375b73-c55f-4eb8-a39f-7acefeeb3d95",
   "metadata": {},
   "source": [
    "### 0.1.1 Defintion einiger nützlicher Helferfunktionen"
   ]
  },
  {
   "cell_type": "code",
   "execution_count": 2,
   "id": "c929bc4f-e4fb-44af-9ec1-84e4a7baef4d",
   "metadata": {
    "tags": []
   },
   "outputs": [],
   "source": [
    "  def unzip_data(in_file: Path, out_path: Path) -> None:\n",
    "    \"\"\"Unzips Zip file content into specified output path.\n",
    "    \n",
    "    Args:\n",
    "        in_file: The zip archive to unpack.\n",
    "        out_path: The output path where to unzip the Zip archive content into.\n",
    "    \"\"\"\n",
    "    with zipfile.ZipFile(in_file, \"r\") as zip_ref:\n",
    "        zip_ref.extractall(out_path)\n",
    "        \n",
    "\n",
    "def create_directory(directory: Path) -> None:\n",
    "    \"\"\"Creates a directory if it doesn't already exists.\n",
    "    \n",
    "    Args:\n",
    "        directory: The directory to create.\n",
    "    \"\"\"\n",
    "    directory.mkdir(parents=True, exist_ok=True)"
   ]
  },
  {
   "cell_type": "markdown",
   "id": "fc3576f8-b5f3-4d90-8bdb-cf835e3f2efb",
   "metadata": {},
   "source": [
    "### 0.1.2 Herunterladen und Entpacken der Daten zur Anzahl der Hageltage und zur Hagelkorngrösse von ``https://data.geo.admin.ch/``"
   ]
  },
  {
   "cell_type": "code",
   "execution_count": 3,
   "id": "db668efe-343a-4d00-b8d2-1d0a95877755",
   "metadata": {
    "tags": []
   },
   "outputs": [],
   "source": [
    "haildays_file = Path(\"haildays.zip\")\n",
    "hailsize_file = Path(\"hailsize.zip\")\n",
    "raw_data_path = Path(\"./data/raw\")\n",
    "processed_data_path = Path(\"./data/processed\")\n",
    "out_hail_data_file = \"haildata_per_month.csv\"\n",
    "out_hail_filtered_data_file = \"filtered_haildata_per_month.csv\""
   ]
  },
  {
   "cell_type": "code",
   "execution_count": 4,
   "id": "73c1fe41-34b7-49fd-916c-d6e3538bb604",
   "metadata": {
    "tags": []
   },
   "outputs": [],
   "source": [
    "# Erzeugen der Datenpfade, ein Ordner für Rohdaten und einen für prozessierte\n",
    "create_directory(raw_data_path)\n",
    "create_directory(processed_data_path)"
   ]
  },
  {
   "cell_type": "code",
   "execution_count": 5,
   "id": "cca9504d-7f3a-4434-815d-f1d4328e6612",
   "metadata": {
    "tags": []
   },
   "outputs": [
    {
     "name": "stdout",
     "output_type": "stream",
     "text": [
      "--2023-05-21 16:42:37--  https://data.geo.admin.ch/ch.meteoschweiz.klima/hageltage/Swiss-hail-climatology_haildays.zip\n",
      "Resolving data.geo.admin.ch (data.geo.admin.ch)... 18.165.183.96, 18.165.183.9, 18.165.183.109, ...\n",
      "Connecting to data.geo.admin.ch (data.geo.admin.ch)|18.165.183.96|:443... connected.\n",
      "HTTP request sent, awaiting response... 200 OK\n",
      "Length: 5853652 (5.6M) [binary/octet-stream]\n",
      "Saving to: ‘haildays.zip’\n",
      "\n",
      "haildays.zip        100%[===================>]   5.58M  23.5MB/s    in 0.2s    \n",
      "\n",
      "2023-05-21 16:42:38 (23.5 MB/s) - ‘haildays.zip’ saved [5853652/5853652]\n",
      "\n",
      "--2023-05-21 16:42:38--  https://data.geo.admin.ch/ch.meteoschweiz.klima/hagelkorngroessen/Swiss-hail-climatology_hailsize.zip\n",
      "Resolving data.geo.admin.ch (data.geo.admin.ch)... 18.165.183.19, 18.165.183.9, 18.165.183.109, ...\n",
      "Connecting to data.geo.admin.ch (data.geo.admin.ch)|18.165.183.19|:443... connected.\n",
      "HTTP request sent, awaiting response... 200 OK\n",
      "Length: 7669619 (7.3M) [binary/octet-stream]\n",
      "Saving to: ‘hailsize.zip’\n",
      "\n",
      "hailsize.zip        100%[===================>]   7.31M  25.7MB/s    in 0.3s    \n",
      "\n",
      "2023-05-21 16:42:38 (25.7 MB/s) - ‘hailsize.zip’ saved [7669619/7669619]\n",
      "\n"
     ]
    }
   ],
   "source": [
    "! wget -O {haildays_file} https://data.geo.admin.ch/ch.meteoschweiz.klima/hageltage/Swiss-hail-climatology_haildays.zip\n",
    "! wget -O {hailsize_file} https://data.geo.admin.ch/ch.meteoschweiz.klima/hagelkorngroessen/Swiss-hail-climatology_hailsize.zip"
   ]
  },
  {
   "cell_type": "code",
   "execution_count": 6,
   "id": "74e0f0ab-a165-41d3-936c-7ce3d97fa1d1",
   "metadata": {
    "tags": []
   },
   "outputs": [],
   "source": [
    "# Entpacken der heruntergeladenen Hageldaten\n",
    "unzip_data(haildays_file, raw_data_path)\n",
    "unzip_data(hailsize_file, raw_data_path)"
   ]
  },
  {
   "cell_type": "markdown",
   "id": "42269d78-3805-4be7-9f00-4a8bd048e05b",
   "metadata": {},
   "source": [
    "### Entfernen der zusätzlich heruntergeladenen Daten, die zur Analyse nicht benötigt werden (inklusive der Zip Archive)"
   ]
  },
  {
   "cell_type": "code",
   "execution_count": 7,
   "id": "f516fec5-c1d2-49cc-a500-2ac538a78dc3",
   "metadata": {
    "tags": []
   },
   "outputs": [],
   "source": [
    "# es werden nur die monatlichen Hageldaten (Anzahl als auch Hagelkorngrösse) benötigt\n",
    "haildays_per_month_file = \"haildaysM_ch01r.swiss.lv95_20020401000000_20220930000000.nc\"\n",
    "hailsize_per_month_file = \"hailsizeM_ch01r.swiss.lv95_20020401000000_20220930000000.nc\""
   ]
  },
  {
   "cell_type": "code",
   "execution_count": 8,
   "id": "38490824-6142-4bf2-b158-4311ded91aa9",
   "metadata": {
    "tags": []
   },
   "outputs": [],
   "source": [
    "# Erzeugen einer Liste mit allen zusätzlichen Dateien (ausser der beiden oben definierten)\n",
    "files_to_delete = [\n",
    "    str(x) for x in raw_data_path.iterdir() \n",
    "    if x.is_file() and x.name not in [haildays_per_month_file, hailsize_per_month_file]\n",
    "]\n",
    "\n",
    "# Löschen der zusätzlich mit heruntergeladenen Daten, welche nicht für dieses Projekt benötigt werden\n",
    "for file in files_to_delete:\n",
    "    Path(file).unlink()\n",
    "    \n",
    "# Entfernen der Zip Archive\n",
    "haildays_file.unlink()\n",
    "hailsize_file.unlink()"
   ]
  },
  {
   "cell_type": "code",
   "execution_count": null,
   "id": "673af4da-2fb6-4ea5-bf5e-1dabf6d85f67",
   "metadata": {},
   "outputs": [],
   "source": []
  },
  {
   "cell_type": "code",
   "execution_count": null,
   "id": "27b4f057-159c-4568-9ee0-b5f104bb315b",
   "metadata": {},
   "outputs": [],
   "source": []
  },
  {
   "cell_type": "markdown",
   "id": "563c5263-d552-400f-83f2-7c40ec6ce231",
   "metadata": {
    "tags": []
   },
   "source": [
    "<a id=\"cleaning\"></a>\n",
    "## 0.2 Bereinigung der Daten"
   ]
  },
  {
   "cell_type": "markdown",
   "id": "f6a46d19-eed1-4b8e-a570-a0fe0d74fa9c",
   "metadata": {},
   "source": [
    "### 0.2.1 Installation der benötigeten Pakete"
   ]
  },
  {
   "cell_type": "code",
   "execution_count": 9,
   "id": "b0f7864d-d1f4-4907-942c-f0717374fc54",
   "metadata": {
    "tags": []
   },
   "outputs": [
    {
     "name": "stdout",
     "output_type": "stream",
     "text": [
      "Requirement already satisfied: pip in /opt/conda/lib/python3.10/site-packages (23.1.2)\n"
     ]
    }
   ],
   "source": [
    "!pip install --upgrade pip"
   ]
  },
  {
   "cell_type": "code",
   "execution_count": 10,
   "id": "c43c2ef5-b3e7-4d02-947d-f22cc5a2a93a",
   "metadata": {
    "tags": []
   },
   "outputs": [
    {
     "name": "stdout",
     "output_type": "stream",
     "text": [
      "Requirement already satisfied: xarray in /opt/conda/lib/python3.10/site-packages (2023.3.0)\n",
      "Requirement already satisfied: numpy>=1.21 in /opt/conda/lib/python3.10/site-packages (from xarray) (1.23.5)\n",
      "Requirement already satisfied: pandas<2,>=1.4 in /opt/conda/lib/python3.10/site-packages (from xarray) (1.5.3)\n",
      "Requirement already satisfied: packaging>=21.3 in /opt/conda/lib/python3.10/site-packages (from xarray) (23.0)\n",
      "Requirement already satisfied: python-dateutil>=2.8.1 in /opt/conda/lib/python3.10/site-packages (from pandas<2,>=1.4->xarray) (2.8.2)\n",
      "Requirement already satisfied: pytz>=2020.1 in /opt/conda/lib/python3.10/site-packages (from pandas<2,>=1.4->xarray) (2022.7.1)\n",
      "Requirement already satisfied: six>=1.5 in /opt/conda/lib/python3.10/site-packages (from python-dateutil>=2.8.1->pandas<2,>=1.4->xarray) (1.16.0)\n",
      "Requirement already satisfied: netcdf4 in /opt/conda/lib/python3.10/site-packages (1.6.3)\n",
      "Requirement already satisfied: h5netcdf in /opt/conda/lib/python3.10/site-packages (1.1.0)\n",
      "Requirement already satisfied: scipy in /opt/conda/lib/python3.10/site-packages (1.10.0)\n",
      "Requirement already satisfied: pydap in /opt/conda/lib/python3.10/site-packages (3.2.2)\n",
      "Requirement already satisfied: zarr in /opt/conda/lib/python3.10/site-packages (2.14.2)\n",
      "Requirement already satisfied: fsspec in /opt/conda/lib/python3.10/site-packages (2023.1.0)\n",
      "Requirement already satisfied: cftime in /opt/conda/lib/python3.10/site-packages (1.6.2)\n",
      "Requirement already satisfied: rasterio in /opt/conda/lib/python3.10/site-packages (1.3.6)\n",
      "Requirement already satisfied: cfgrib in /opt/conda/lib/python3.10/site-packages (0.9.10.3)\n",
      "Requirement already satisfied: pooch in /opt/conda/lib/python3.10/site-packages (1.6.0)\n",
      "Requirement already satisfied: numpy in /opt/conda/lib/python3.10/site-packages (from netcdf4) (1.23.5)\n",
      "Requirement already satisfied: h5py in /opt/conda/lib/python3.10/site-packages (from h5netcdf) (3.8.0)\n",
      "Requirement already satisfied: packaging in /opt/conda/lib/python3.10/site-packages (from h5netcdf) (23.0)\n",
      "Requirement already satisfied: Webob in /opt/conda/lib/python3.10/site-packages (from pydap) (1.8.7)\n",
      "Requirement already satisfied: Jinja2 in /opt/conda/lib/python3.10/site-packages (from pydap) (3.1.2)\n",
      "Requirement already satisfied: docopt in /opt/conda/lib/python3.10/site-packages (from pydap) (0.6.2)\n",
      "Requirement already satisfied: six>=1.4.0 in /opt/conda/lib/python3.10/site-packages (from pydap) (1.16.0)\n",
      "Requirement already satisfied: beautifulsoup4 in /opt/conda/lib/python3.10/site-packages (from pydap) (4.11.2)\n",
      "Requirement already satisfied: asciitree in /opt/conda/lib/python3.10/site-packages (from zarr) (0.3.3)\n",
      "Requirement already satisfied: fasteners in /opt/conda/lib/python3.10/site-packages (from zarr) (0.18)\n",
      "Requirement already satisfied: numcodecs>=0.10.0 in /opt/conda/lib/python3.10/site-packages (from zarr) (0.11.0)\n",
      "Requirement already satisfied: affine in /opt/conda/lib/python3.10/site-packages (from rasterio) (2.4.0)\n",
      "Requirement already satisfied: attrs in /opt/conda/lib/python3.10/site-packages (from rasterio) (22.2.0)\n",
      "Requirement already satisfied: certifi in /opt/conda/lib/python3.10/site-packages (from rasterio) (2022.12.7)\n",
      "Requirement already satisfied: click>=4.0 in /opt/conda/lib/python3.10/site-packages (from rasterio) (8.1.3)\n",
      "Requirement already satisfied: cligj>=0.5 in /opt/conda/lib/python3.10/site-packages (from rasterio) (0.7.2)\n",
      "Requirement already satisfied: snuggs>=1.4.1 in /opt/conda/lib/python3.10/site-packages (from rasterio) (1.4.7)\n",
      "Requirement already satisfied: click-plugins in /opt/conda/lib/python3.10/site-packages (from rasterio) (1.1.1)\n",
      "Requirement already satisfied: setuptools in /opt/conda/lib/python3.10/site-packages (from rasterio) (67.1.0)\n",
      "Requirement already satisfied: eccodes>=0.9.8 in /opt/conda/lib/python3.10/site-packages (from cfgrib) (1.5.1)\n",
      "Requirement already satisfied: appdirs>=1.3.0 in /opt/conda/lib/python3.10/site-packages (from pooch) (1.4.4)\n",
      "Requirement already satisfied: requests>=2.19.0 in /opt/conda/lib/python3.10/site-packages (from pooch) (2.28.2)\n",
      "Requirement already satisfied: cffi in /opt/conda/lib/python3.10/site-packages (from eccodes>=0.9.8->cfgrib) (1.15.1)\n",
      "Requirement already satisfied: findlibs in /opt/conda/lib/python3.10/site-packages (from eccodes>=0.9.8->cfgrib) (0.0.2)\n",
      "Requirement already satisfied: entrypoints in /opt/conda/lib/python3.10/site-packages (from numcodecs>=0.10.0->zarr) (0.4)\n",
      "Requirement already satisfied: charset-normalizer<4,>=2 in /opt/conda/lib/python3.10/site-packages (from requests>=2.19.0->pooch) (2.1.1)\n",
      "Requirement already satisfied: idna<4,>=2.5 in /opt/conda/lib/python3.10/site-packages (from requests>=2.19.0->pooch) (3.4)\n",
      "Requirement already satisfied: urllib3<1.27,>=1.21.1 in /opt/conda/lib/python3.10/site-packages (from requests>=2.19.0->pooch) (1.26.14)\n",
      "Requirement already satisfied: pyparsing>=2.1.6 in /opt/conda/lib/python3.10/site-packages (from snuggs>=1.4.1->rasterio) (3.0.9)\n",
      "Requirement already satisfied: soupsieve>1.2 in /opt/conda/lib/python3.10/site-packages (from beautifulsoup4->pydap) (2.3.2.post1)\n",
      "Requirement already satisfied: MarkupSafe>=2.0 in /opt/conda/lib/python3.10/site-packages (from Jinja2->pydap) (2.1.2)\n",
      "Requirement already satisfied: pycparser in /opt/conda/lib/python3.10/site-packages (from cffi->eccodes>=0.9.8->cfgrib) (2.21)\n",
      "Requirement already satisfied: pyaxis in /opt/conda/lib/python3.10/site-packages (0.3.4)\n",
      "Requirement already satisfied: numpy in /opt/conda/lib/python3.10/site-packages (from pyaxis) (1.23.5)\n",
      "Requirement already satisfied: requests in /opt/conda/lib/python3.10/site-packages (from pyaxis) (2.28.2)\n",
      "Requirement already satisfied: pandas in /opt/conda/lib/python3.10/site-packages (from pyaxis) (1.5.3)\n",
      "Requirement already satisfied: pyjstat in /opt/conda/lib/python3.10/site-packages (from pyaxis) (2.3.0)\n",
      "Requirement already satisfied: python-dateutil>=2.8.1 in /opt/conda/lib/python3.10/site-packages (from pandas->pyaxis) (2.8.2)\n",
      "Requirement already satisfied: pytz>=2020.1 in /opt/conda/lib/python3.10/site-packages (from pandas->pyaxis) (2022.7.1)\n",
      "Requirement already satisfied: charset-normalizer<4,>=2 in /opt/conda/lib/python3.10/site-packages (from requests->pyaxis) (2.1.1)\n",
      "Requirement already satisfied: idna<4,>=2.5 in /opt/conda/lib/python3.10/site-packages (from requests->pyaxis) (3.4)\n",
      "Requirement already satisfied: urllib3<1.27,>=1.21.1 in /opt/conda/lib/python3.10/site-packages (from requests->pyaxis) (1.26.14)\n",
      "Requirement already satisfied: certifi>=2017.4.17 in /opt/conda/lib/python3.10/site-packages (from requests->pyaxis) (2022.12.7)\n",
      "Requirement already satisfied: six>=1.5 in /opt/conda/lib/python3.10/site-packages (from python-dateutil>=2.8.1->pandas->pyaxis) (1.16.0)\n",
      "Requirement already satisfied: numpy in /opt/conda/lib/python3.10/site-packages (1.23.5)\n",
      "Requirement already satisfied: pandas in /opt/conda/lib/python3.10/site-packages (1.5.3)\n",
      "Requirement already satisfied: python-dateutil>=2.8.1 in /opt/conda/lib/python3.10/site-packages (from pandas) (2.8.2)\n",
      "Requirement already satisfied: pytz>=2020.1 in /opt/conda/lib/python3.10/site-packages (from pandas) (2022.7.1)\n",
      "Requirement already satisfied: six>=1.5 in /opt/conda/lib/python3.10/site-packages (from python-dateutil>=2.8.1->pandas) (1.16.0)\n"
     ]
    }
   ],
   "source": [
    "!pip install xarray\n",
    "!pip install netcdf4 h5netcdf scipy pydap zarr fsspec cftime rasterio cfgrib pooch\n",
    "!pip install pyaxis\n",
    "!pip install numpy pandas"
   ]
  },
  {
   "cell_type": "code",
   "execution_count": 11,
   "id": "ca1485cb-57cf-4597-8dc1-5731f8e4733b",
   "metadata": {
    "tags": []
   },
   "outputs": [],
   "source": [
    "from pathlib import Path\n",
    "import xarray as xr\n",
    "from pyaxis import pyaxis\n",
    "import pandas as pd\n",
    "import numpy as np"
   ]
  },
  {
   "cell_type": "markdown",
   "id": "385b000a-0546-4ed3-99fb-b531567c5e03",
   "metadata": {},
   "source": [
    "### 0.2.2 Prozessierung der Hageldaten"
   ]
  },
  {
   "cell_type": "code",
   "execution_count": 12,
   "id": "073b1391-2e3d-4540-839f-351a9235a91a",
   "metadata": {
    "tags": []
   },
   "outputs": [
    {
     "name": "stderr",
     "output_type": "stream",
     "text": [
      "/opt/conda/lib/python3.10/site-packages/xarray/backends/plugins.py:71: RuntimeWarning: Engine 'cfgrib' loading failed:\n",
      "Cannot find the ecCodes library\n",
      "  warnings.warn(f\"Engine {name!r} loading failed:\\n{ex}\", RuntimeWarning)\n"
     ]
    }
   ],
   "source": [
    "haildays_ds = xr.open_dataset(raw_data_path / haildays_per_month_file)\n",
    "hailsize_ds = xr.open_dataset(raw_data_path / hailsize_per_month_file)\n",
    "\n",
    "df_haildays = haildays_ds.to_dataframe()\n",
    "df_hailsize = hailsize_ds.to_dataframe()"
   ]
  },
  {
   "cell_type": "code",
   "execution_count": 13,
   "id": "b4fb6f93-47a5-469c-8dc9-7b8c9fe63650",
   "metadata": {
    "tags": []
   },
   "outputs": [
    {
     "data": {
      "text/html": [
       "<div>\n",
       "<style scoped>\n",
       "    .dataframe tbody tr th:only-of-type {\n",
       "        vertical-align: middle;\n",
       "    }\n",
       "\n",
       "    .dataframe tbody tr th {\n",
       "        vertical-align: top;\n",
       "    }\n",
       "\n",
       "    .dataframe thead th {\n",
       "        text-align: right;\n",
       "    }\n",
       "</style>\n",
       "<table border=\"1\" class=\"dataframe\">\n",
       "  <thead>\n",
       "    <tr style=\"text-align: right;\">\n",
       "      <th></th>\n",
       "      <th></th>\n",
       "      <th></th>\n",
       "      <th>lat</th>\n",
       "      <th>lon</th>\n",
       "      <th>swiss_coordinates</th>\n",
       "      <th>haildays</th>\n",
       "    </tr>\n",
       "    <tr>\n",
       "      <th>time</th>\n",
       "      <th>chy</th>\n",
       "      <th>chx</th>\n",
       "      <th></th>\n",
       "      <th></th>\n",
       "      <th></th>\n",
       "      <th></th>\n",
       "    </tr>\n",
       "  </thead>\n",
       "  <tbody>\n",
       "    <tr>\n",
       "      <th rowspan=\"5\" valign=\"top\">2002-04-01</th>\n",
       "      <th rowspan=\"5\" valign=\"top\">1065500</th>\n",
       "      <th>2480500</th>\n",
       "      <td>45.730684</td>\n",
       "      <td>5.903697</td>\n",
       "      <td>0</td>\n",
       "      <td>NaT</td>\n",
       "    </tr>\n",
       "    <tr>\n",
       "      <th>2481500</th>\n",
       "      <td>45.730859</td>\n",
       "      <td>5.916539</td>\n",
       "      <td>0</td>\n",
       "      <td>NaT</td>\n",
       "    </tr>\n",
       "    <tr>\n",
       "      <th>2482500</th>\n",
       "      <td>45.731033</td>\n",
       "      <td>5.929380</td>\n",
       "      <td>0</td>\n",
       "      <td>NaT</td>\n",
       "    </tr>\n",
       "    <tr>\n",
       "      <th>2483500</th>\n",
       "      <td>45.731205</td>\n",
       "      <td>5.942221</td>\n",
       "      <td>0</td>\n",
       "      <td>NaT</td>\n",
       "    </tr>\n",
       "    <tr>\n",
       "      <th>2484500</th>\n",
       "      <td>45.731376</td>\n",
       "      <td>5.955063</td>\n",
       "      <td>0</td>\n",
       "      <td>NaT</td>\n",
       "    </tr>\n",
       "    <tr>\n",
       "      <th>...</th>\n",
       "      <th>...</th>\n",
       "      <th>...</th>\n",
       "      <td>...</td>\n",
       "      <td>...</td>\n",
       "      <td>...</td>\n",
       "      <td>...</td>\n",
       "    </tr>\n",
       "    <tr>\n",
       "      <th rowspan=\"5\" valign=\"top\">2022-09-01</th>\n",
       "      <th rowspan=\"5\" valign=\"top\">1303500</th>\n",
       "      <th>2840500</th>\n",
       "      <td>47.837685</td>\n",
       "      <td>10.651764</td>\n",
       "      <td>0</td>\n",
       "      <td>NaT</td>\n",
       "    </tr>\n",
       "    <tr>\n",
       "      <th>2841500</th>\n",
       "      <td>47.837316</td>\n",
       "      <td>10.665111</td>\n",
       "      <td>0</td>\n",
       "      <td>NaT</td>\n",
       "    </tr>\n",
       "    <tr>\n",
       "      <th>2842500</th>\n",
       "      <td>47.836946</td>\n",
       "      <td>10.678456</td>\n",
       "      <td>0</td>\n",
       "      <td>NaT</td>\n",
       "    </tr>\n",
       "    <tr>\n",
       "      <th>2843500</th>\n",
       "      <td>47.836574</td>\n",
       "      <td>10.691802</td>\n",
       "      <td>0</td>\n",
       "      <td>NaT</td>\n",
       "    </tr>\n",
       "    <tr>\n",
       "      <th>2844500</th>\n",
       "      <td>47.836200</td>\n",
       "      <td>10.705148</td>\n",
       "      <td>0</td>\n",
       "      <td>NaT</td>\n",
       "    </tr>\n",
       "  </tbody>\n",
       "</table>\n",
       "<p>10991610 rows × 4 columns</p>\n",
       "</div>"
      ],
      "text/plain": [
       "                                  lat        lon  swiss_coordinates haildays\n",
       "time       chy     chx                                                      \n",
       "2002-04-01 1065500 2480500  45.730684   5.903697                  0      NaT\n",
       "                   2481500  45.730859   5.916539                  0      NaT\n",
       "                   2482500  45.731033   5.929380                  0      NaT\n",
       "                   2483500  45.731205   5.942221                  0      NaT\n",
       "                   2484500  45.731376   5.955063                  0      NaT\n",
       "...                               ...        ...                ...      ...\n",
       "2022-09-01 1303500 2840500  47.837685  10.651764                  0      NaT\n",
       "                   2841500  47.837316  10.665111                  0      NaT\n",
       "                   2842500  47.836946  10.678456                  0      NaT\n",
       "                   2843500  47.836574  10.691802                  0      NaT\n",
       "                   2844500  47.836200  10.705148                  0      NaT\n",
       "\n",
       "[10991610 rows x 4 columns]"
      ]
     },
     "execution_count": 13,
     "metadata": {},
     "output_type": "execute_result"
    }
   ],
   "source": [
    "df_haildays"
   ]
  },
  {
   "cell_type": "code",
   "execution_count": 14,
   "id": "33a1c051-752c-494f-8d50-7c902119f5bc",
   "metadata": {
    "tags": []
   },
   "outputs": [
    {
     "data": {
      "text/html": [
       "<div>\n",
       "<style scoped>\n",
       "    .dataframe tbody tr th:only-of-type {\n",
       "        vertical-align: middle;\n",
       "    }\n",
       "\n",
       "    .dataframe tbody tr th {\n",
       "        vertical-align: top;\n",
       "    }\n",
       "\n",
       "    .dataframe thead th {\n",
       "        text-align: right;\n",
       "    }\n",
       "</style>\n",
       "<table border=\"1\" class=\"dataframe\">\n",
       "  <thead>\n",
       "    <tr style=\"text-align: right;\">\n",
       "      <th></th>\n",
       "      <th></th>\n",
       "      <th></th>\n",
       "      <th>lat</th>\n",
       "      <th>lon</th>\n",
       "      <th>swiss_coordinates</th>\n",
       "      <th>hailsize</th>\n",
       "    </tr>\n",
       "    <tr>\n",
       "      <th>time</th>\n",
       "      <th>chy</th>\n",
       "      <th>chx</th>\n",
       "      <th></th>\n",
       "      <th></th>\n",
       "      <th></th>\n",
       "      <th></th>\n",
       "    </tr>\n",
       "  </thead>\n",
       "  <tbody>\n",
       "    <tr>\n",
       "      <th rowspan=\"5\" valign=\"top\">2002-04-01</th>\n",
       "      <th rowspan=\"5\" valign=\"top\">1065500</th>\n",
       "      <th>2480500</th>\n",
       "      <td>45.730684</td>\n",
       "      <td>5.903697</td>\n",
       "      <td>0</td>\n",
       "      <td>NaN</td>\n",
       "    </tr>\n",
       "    <tr>\n",
       "      <th>2481500</th>\n",
       "      <td>45.730859</td>\n",
       "      <td>5.916539</td>\n",
       "      <td>0</td>\n",
       "      <td>NaN</td>\n",
       "    </tr>\n",
       "    <tr>\n",
       "      <th>2482500</th>\n",
       "      <td>45.731033</td>\n",
       "      <td>5.929380</td>\n",
       "      <td>0</td>\n",
       "      <td>NaN</td>\n",
       "    </tr>\n",
       "    <tr>\n",
       "      <th>2483500</th>\n",
       "      <td>45.731205</td>\n",
       "      <td>5.942221</td>\n",
       "      <td>0</td>\n",
       "      <td>NaN</td>\n",
       "    </tr>\n",
       "    <tr>\n",
       "      <th>2484500</th>\n",
       "      <td>45.731376</td>\n",
       "      <td>5.955063</td>\n",
       "      <td>0</td>\n",
       "      <td>NaN</td>\n",
       "    </tr>\n",
       "    <tr>\n",
       "      <th>...</th>\n",
       "      <th>...</th>\n",
       "      <th>...</th>\n",
       "      <td>...</td>\n",
       "      <td>...</td>\n",
       "      <td>...</td>\n",
       "      <td>...</td>\n",
       "    </tr>\n",
       "    <tr>\n",
       "      <th rowspan=\"5\" valign=\"top\">2022-09-01</th>\n",
       "      <th rowspan=\"5\" valign=\"top\">1303500</th>\n",
       "      <th>2840500</th>\n",
       "      <td>47.837685</td>\n",
       "      <td>10.651764</td>\n",
       "      <td>0</td>\n",
       "      <td>NaN</td>\n",
       "    </tr>\n",
       "    <tr>\n",
       "      <th>2841500</th>\n",
       "      <td>47.837316</td>\n",
       "      <td>10.665111</td>\n",
       "      <td>0</td>\n",
       "      <td>NaN</td>\n",
       "    </tr>\n",
       "    <tr>\n",
       "      <th>2842500</th>\n",
       "      <td>47.836946</td>\n",
       "      <td>10.678456</td>\n",
       "      <td>0</td>\n",
       "      <td>NaN</td>\n",
       "    </tr>\n",
       "    <tr>\n",
       "      <th>2843500</th>\n",
       "      <td>47.836574</td>\n",
       "      <td>10.691802</td>\n",
       "      <td>0</td>\n",
       "      <td>NaN</td>\n",
       "    </tr>\n",
       "    <tr>\n",
       "      <th>2844500</th>\n",
       "      <td>47.836200</td>\n",
       "      <td>10.705148</td>\n",
       "      <td>0</td>\n",
       "      <td>NaN</td>\n",
       "    </tr>\n",
       "  </tbody>\n",
       "</table>\n",
       "<p>10991610 rows × 4 columns</p>\n",
       "</div>"
      ],
      "text/plain": [
       "                                  lat        lon  swiss_coordinates  hailsize\n",
       "time       chy     chx                                                       \n",
       "2002-04-01 1065500 2480500  45.730684   5.903697                  0       NaN\n",
       "                   2481500  45.730859   5.916539                  0       NaN\n",
       "                   2482500  45.731033   5.929380                  0       NaN\n",
       "                   2483500  45.731205   5.942221                  0       NaN\n",
       "                   2484500  45.731376   5.955063                  0       NaN\n",
       "...                               ...        ...                ...       ...\n",
       "2022-09-01 1303500 2840500  47.837685  10.651764                  0       NaN\n",
       "                   2841500  47.837316  10.665111                  0       NaN\n",
       "                   2842500  47.836946  10.678456                  0       NaN\n",
       "                   2843500  47.836574  10.691802                  0       NaN\n",
       "                   2844500  47.836200  10.705148                  0       NaN\n",
       "\n",
       "[10991610 rows x 4 columns]"
      ]
     },
     "execution_count": 14,
     "metadata": {},
     "output_type": "execute_result"
    }
   ],
   "source": [
    "df_hailsize"
   ]
  },
  {
   "cell_type": "markdown",
   "id": "fe4a323c-6038-45f4-8fc6-022a75b0d2f0",
   "metadata": {},
   "source": [
    "#### Zusammenfügen der Daten zur Anzahl der Hageltage im Monat und zur Hagelkorngrösse über Multiindex"
   ]
  },
  {
   "cell_type": "code",
   "execution_count": 15,
   "id": "3122d2e7-92dc-4d4e-8809-73f22330b6ac",
   "metadata": {
    "tags": []
   },
   "outputs": [
    {
     "data": {
      "text/html": [
       "<div>\n",
       "<style scoped>\n",
       "    .dataframe tbody tr th:only-of-type {\n",
       "        vertical-align: middle;\n",
       "    }\n",
       "\n",
       "    .dataframe tbody tr th {\n",
       "        vertical-align: top;\n",
       "    }\n",
       "\n",
       "    .dataframe thead th {\n",
       "        text-align: right;\n",
       "    }\n",
       "</style>\n",
       "<table border=\"1\" class=\"dataframe\">\n",
       "  <thead>\n",
       "    <tr style=\"text-align: right;\">\n",
       "      <th></th>\n",
       "      <th></th>\n",
       "      <th></th>\n",
       "      <th>lat</th>\n",
       "      <th>lon</th>\n",
       "      <th>swiss_coordinates</th>\n",
       "      <th>haildays</th>\n",
       "      <th>hailsize</th>\n",
       "    </tr>\n",
       "    <tr>\n",
       "      <th>time</th>\n",
       "      <th>chy</th>\n",
       "      <th>chx</th>\n",
       "      <th></th>\n",
       "      <th></th>\n",
       "      <th></th>\n",
       "      <th></th>\n",
       "      <th></th>\n",
       "    </tr>\n",
       "  </thead>\n",
       "  <tbody>\n",
       "    <tr>\n",
       "      <th rowspan=\"5\" valign=\"top\">2002-04-01</th>\n",
       "      <th rowspan=\"5\" valign=\"top\">1065500</th>\n",
       "      <th>2480500</th>\n",
       "      <td>45.730684</td>\n",
       "      <td>5.903697</td>\n",
       "      <td>0</td>\n",
       "      <td>NaT</td>\n",
       "      <td>NaN</td>\n",
       "    </tr>\n",
       "    <tr>\n",
       "      <th>2481500</th>\n",
       "      <td>45.730859</td>\n",
       "      <td>5.916539</td>\n",
       "      <td>0</td>\n",
       "      <td>NaT</td>\n",
       "      <td>NaN</td>\n",
       "    </tr>\n",
       "    <tr>\n",
       "      <th>2482500</th>\n",
       "      <td>45.731033</td>\n",
       "      <td>5.929380</td>\n",
       "      <td>0</td>\n",
       "      <td>NaT</td>\n",
       "      <td>NaN</td>\n",
       "    </tr>\n",
       "    <tr>\n",
       "      <th>2483500</th>\n",
       "      <td>45.731205</td>\n",
       "      <td>5.942221</td>\n",
       "      <td>0</td>\n",
       "      <td>NaT</td>\n",
       "      <td>NaN</td>\n",
       "    </tr>\n",
       "    <tr>\n",
       "      <th>2484500</th>\n",
       "      <td>45.731376</td>\n",
       "      <td>5.955063</td>\n",
       "      <td>0</td>\n",
       "      <td>NaT</td>\n",
       "      <td>NaN</td>\n",
       "    </tr>\n",
       "    <tr>\n",
       "      <th>...</th>\n",
       "      <th>...</th>\n",
       "      <th>...</th>\n",
       "      <td>...</td>\n",
       "      <td>...</td>\n",
       "      <td>...</td>\n",
       "      <td>...</td>\n",
       "      <td>...</td>\n",
       "    </tr>\n",
       "    <tr>\n",
       "      <th rowspan=\"5\" valign=\"top\">2022-09-01</th>\n",
       "      <th rowspan=\"5\" valign=\"top\">1303500</th>\n",
       "      <th>2840500</th>\n",
       "      <td>47.837685</td>\n",
       "      <td>10.651764</td>\n",
       "      <td>0</td>\n",
       "      <td>NaT</td>\n",
       "      <td>NaN</td>\n",
       "    </tr>\n",
       "    <tr>\n",
       "      <th>2841500</th>\n",
       "      <td>47.837316</td>\n",
       "      <td>10.665111</td>\n",
       "      <td>0</td>\n",
       "      <td>NaT</td>\n",
       "      <td>NaN</td>\n",
       "    </tr>\n",
       "    <tr>\n",
       "      <th>2842500</th>\n",
       "      <td>47.836946</td>\n",
       "      <td>10.678456</td>\n",
       "      <td>0</td>\n",
       "      <td>NaT</td>\n",
       "      <td>NaN</td>\n",
       "    </tr>\n",
       "    <tr>\n",
       "      <th>2843500</th>\n",
       "      <td>47.836574</td>\n",
       "      <td>10.691802</td>\n",
       "      <td>0</td>\n",
       "      <td>NaT</td>\n",
       "      <td>NaN</td>\n",
       "    </tr>\n",
       "    <tr>\n",
       "      <th>2844500</th>\n",
       "      <td>47.836200</td>\n",
       "      <td>10.705148</td>\n",
       "      <td>0</td>\n",
       "      <td>NaT</td>\n",
       "      <td>NaN</td>\n",
       "    </tr>\n",
       "  </tbody>\n",
       "</table>\n",
       "<p>10991610 rows × 5 columns</p>\n",
       "</div>"
      ],
      "text/plain": [
       "                                  lat        lon  swiss_coordinates haildays  \\\n",
       "time       chy     chx                                                         \n",
       "2002-04-01 1065500 2480500  45.730684   5.903697                  0      NaT   \n",
       "                   2481500  45.730859   5.916539                  0      NaT   \n",
       "                   2482500  45.731033   5.929380                  0      NaT   \n",
       "                   2483500  45.731205   5.942221                  0      NaT   \n",
       "                   2484500  45.731376   5.955063                  0      NaT   \n",
       "...                               ...        ...                ...      ...   \n",
       "2022-09-01 1303500 2840500  47.837685  10.651764                  0      NaT   \n",
       "                   2841500  47.837316  10.665111                  0      NaT   \n",
       "                   2842500  47.836946  10.678456                  0      NaT   \n",
       "                   2843500  47.836574  10.691802                  0      NaT   \n",
       "                   2844500  47.836200  10.705148                  0      NaT   \n",
       "\n",
       "                            hailsize  \n",
       "time       chy     chx                \n",
       "2002-04-01 1065500 2480500       NaN  \n",
       "                   2481500       NaN  \n",
       "                   2482500       NaN  \n",
       "                   2483500       NaN  \n",
       "                   2484500       NaN  \n",
       "...                              ...  \n",
       "2022-09-01 1303500 2840500       NaN  \n",
       "                   2841500       NaN  \n",
       "                   2842500       NaN  \n",
       "                   2843500       NaN  \n",
       "                   2844500       NaN  \n",
       "\n",
       "[10991610 rows x 5 columns]"
      ]
     },
     "execution_count": 15,
     "metadata": {},
     "output_type": "execute_result"
    }
   ],
   "source": [
    "df_hail = df_haildays.merge(df_hailsize[\"hailsize\"], how=\"inner\", left_index=True, right_index=True)\n",
    "df_hail"
   ]
  },
  {
   "cell_type": "markdown",
   "id": "e3eb449b-1394-436c-90b8-70162fb6f019",
   "metadata": {},
   "source": [
    "#### Entfernen der Datenpunlte ohne Werte für `hailsize` oder `haildays` (keine Messung vorhanden)"
   ]
  },
  {
   "cell_type": "code",
   "execution_count": 16,
   "id": "1ab0b153-af47-4b0e-9ff6-c33cb135568d",
   "metadata": {
    "tags": []
   },
   "outputs": [
    {
     "data": {
      "text/html": [
       "<div>\n",
       "<style scoped>\n",
       "    .dataframe tbody tr th:only-of-type {\n",
       "        vertical-align: middle;\n",
       "    }\n",
       "\n",
       "    .dataframe tbody tr th {\n",
       "        vertical-align: top;\n",
       "    }\n",
       "\n",
       "    .dataframe thead th {\n",
       "        text-align: right;\n",
       "    }\n",
       "</style>\n",
       "<table border=\"1\" class=\"dataframe\">\n",
       "  <thead>\n",
       "    <tr style=\"text-align: right;\">\n",
       "      <th></th>\n",
       "      <th></th>\n",
       "      <th></th>\n",
       "      <th>lat</th>\n",
       "      <th>lon</th>\n",
       "      <th>swiss_coordinates</th>\n",
       "      <th>haildays</th>\n",
       "      <th>hailsize</th>\n",
       "    </tr>\n",
       "    <tr>\n",
       "      <th>time</th>\n",
       "      <th>chy</th>\n",
       "      <th>chx</th>\n",
       "      <th></th>\n",
       "      <th></th>\n",
       "      <th></th>\n",
       "      <th></th>\n",
       "      <th></th>\n",
       "    </tr>\n",
       "  </thead>\n",
       "  <tbody>\n",
       "    <tr>\n",
       "      <th rowspan=\"5\" valign=\"top\">2002-04-01</th>\n",
       "      <th>1182500</th>\n",
       "      <th>2634500</th>\n",
       "      <td>46.792770</td>\n",
       "      <td>7.890503</td>\n",
       "      <td>0</td>\n",
       "      <td>0 days</td>\n",
       "      <td>2.0</td>\n",
       "    </tr>\n",
       "    <tr>\n",
       "      <th>1187500</th>\n",
       "      <th>2610500</th>\n",
       "      <td>46.838557</td>\n",
       "      <td>7.576278</td>\n",
       "      <td>0</td>\n",
       "      <td>0 days</td>\n",
       "      <td>2.5</td>\n",
       "    </tr>\n",
       "    <tr>\n",
       "      <th rowspan=\"2\" valign=\"top\">1192500</th>\n",
       "      <th>2609500</th>\n",
       "      <td>46.883549</td>\n",
       "      <td>7.563273</td>\n",
       "      <td>0</td>\n",
       "      <td>1 days</td>\n",
       "      <td>4.0</td>\n",
       "    </tr>\n",
       "    <tr>\n",
       "      <th>2610500</th>\n",
       "      <td>46.883534</td>\n",
       "      <td>7.576393</td>\n",
       "      <td>0</td>\n",
       "      <td>1 days</td>\n",
       "      <td>4.0</td>\n",
       "    </tr>\n",
       "    <tr>\n",
       "      <th>1203500</th>\n",
       "      <th>2660500</th>\n",
       "      <td>46.979808</td>\n",
       "      <td>8.233808</td>\n",
       "      <td>0</td>\n",
       "      <td>0 days</td>\n",
       "      <td>2.0</td>\n",
       "    </tr>\n",
       "    <tr>\n",
       "      <th>...</th>\n",
       "      <th>...</th>\n",
       "      <th>...</th>\n",
       "      <td>...</td>\n",
       "      <td>...</td>\n",
       "      <td>...</td>\n",
       "      <td>...</td>\n",
       "      <td>...</td>\n",
       "    </tr>\n",
       "    <tr>\n",
       "      <th rowspan=\"5\" valign=\"top\">2022-09-01</th>\n",
       "      <th rowspan=\"5\" valign=\"top\">1294500</th>\n",
       "      <th>2684500</th>\n",
       "      <td>47.795574</td>\n",
       "      <td>8.566370</td>\n",
       "      <td>0</td>\n",
       "      <td>0 days</td>\n",
       "      <td>0.0</td>\n",
       "    </tr>\n",
       "    <tr>\n",
       "      <th>2685500</th>\n",
       "      <td>47.795444</td>\n",
       "      <td>8.579714</td>\n",
       "      <td>0</td>\n",
       "      <td>0 days</td>\n",
       "      <td>0.0</td>\n",
       "    </tr>\n",
       "    <tr>\n",
       "      <th>2686500</th>\n",
       "      <td>47.795312</td>\n",
       "      <td>8.593059</td>\n",
       "      <td>0</td>\n",
       "      <td>0 days</td>\n",
       "      <td>0.0</td>\n",
       "    </tr>\n",
       "    <tr>\n",
       "      <th>2687500</th>\n",
       "      <td>47.795179</td>\n",
       "      <td>8.606403</td>\n",
       "      <td>0</td>\n",
       "      <td>0 days</td>\n",
       "      <td>0.0</td>\n",
       "    </tr>\n",
       "    <tr>\n",
       "      <th>2690500</th>\n",
       "      <td>47.794771</td>\n",
       "      <td>8.646434</td>\n",
       "      <td>0</td>\n",
       "      <td>0 days</td>\n",
       "      <td>0.0</td>\n",
       "    </tr>\n",
       "  </tbody>\n",
       "</table>\n",
       "<p>834005 rows × 5 columns</p>\n",
       "</div>"
      ],
      "text/plain": [
       "                                  lat       lon  swiss_coordinates haildays  \\\n",
       "time       chy     chx                                                        \n",
       "2002-04-01 1182500 2634500  46.792770  7.890503                  0   0 days   \n",
       "           1187500 2610500  46.838557  7.576278                  0   0 days   \n",
       "           1192500 2609500  46.883549  7.563273                  0   1 days   \n",
       "                   2610500  46.883534  7.576393                  0   1 days   \n",
       "           1203500 2660500  46.979808  8.233808                  0   0 days   \n",
       "...                               ...       ...                ...      ...   \n",
       "2022-09-01 1294500 2684500  47.795574  8.566370                  0   0 days   \n",
       "                   2685500  47.795444  8.579714                  0   0 days   \n",
       "                   2686500  47.795312  8.593059                  0   0 days   \n",
       "                   2687500  47.795179  8.606403                  0   0 days   \n",
       "                   2690500  47.794771  8.646434                  0   0 days   \n",
       "\n",
       "                            hailsize  \n",
       "time       chy     chx                \n",
       "2002-04-01 1182500 2634500       2.0  \n",
       "           1187500 2610500       2.5  \n",
       "           1192500 2609500       4.0  \n",
       "                   2610500       4.0  \n",
       "           1203500 2660500       2.0  \n",
       "...                              ...  \n",
       "2022-09-01 1294500 2684500       0.0  \n",
       "                   2685500       0.0  \n",
       "                   2686500       0.0  \n",
       "                   2687500       0.0  \n",
       "                   2690500       0.0  \n",
       "\n",
       "[834005 rows x 5 columns]"
      ]
     },
     "execution_count": 16,
     "metadata": {},
     "output_type": "execute_result"
    }
   ],
   "source": [
    "df_hail = df_hail[~df_hail.haildays.isna()]\n",
    "df_hail = df_hail[~df_hail.hailsize.isna()]\n",
    "df_hail"
   ]
  },
  {
   "cell_type": "markdown",
   "id": "4f435205-59e0-44e4-a4de-999fcdb3a5ad",
   "metadata": {
    "tags": []
   },
   "source": [
    "#### Entfernen des `chy` und `chx` Level vom Multiindex (werden nicht benötigt, da latitude und longitude Daten vorhanden)"
   ]
  },
  {
   "cell_type": "code",
   "execution_count": 17,
   "id": "f8a26cc9-b33c-4dd8-ac7f-8d406044c477",
   "metadata": {
    "tags": []
   },
   "outputs": [
    {
     "data": {
      "text/html": [
       "<div>\n",
       "<style scoped>\n",
       "    .dataframe tbody tr th:only-of-type {\n",
       "        vertical-align: middle;\n",
       "    }\n",
       "\n",
       "    .dataframe tbody tr th {\n",
       "        vertical-align: top;\n",
       "    }\n",
       "\n",
       "    .dataframe thead th {\n",
       "        text-align: right;\n",
       "    }\n",
       "</style>\n",
       "<table border=\"1\" class=\"dataframe\">\n",
       "  <thead>\n",
       "    <tr style=\"text-align: right;\">\n",
       "      <th></th>\n",
       "      <th>lat</th>\n",
       "      <th>lon</th>\n",
       "      <th>swiss_coordinates</th>\n",
       "      <th>haildays</th>\n",
       "      <th>hailsize</th>\n",
       "    </tr>\n",
       "    <tr>\n",
       "      <th>time</th>\n",
       "      <th></th>\n",
       "      <th></th>\n",
       "      <th></th>\n",
       "      <th></th>\n",
       "      <th></th>\n",
       "    </tr>\n",
       "  </thead>\n",
       "  <tbody>\n",
       "    <tr>\n",
       "      <th>2002-04-01</th>\n",
       "      <td>46.792770</td>\n",
       "      <td>7.890503</td>\n",
       "      <td>0</td>\n",
       "      <td>0 days</td>\n",
       "      <td>2.0</td>\n",
       "    </tr>\n",
       "    <tr>\n",
       "      <th>2002-04-01</th>\n",
       "      <td>46.838557</td>\n",
       "      <td>7.576278</td>\n",
       "      <td>0</td>\n",
       "      <td>0 days</td>\n",
       "      <td>2.5</td>\n",
       "    </tr>\n",
       "    <tr>\n",
       "      <th>2002-04-01</th>\n",
       "      <td>46.883549</td>\n",
       "      <td>7.563273</td>\n",
       "      <td>0</td>\n",
       "      <td>1 days</td>\n",
       "      <td>4.0</td>\n",
       "    </tr>\n",
       "    <tr>\n",
       "      <th>2002-04-01</th>\n",
       "      <td>46.883534</td>\n",
       "      <td>7.576393</td>\n",
       "      <td>0</td>\n",
       "      <td>1 days</td>\n",
       "      <td>4.0</td>\n",
       "    </tr>\n",
       "    <tr>\n",
       "      <th>2002-04-01</th>\n",
       "      <td>46.979808</td>\n",
       "      <td>8.233808</td>\n",
       "      <td>0</td>\n",
       "      <td>0 days</td>\n",
       "      <td>2.0</td>\n",
       "    </tr>\n",
       "    <tr>\n",
       "      <th>...</th>\n",
       "      <td>...</td>\n",
       "      <td>...</td>\n",
       "      <td>...</td>\n",
       "      <td>...</td>\n",
       "      <td>...</td>\n",
       "    </tr>\n",
       "    <tr>\n",
       "      <th>2022-09-01</th>\n",
       "      <td>47.795574</td>\n",
       "      <td>8.566370</td>\n",
       "      <td>0</td>\n",
       "      <td>0 days</td>\n",
       "      <td>0.0</td>\n",
       "    </tr>\n",
       "    <tr>\n",
       "      <th>2022-09-01</th>\n",
       "      <td>47.795444</td>\n",
       "      <td>8.579714</td>\n",
       "      <td>0</td>\n",
       "      <td>0 days</td>\n",
       "      <td>0.0</td>\n",
       "    </tr>\n",
       "    <tr>\n",
       "      <th>2022-09-01</th>\n",
       "      <td>47.795312</td>\n",
       "      <td>8.593059</td>\n",
       "      <td>0</td>\n",
       "      <td>0 days</td>\n",
       "      <td>0.0</td>\n",
       "    </tr>\n",
       "    <tr>\n",
       "      <th>2022-09-01</th>\n",
       "      <td>47.795179</td>\n",
       "      <td>8.606403</td>\n",
       "      <td>0</td>\n",
       "      <td>0 days</td>\n",
       "      <td>0.0</td>\n",
       "    </tr>\n",
       "    <tr>\n",
       "      <th>2022-09-01</th>\n",
       "      <td>47.794771</td>\n",
       "      <td>8.646434</td>\n",
       "      <td>0</td>\n",
       "      <td>0 days</td>\n",
       "      <td>0.0</td>\n",
       "    </tr>\n",
       "  </tbody>\n",
       "</table>\n",
       "<p>834005 rows × 5 columns</p>\n",
       "</div>"
      ],
      "text/plain": [
       "                  lat       lon  swiss_coordinates haildays  hailsize\n",
       "time                                                                 \n",
       "2002-04-01  46.792770  7.890503                  0   0 days       2.0\n",
       "2002-04-01  46.838557  7.576278                  0   0 days       2.5\n",
       "2002-04-01  46.883549  7.563273                  0   1 days       4.0\n",
       "2002-04-01  46.883534  7.576393                  0   1 days       4.0\n",
       "2002-04-01  46.979808  8.233808                  0   0 days       2.0\n",
       "...               ...       ...                ...      ...       ...\n",
       "2022-09-01  47.795574  8.566370                  0   0 days       0.0\n",
       "2022-09-01  47.795444  8.579714                  0   0 days       0.0\n",
       "2022-09-01  47.795312  8.593059                  0   0 days       0.0\n",
       "2022-09-01  47.795179  8.606403                  0   0 days       0.0\n",
       "2022-09-01  47.794771  8.646434                  0   0 days       0.0\n",
       "\n",
       "[834005 rows x 5 columns]"
      ]
     },
     "execution_count": 17,
     "metadata": {},
     "output_type": "execute_result"
    }
   ],
   "source": [
    "df_hail.index = df_hail.index.droplevel([1, 2])\n",
    "df_hail"
   ]
  },
  {
   "cell_type": "markdown",
   "id": "e8783eef-8905-4d02-ad52-28f5927268db",
   "metadata": {},
   "source": [
    "#### Konvertierung der Spalte `haildays` zu Integer"
   ]
  },
  {
   "cell_type": "code",
   "execution_count": 18,
   "id": "bad41dd7-3bd4-4f8e-81a3-d250f18573ff",
   "metadata": {
    "tags": []
   },
   "outputs": [],
   "source": [
    "df_hail[\"haildays\"] = df_hail[\"haildays\"].apply(lambda x: x.days)"
   ]
  },
  {
   "cell_type": "code",
   "execution_count": null,
   "id": "952b7400-63dc-487b-8c4a-758733de6af1",
   "metadata": {},
   "outputs": [],
   "source": []
  },
  {
   "cell_type": "code",
   "execution_count": null,
   "id": "d2ba5640-b467-425c-8368-4a45b7c22f25",
   "metadata": {},
   "outputs": [],
   "source": []
  },
  {
   "cell_type": "markdown",
   "id": "6dbc77b0-7ec7-487d-a5d8-89b7ccab5df7",
   "metadata": {},
   "source": [
    "<a id=\"enrichment\"></a>\n",
    "## 0.3 Anreicherung der Daten"
   ]
  },
  {
   "cell_type": "markdown",
   "id": "6b3a047b-5d53-4191-b498-66326e93d085",
   "metadata": {},
   "source": [
    "#### get `country`, `state` and `district` from `lon` and `lat` data via reverse geocoding"
   ]
  },
  {
   "cell_type": "code",
   "execution_count": 19,
   "id": "3e4cb8ca-a96b-4e55-b501-492a89e56861",
   "metadata": {
    "tags": []
   },
   "outputs": [
    {
     "name": "stdout",
     "output_type": "stream",
     "text": [
      "Requirement already satisfied: reverse_geocoder in /opt/conda/lib/python3.10/site-packages (1.5.1)\n",
      "Requirement already satisfied: numpy>=1.11.0 in /opt/conda/lib/python3.10/site-packages (from reverse_geocoder) (1.23.5)\n",
      "Requirement already satisfied: scipy>=0.17.1 in /opt/conda/lib/python3.10/site-packages (from reverse_geocoder) (1.10.0)\n"
     ]
    }
   ],
   "source": [
    "! pip install reverse_geocoder"
   ]
  },
  {
   "cell_type": "code",
   "execution_count": 20,
   "id": "854d5ada-cc67-4811-8b77-8e8d177f81af",
   "metadata": {
    "tags": []
   },
   "outputs": [],
   "source": [
    "# offline reverse geocoding\n",
    "import reverse_geocoder as rg"
   ]
  },
  {
   "cell_type": "code",
   "execution_count": 21,
   "id": "c4e21003-20e8-4dcf-9886-796ce5eeacd8",
   "metadata": {
    "tags": []
   },
   "outputs": [
    {
     "data": {
      "text/plain": [
       "[(46.79276983427726, 7.89050251215368),\n",
       " (46.83855727394842, 7.576277711422013),\n",
       " (46.8835488838835, 7.563273230080763),\n",
       " (46.883533848175176, 7.576392784422012),\n",
       " (46.97980750155872, 8.233807894747848),\n",
       " (47.123720558995366, 8.235943565721179),\n",
       " (47.13280560839907, 8.222897425223264),\n",
       " (45.99131559201031, 8.993820151171182),\n",
       " (45.99113660467614, 9.006722672539098),\n",
       " (45.99095613810782, 9.019625105617015)]"
      ]
     },
     "execution_count": 21,
     "metadata": {},
     "output_type": "execute_result"
    }
   ],
   "source": [
    "coordinates = [(x, y) for x, y in zip(df_hail[\"lat\"], df_hail[\"lon\"])]\n",
    "coordinates[0:10]"
   ]
  },
  {
   "cell_type": "code",
   "execution_count": 22,
   "id": "68ed7cda-922b-499d-a53a-b4191bacd2ea",
   "metadata": {
    "tags": []
   },
   "outputs": [
    {
     "name": "stdout",
     "output_type": "stream",
     "text": [
      "Loading formatted geocoded file...\n"
     ]
    }
   ],
   "source": [
    "reverse_geocoding_results = rg.search(tuple(coordinates))"
   ]
  },
  {
   "cell_type": "code",
   "execution_count": 23,
   "id": "09388e15-2293-45c3-84ae-e44c5b4d6af5",
   "metadata": {
    "tags": []
   },
   "outputs": [
    {
     "data": {
      "text/plain": [
       "[{'lat': '46.81667',\n",
       "  'lon': '7.85',\n",
       "  'name': 'Wald',\n",
       "  'admin1': 'Bern',\n",
       "  'admin2': 'Emmental District',\n",
       "  'cc': 'CH'},\n",
       " {'lat': '46.8501',\n",
       "  'lon': '7.57748',\n",
       "  'name': 'Niederwichtrach',\n",
       "  'admin1': 'Bern',\n",
       "  'admin2': 'Bern-Mittelland District',\n",
       "  'cc': 'CH'},\n",
       " {'lat': '46.87298',\n",
       "  'lon': '7.561',\n",
       "  'name': 'Munsingen',\n",
       "  'admin1': 'Bern',\n",
       "  'admin2': 'Bern-Mittelland District',\n",
       "  'cc': 'CH'}]"
      ]
     },
     "execution_count": 23,
     "metadata": {},
     "output_type": "execute_result"
    }
   ],
   "source": [
    "reverse_geocoding_results[0:3]"
   ]
  },
  {
   "cell_type": "code",
   "execution_count": 24,
   "id": "ca15daf8-2569-4b3c-b449-88815b0a9b56",
   "metadata": {
    "tags": []
   },
   "outputs": [
    {
     "data": {
      "text/html": [
       "<div>\n",
       "<style scoped>\n",
       "    .dataframe tbody tr th:only-of-type {\n",
       "        vertical-align: middle;\n",
       "    }\n",
       "\n",
       "    .dataframe tbody tr th {\n",
       "        vertical-align: top;\n",
       "    }\n",
       "\n",
       "    .dataframe thead th {\n",
       "        text-align: right;\n",
       "    }\n",
       "</style>\n",
       "<table border=\"1\" class=\"dataframe\">\n",
       "  <thead>\n",
       "    <tr style=\"text-align: right;\">\n",
       "      <th></th>\n",
       "      <th>time</th>\n",
       "      <th>lat</th>\n",
       "      <th>lon</th>\n",
       "      <th>swiss_coordinates</th>\n",
       "      <th>haildays</th>\n",
       "      <th>hailsize</th>\n",
       "      <th>canton</th>\n",
       "      <th>district</th>\n",
       "      <th>country</th>\n",
       "    </tr>\n",
       "  </thead>\n",
       "  <tbody>\n",
       "    <tr>\n",
       "      <th>0</th>\n",
       "      <td>2002-04-01</td>\n",
       "      <td>46.792770</td>\n",
       "      <td>7.890503</td>\n",
       "      <td>0</td>\n",
       "      <td>0</td>\n",
       "      <td>2.0</td>\n",
       "      <td>Bern</td>\n",
       "      <td>Emmental District</td>\n",
       "      <td>CH</td>\n",
       "    </tr>\n",
       "    <tr>\n",
       "      <th>1</th>\n",
       "      <td>2002-04-01</td>\n",
       "      <td>46.838557</td>\n",
       "      <td>7.576278</td>\n",
       "      <td>0</td>\n",
       "      <td>0</td>\n",
       "      <td>2.5</td>\n",
       "      <td>Bern</td>\n",
       "      <td>Bern-Mittelland District</td>\n",
       "      <td>CH</td>\n",
       "    </tr>\n",
       "    <tr>\n",
       "      <th>2</th>\n",
       "      <td>2002-04-01</td>\n",
       "      <td>46.883549</td>\n",
       "      <td>7.563273</td>\n",
       "      <td>0</td>\n",
       "      <td>1</td>\n",
       "      <td>4.0</td>\n",
       "      <td>Bern</td>\n",
       "      <td>Bern-Mittelland District</td>\n",
       "      <td>CH</td>\n",
       "    </tr>\n",
       "    <tr>\n",
       "      <th>3</th>\n",
       "      <td>2002-04-01</td>\n",
       "      <td>46.883534</td>\n",
       "      <td>7.576393</td>\n",
       "      <td>0</td>\n",
       "      <td>1</td>\n",
       "      <td>4.0</td>\n",
       "      <td>Bern</td>\n",
       "      <td>Bern-Mittelland District</td>\n",
       "      <td>CH</td>\n",
       "    </tr>\n",
       "    <tr>\n",
       "      <th>4</th>\n",
       "      <td>2002-04-01</td>\n",
       "      <td>46.979808</td>\n",
       "      <td>8.233808</td>\n",
       "      <td>0</td>\n",
       "      <td>0</td>\n",
       "      <td>2.0</td>\n",
       "      <td>Obwalden</td>\n",
       "      <td>Obwalden</td>\n",
       "      <td>CH</td>\n",
       "    </tr>\n",
       "  </tbody>\n",
       "</table>\n",
       "</div>"
      ],
      "text/plain": [
       "        time        lat       lon  swiss_coordinates  haildays  hailsize  \\\n",
       "0 2002-04-01  46.792770  7.890503                  0         0       2.0   \n",
       "1 2002-04-01  46.838557  7.576278                  0         0       2.5   \n",
       "2 2002-04-01  46.883549  7.563273                  0         1       4.0   \n",
       "3 2002-04-01  46.883534  7.576393                  0         1       4.0   \n",
       "4 2002-04-01  46.979808  8.233808                  0         0       2.0   \n",
       "\n",
       "     canton                  district country  \n",
       "0      Bern         Emmental District      CH  \n",
       "1      Bern  Bern-Mittelland District      CH  \n",
       "2      Bern  Bern-Mittelland District      CH  \n",
       "3      Bern  Bern-Mittelland District      CH  \n",
       "4  Obwalden                  Obwalden      CH  "
      ]
     },
     "execution_count": 24,
     "metadata": {},
     "output_type": "execute_result"
    }
   ],
   "source": [
    "df_hail[\"canton\"] = np.array([x[\"admin1\"] for x in reverse_geocoding_results])\n",
    "df_hail[\"district\"] = np.array([x[\"admin2\"] for x in reverse_geocoding_results])\n",
    "df_hail[\"country\"] = np.array([x[\"cc\"] for x in reverse_geocoding_results])\n",
    "df_hail = df_hail.reset_index()\n",
    "df_hail.head()"
   ]
  },
  {
   "cell_type": "markdown",
   "id": "23d42342-bf2c-43eb-9eb1-485021c2668b",
   "metadata": {},
   "source": [
    "#### Anwendung eines Kanton Mappings und Entfernen der Datenpunkte ausserhalb der Schweiz"
   ]
  },
  {
   "cell_type": "code",
   "execution_count": 25,
   "id": "95e91b2e-ebd4-48dc-8030-63dfabefba86",
   "metadata": {
    "tags": []
   },
   "outputs": [
    {
     "data": {
      "text/plain": [
       "array(['CH', 'IT', 'FR', 'AT', 'DE', 'LI'], dtype=object)"
      ]
     },
     "execution_count": 25,
     "metadata": {},
     "output_type": "execute_result"
    }
   ],
   "source": [
    "df_hail[\"country\"].unique()"
   ]
  },
  {
   "cell_type": "code",
   "execution_count": 26,
   "id": "d24d874c-c37c-4293-aa2f-c3a90c58617c",
   "metadata": {
    "tags": []
   },
   "outputs": [],
   "source": [
    "canton_mapping = {\n",
    "    \"Zurich\": \"ZH\",\n",
    "    \"Bern\": \"BE\",\n",
    "    \"Lucerne\": \"LU\",\n",
    "    \"Uri\": \"UR\",\n",
    "    \"Schwyz\": \"SZ\",\n",
    "    \"Obwalden\": \"OW\",\n",
    "    \"Nidwalden\": \"NW\",\n",
    "    \"Glarus\": \"GL\",\n",
    "    \"Zug\": \"ZG\",\n",
    "    \"Fribourg\": \"FR\",\n",
    "    \"Solothurn\": \"SO\",\n",
    "    \"Basel-City\": \"BS\",\n",
    "    \"Basel-Landschaft\": \"BL\",\n",
    "    \"Schaffhausen\": \"SH\",\n",
    "    \"Appenzell Ausserrhoden\": \"AR\",\n",
    "    \"Appenzell Innerrhoden\": \"AI\",\n",
    "    \"Saint Gallen\": \"SG\",\n",
    "    \"Grisons\": \"GR\",\n",
    "    \"Aargau\": \"AG\",\n",
    "    \"Thurgau\": \"TG\",\n",
    "    \"Ticino\": \"TI\",\n",
    "    \"Vaud\": \"VD\",\n",
    "    \"Valais\": \"VS\",\n",
    "    \"Neuchatel\": \"NE\",\n",
    "    \"Geneva\": \"GE\",\n",
    "    \"Jura\": \"JU\",\n",
    "}"
   ]
  },
  {
   "cell_type": "code",
   "execution_count": 27,
   "id": "e98e41a1-5545-4a3f-8199-7899e24e17a3",
   "metadata": {
    "tags": []
   },
   "outputs": [
    {
     "data": {
      "text/plain": [
       "{'Alsace',\n",
       " 'Aosta Valley',\n",
       " 'Baden-Wuerttemberg',\n",
       " 'Balzers',\n",
       " 'Franche-Comte',\n",
       " 'Gamprin',\n",
       " 'Lombardy',\n",
       " 'Piedmont',\n",
       " 'Rhone-Alpes',\n",
       " 'Ruggell',\n",
       " 'Trentino-Alto Adige',\n",
       " 'Tyrol',\n",
       " 'Vorarlberg'}"
      ]
     },
     "execution_count": 27,
     "metadata": {},
     "output_type": "execute_result"
    }
   ],
   "source": [
    "set(df_hail[\"canton\"].unique()) - set(canton_mapping.keys())"
   ]
  },
  {
   "cell_type": "code",
   "execution_count": 28,
   "id": "10932f89-c903-4fc2-b9fa-db73040bd73a",
   "metadata": {
    "tags": []
   },
   "outputs": [
    {
     "data": {
      "text/plain": [
       "array(['CH'], dtype=object)"
      ]
     },
     "execution_count": 28,
     "metadata": {},
     "output_type": "execute_result"
    }
   ],
   "source": [
    "df_hail = df_hail[df_hail[\"canton\"].isin(canton_mapping.keys())]\n",
    "df_hail = df_hail.replace({\"canton\": canton_mapping})\n",
    "df_hail[\"country\"].unique()"
   ]
  },
  {
   "cell_type": "markdown",
   "id": "1013c6a0-df95-4920-8d96-db0b43232d97",
   "metadata": {},
   "source": [
    "#### Hinzufügen von separaten Spalten für Monat und Jahr"
   ]
  },
  {
   "cell_type": "code",
   "execution_count": 29,
   "id": "8d5bfb05-894d-45b5-ae2c-12ca12743ce0",
   "metadata": {
    "tags": []
   },
   "outputs": [],
   "source": [
    "df_hail[\"year\"] = df_hail[\"time\"].apply(lambda x: x.year)\n",
    "df_hail[\"month\"] = df_hail[\"time\"].apply(lambda x: x.month)"
   ]
  },
  {
   "cell_type": "markdown",
   "id": "71e85326-56c7-4645-bf4a-be9080bd0e4a",
   "metadata": {},
   "source": [
    "#### Entfernen von unnötigen Spalten (`swiss_coordinates`, `district`, `country`)"
   ]
  },
  {
   "cell_type": "code",
   "execution_count": 30,
   "id": "32a42b53-ba00-47e2-8b9c-1d178fe9dd10",
   "metadata": {
    "tags": []
   },
   "outputs": [],
   "source": [
    "df_hail = df_hail.drop([\"swiss_coordinates\", \"district\", \"country\"], axis=1)"
   ]
  },
  {
   "cell_type": "markdown",
   "id": "79a79c73-27bf-43ef-8975-14419d6cd0bb",
   "metadata": {},
   "source": [
    "#### Umordnung der Spalten in schönerer Reihenfolge"
   ]
  },
  {
   "cell_type": "code",
   "execution_count": 31,
   "id": "27f2e704-06e7-4078-abdb-458ce1c685b9",
   "metadata": {
    "tags": []
   },
   "outputs": [
    {
     "data": {
      "text/html": [
       "<div>\n",
       "<style scoped>\n",
       "    .dataframe tbody tr th:only-of-type {\n",
       "        vertical-align: middle;\n",
       "    }\n",
       "\n",
       "    .dataframe tbody tr th {\n",
       "        vertical-align: top;\n",
       "    }\n",
       "\n",
       "    .dataframe thead th {\n",
       "        text-align: right;\n",
       "    }\n",
       "</style>\n",
       "<table border=\"1\" class=\"dataframe\">\n",
       "  <thead>\n",
       "    <tr style=\"text-align: right;\">\n",
       "      <th></th>\n",
       "      <th>time</th>\n",
       "      <th>year</th>\n",
       "      <th>month</th>\n",
       "      <th>lat</th>\n",
       "      <th>lon</th>\n",
       "      <th>canton</th>\n",
       "      <th>haildays</th>\n",
       "      <th>hailsize</th>\n",
       "    </tr>\n",
       "  </thead>\n",
       "  <tbody>\n",
       "    <tr>\n",
       "      <th>0</th>\n",
       "      <td>2002-04-01</td>\n",
       "      <td>2002</td>\n",
       "      <td>4</td>\n",
       "      <td>46.792770</td>\n",
       "      <td>7.890503</td>\n",
       "      <td>BE</td>\n",
       "      <td>0</td>\n",
       "      <td>2.0</td>\n",
       "    </tr>\n",
       "    <tr>\n",
       "      <th>1</th>\n",
       "      <td>2002-04-01</td>\n",
       "      <td>2002</td>\n",
       "      <td>4</td>\n",
       "      <td>46.838557</td>\n",
       "      <td>7.576278</td>\n",
       "      <td>BE</td>\n",
       "      <td>0</td>\n",
       "      <td>2.5</td>\n",
       "    </tr>\n",
       "    <tr>\n",
       "      <th>2</th>\n",
       "      <td>2002-04-01</td>\n",
       "      <td>2002</td>\n",
       "      <td>4</td>\n",
       "      <td>46.883549</td>\n",
       "      <td>7.563273</td>\n",
       "      <td>BE</td>\n",
       "      <td>1</td>\n",
       "      <td>4.0</td>\n",
       "    </tr>\n",
       "    <tr>\n",
       "      <th>3</th>\n",
       "      <td>2002-04-01</td>\n",
       "      <td>2002</td>\n",
       "      <td>4</td>\n",
       "      <td>46.883534</td>\n",
       "      <td>7.576393</td>\n",
       "      <td>BE</td>\n",
       "      <td>1</td>\n",
       "      <td>4.0</td>\n",
       "    </tr>\n",
       "    <tr>\n",
       "      <th>4</th>\n",
       "      <td>2002-04-01</td>\n",
       "      <td>2002</td>\n",
       "      <td>4</td>\n",
       "      <td>46.979808</td>\n",
       "      <td>8.233808</td>\n",
       "      <td>OW</td>\n",
       "      <td>0</td>\n",
       "      <td>2.0</td>\n",
       "    </tr>\n",
       "  </tbody>\n",
       "</table>\n",
       "</div>"
      ],
      "text/plain": [
       "        time  year  month        lat       lon canton  haildays  hailsize\n",
       "0 2002-04-01  2002      4  46.792770  7.890503     BE         0       2.0\n",
       "1 2002-04-01  2002      4  46.838557  7.576278     BE         0       2.5\n",
       "2 2002-04-01  2002      4  46.883549  7.563273     BE         1       4.0\n",
       "3 2002-04-01  2002      4  46.883534  7.576393     BE         1       4.0\n",
       "4 2002-04-01  2002      4  46.979808  8.233808     OW         0       2.0"
      ]
     },
     "execution_count": 31,
     "metadata": {},
     "output_type": "execute_result"
    }
   ],
   "source": [
    "columns = [\"time\", \"year\", \"month\", \"lat\", \"lon\", \"canton\", \"haildays\", \"hailsize\"]\n",
    "df_hail = df_hail[columns]\n",
    "df_hail.head()"
   ]
  },
  {
   "cell_type": "code",
   "execution_count": null,
   "id": "4ca8f2bb-da4d-4beb-989c-e441d29e8b1f",
   "metadata": {},
   "outputs": [],
   "source": []
  },
  {
   "cell_type": "markdown",
   "id": "8f6ac242-f097-471c-ada0-4ae83b7f572d",
   "metadata": {},
   "source": [
    "<a id=\"dump\"></a>\n",
    "## 0.4 Speichern der Daten"
   ]
  },
  {
   "cell_type": "markdown",
   "id": "fccedc0c-72a8-486c-9303-ad6ab3fa29a1",
   "metadata": {},
   "source": [
    "#### Speichern der vorprozessierten Daten"
   ]
  },
  {
   "cell_type": "code",
   "execution_count": 32,
   "id": "b56fb49a-c0af-401f-9be6-9963d3bbc25d",
   "metadata": {
    "tags": []
   },
   "outputs": [],
   "source": [
    "df_hail.to_csv(processed_data_path / out_hail_data_file, sep=\",\", index=False)"
   ]
  },
  {
   "cell_type": "code",
   "execution_count": null,
   "id": "4f81dbea-fc48-4a8a-814c-269673fc0d23",
   "metadata": {},
   "outputs": [],
   "source": []
  },
  {
   "cell_type": "markdown",
   "id": "935a1beb-3dae-4eee-8927-be316f772c0e",
   "metadata": {
    "tags": []
   },
   "source": [
    "#### Speichern der vorprozessierten Daten mit zusätzlichen FIlter nach Hagelkorngrösse"
   ]
  },
  {
   "cell_type": "code",
   "execution_count": 33,
   "id": "b7ac304a-c087-4fc3-acb5-a4939b69482f",
   "metadata": {
    "tags": []
   },
   "outputs": [
    {
     "data": {
      "text/html": [
       "<div>\n",
       "<style scoped>\n",
       "    .dataframe tbody tr th:only-of-type {\n",
       "        vertical-align: middle;\n",
       "    }\n",
       "\n",
       "    .dataframe tbody tr th {\n",
       "        vertical-align: top;\n",
       "    }\n",
       "\n",
       "    .dataframe thead th {\n",
       "        text-align: right;\n",
       "    }\n",
       "</style>\n",
       "<table border=\"1\" class=\"dataframe\">\n",
       "  <thead>\n",
       "    <tr style=\"text-align: right;\">\n",
       "      <th></th>\n",
       "      <th>time</th>\n",
       "      <th>year</th>\n",
       "      <th>month</th>\n",
       "      <th>lat</th>\n",
       "      <th>lon</th>\n",
       "      <th>canton</th>\n",
       "      <th>haildays</th>\n",
       "      <th>hailsize</th>\n",
       "    </tr>\n",
       "  </thead>\n",
       "  <tbody>\n",
       "    <tr>\n",
       "      <th>2</th>\n",
       "      <td>2002-04-01</td>\n",
       "      <td>2002</td>\n",
       "      <td>4</td>\n",
       "      <td>46.883549</td>\n",
       "      <td>7.563273</td>\n",
       "      <td>BE</td>\n",
       "      <td>1</td>\n",
       "      <td>4.0</td>\n",
       "    </tr>\n",
       "    <tr>\n",
       "      <th>3</th>\n",
       "      <td>2002-04-01</td>\n",
       "      <td>2002</td>\n",
       "      <td>4</td>\n",
       "      <td>46.883534</td>\n",
       "      <td>7.576393</td>\n",
       "      <td>BE</td>\n",
       "      <td>1</td>\n",
       "      <td>4.0</td>\n",
       "    </tr>\n",
       "    <tr>\n",
       "      <th>11</th>\n",
       "      <td>2002-05-01</td>\n",
       "      <td>2002</td>\n",
       "      <td>5</td>\n",
       "      <td>46.082633</td>\n",
       "      <td>8.892995</td>\n",
       "      <td>TI</td>\n",
       "      <td>1</td>\n",
       "      <td>4.5</td>\n",
       "    </tr>\n",
       "    <tr>\n",
       "      <th>12</th>\n",
       "      <td>2002-05-01</td>\n",
       "      <td>2002</td>\n",
       "      <td>5</td>\n",
       "      <td>46.082465</td>\n",
       "      <td>8.905919</td>\n",
       "      <td>TI</td>\n",
       "      <td>1</td>\n",
       "      <td>4.5</td>\n",
       "    </tr>\n",
       "    <tr>\n",
       "      <th>13</th>\n",
       "      <td>2002-05-01</td>\n",
       "      <td>2002</td>\n",
       "      <td>5</td>\n",
       "      <td>46.091627</td>\n",
       "      <td>8.893235</td>\n",
       "      <td>TI</td>\n",
       "      <td>1</td>\n",
       "      <td>2.0</td>\n",
       "    </tr>\n",
       "  </tbody>\n",
       "</table>\n",
       "</div>"
      ],
      "text/plain": [
       "         time  year  month        lat       lon canton  haildays  hailsize\n",
       "2  2002-04-01  2002      4  46.883549  7.563273     BE         1       4.0\n",
       "3  2002-04-01  2002      4  46.883534  7.576393     BE         1       4.0\n",
       "11 2002-05-01  2002      5  46.082633  8.892995     TI         1       4.5\n",
       "12 2002-05-01  2002      5  46.082465  8.905919     TI         1       4.5\n",
       "13 2002-05-01  2002      5  46.091627  8.893235     TI         1       2.0"
      ]
     },
     "execution_count": 33,
     "metadata": {},
     "output_type": "execute_result"
    }
   ],
   "source": [
    "# minimale Hagelkorngrösse in cm\n",
    "min_hail_size = 2.0\n",
    "\n",
    "df_hail_filtered = df_hail[\n",
    "    (df_hail[\"haildays\"] > 0.0)\n",
    "    & (df_hail[\"hailsize\"] >= min_hail_size)\n",
    "]\n",
    "df_hail_filtered.head()"
   ]
  },
  {
   "cell_type": "code",
   "execution_count": 34,
   "id": "2b30fa4a-34ca-4bd3-8c10-73dd189ca33d",
   "metadata": {
    "tags": []
   },
   "outputs": [],
   "source": [
    "df_hail_filtered.to_csv(processed_data_path / out_hail_filtered_data_file, sep=\",\", index=False)"
   ]
  },
  {
   "cell_type": "code",
   "execution_count": null,
   "id": "db9b2803-ca4b-4908-b6b6-aa9ccfbc7ef7",
   "metadata": {},
   "outputs": [],
   "source": []
  }
 ],
 "metadata": {
  "kernelspec": {
   "display_name": "Python 3 (ipykernel)",
   "language": "python",
   "name": "python3"
  },
  "language_info": {
   "codemirror_mode": {
    "name": "ipython",
    "version": 3
   },
   "file_extension": ".py",
   "mimetype": "text/x-python",
   "name": "python",
   "nbconvert_exporter": "python",
   "pygments_lexer": "ipython3",
   "version": "3.10.9"
  }
 },
 "nbformat": 4,
 "nbformat_minor": 5
}
