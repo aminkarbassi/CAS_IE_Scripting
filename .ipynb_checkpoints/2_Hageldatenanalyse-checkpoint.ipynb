{
 "cells": [
  {
   "cell_type": "markdown",
   "id": "d51d02be-11a9-4fca-ab32-a78a4d6ee747",
   "metadata": {},
   "source": [
    "# 1. Hageldatenanalyse\n",
    "\n",
    "In diesem Notebook werden die Hageldaten, welche im vorherigen Notebook heruntergeladen und vorprozessiert wurden, ausgwertet.\n",
    "\n",
    "Es handelt sich dabei um Daten zur Anzahl der Hageltage sowie die maximal zu erwartende Hagelkorngrösse in den Sommermonaten (April-September) von 2002 bis 2022. Da Hagel und Hagelkorngrössen nicht flächendeckend am Boden gemessen werden können, wird ein Hageltag und die Grösse aus Radarmessungen abgeleitet. \n",
    "\n",
    "Ein Hageltag ist definiert als ein Tag, an dem aus den Radarmessungen auf eine hohe Wahrscheinlichkeit (80%) für Hagel am Boden geschlossen wurde, basierend auf dem Radar-Parameter POH (Probability of Hail).\n",
    "\n",
    "Analog wird die Grösse ebenfalls aus den Radarmessungen abgeleitet und beschreibt die maximal zu erwartende Hagelkorngrösse auf einem Quadaratkilometer basierend auf dem Radar-Parameter MESHS (Maximum Expected Severe Hail Size). Hagelkorngrössen sind in Klassen von 2 cm - grösser 6 cm in 0.5 cm Schritten angegeben, wobei das untere Ende inklusiv, das obere Ende exklusiv ist.\n",
    "\n",
    "\n",
    "\n",
    "* [1.1 Daten einlesen und Vorbearbeitung](#data_readin)\n",
    "\n",
    "* [1.2 Verteilung Hageltage und Hagelkorngrösse Schweiz](#distribution)\n",
    "\n",
    "* [1.3 Hagel Trends seit 2002](#trends)\n",
    "\n",
    "* [1.4 Hagelrisiko nach Monat und Kantone](#canton_month)"
   ]
  },
  {
   "cell_type": "code",
   "execution_count": 1,
   "id": "4108aa3b-8539-42d4-ae0c-9eb4e98ac1e1",
   "metadata": {
    "tags": []
   },
   "outputs": [
    {
     "name": "stdout",
     "output_type": "stream",
     "text": [
      "Defaulting to user installation because normal site-packages is not writeable\n",
      "Requirement already satisfied: matplotlib in /home/proshut/.local/lib/python3.10/site-packages (3.7.1)\n",
      "Requirement already satisfied: contourpy>=1.0.1 in /home/proshut/.local/lib/python3.10/site-packages (from matplotlib) (1.0.7)\n",
      "Requirement already satisfied: cycler>=0.10 in /usr/lib/python3/dist-packages (from matplotlib) (0.11.0)\n",
      "Requirement already satisfied: fonttools>=4.22.0 in /usr/lib/python3/dist-packages (from matplotlib) (4.29.1)\n",
      "Requirement already satisfied: kiwisolver>=1.0.1 in /usr/lib/python3/dist-packages (from matplotlib) (1.3.2)\n",
      "Requirement already satisfied: numpy>=1.20 in /usr/lib/python3/dist-packages (from matplotlib) (1.21.5)\n",
      "Requirement already satisfied: packaging>=20.0 in /usr/lib/python3/dist-packages (from matplotlib) (21.3)\n",
      "Requirement already satisfied: pillow>=6.2.0 in /usr/lib/python3/dist-packages (from matplotlib) (9.0.1)\n",
      "Requirement already satisfied: pyparsing>=2.3.1 in /usr/lib/python3/dist-packages (from matplotlib) (2.4.7)\n",
      "Requirement already satisfied: python-dateutil>=2.7 in /home/proshut/.local/lib/python3.10/site-packages (from matplotlib) (2.8.2)\n",
      "Requirement already satisfied: six>=1.5 in /usr/lib/python3/dist-packages (from python-dateutil>=2.7->matplotlib) (1.16.0)\n",
      "Defaulting to user installation because normal site-packages is not writeable\n",
      "Requirement already satisfied: plotly in /home/proshut/.local/lib/python3.10/site-packages (5.14.1)\n",
      "Requirement already satisfied: tenacity>=6.2.0 in /home/proshut/.local/lib/python3.10/site-packages (from plotly) (8.2.2)\n",
      "Requirement already satisfied: packaging in /usr/lib/python3/dist-packages (from plotly) (21.3)\n",
      "Defaulting to user installation because normal site-packages is not writeable\n",
      "Requirement already satisfied: folium in /home/proshut/.local/lib/python3.10/site-packages (0.14.0)\n",
      "Requirement already satisfied: branca>=0.6.0 in /home/proshut/.local/lib/python3.10/site-packages (from folium) (0.6.0)\n",
      "Requirement already satisfied: jinja2>=2.9 in /usr/lib/python3/dist-packages (from folium) (3.0.3)\n",
      "Requirement already satisfied: numpy in /usr/lib/python3/dist-packages (from folium) (1.21.5)\n",
      "Requirement already satisfied: requests in /home/proshut/.local/lib/python3.10/site-packages (from folium) (2.28.2)\n",
      "Requirement already satisfied: charset-normalizer<4,>=2 in /home/proshut/.local/lib/python3.10/site-packages (from requests->folium) (3.0.1)\n",
      "Requirement already satisfied: idna<4,>=2.5 in /usr/lib/python3/dist-packages (from requests->folium) (3.3)\n",
      "Requirement already satisfied: urllib3<1.27,>=1.21.1 in /usr/lib/python3/dist-packages (from requests->folium) (1.26.5)\n",
      "Requirement already satisfied: certifi>=2017.4.17 in /usr/lib/python3/dist-packages (from requests->folium) (2020.6.20)\n",
      "Defaulting to user installation because normal site-packages is not writeable\n",
      "Requirement already satisfied: geopandas in /home/proshut/.local/lib/python3.10/site-packages (0.12.2)\n",
      "Requirement already satisfied: pandas>=1.0.0 in /home/proshut/.local/lib/python3.10/site-packages (from geopandas) (1.5.3)\n",
      "Requirement already satisfied: shapely>=1.7 in /home/proshut/.local/lib/python3.10/site-packages (from geopandas) (2.0.1)\n",
      "Requirement already satisfied: fiona>=1.8 in /home/proshut/.local/lib/python3.10/site-packages (from geopandas) (1.9.3)\n",
      "Requirement already satisfied: pyproj>=2.6.1.post1 in /home/proshut/.local/lib/python3.10/site-packages (from geopandas) (3.5.0)\n",
      "Requirement already satisfied: packaging in /usr/lib/python3/dist-packages (from geopandas) (21.3)\n",
      "Requirement already satisfied: attrs>=19.2.0 in /usr/lib/python3/dist-packages (from fiona>=1.8->geopandas) (21.2.0)\n",
      "Requirement already satisfied: certifi in /usr/lib/python3/dist-packages (from fiona>=1.8->geopandas) (2020.6.20)\n",
      "Requirement already satisfied: click~=8.0 in /usr/lib/python3/dist-packages (from fiona>=1.8->geopandas) (8.0.3)\n",
      "Requirement already satisfied: click-plugins>=1.0 in /home/proshut/.local/lib/python3.10/site-packages (from fiona>=1.8->geopandas) (1.1.1)\n",
      "Requirement already satisfied: cligj>=0.5 in /home/proshut/.local/lib/python3.10/site-packages (from fiona>=1.8->geopandas) (0.7.2)\n",
      "Requirement already satisfied: munch>=2.3.2 in /home/proshut/.local/lib/python3.10/site-packages (from fiona>=1.8->geopandas) (2.5.0)\n",
      "Requirement already satisfied: python-dateutil>=2.8.1 in /home/proshut/.local/lib/python3.10/site-packages (from pandas>=1.0.0->geopandas) (2.8.2)\n",
      "Requirement already satisfied: pytz>=2020.1 in /usr/lib/python3/dist-packages (from pandas>=1.0.0->geopandas) (2022.1)\n",
      "Requirement already satisfied: numpy>=1.21.0 in /usr/lib/python3/dist-packages (from pandas>=1.0.0->geopandas) (1.21.5)\n",
      "Requirement already satisfied: six in /usr/lib/python3/dist-packages (from munch>=2.3.2->fiona>=1.8->geopandas) (1.16.0)\n",
      "Defaulting to user installation because normal site-packages is not writeable\n",
      "Requirement already satisfied: ipywidgets in /home/proshut/.local/lib/python3.10/site-packages (8.0.6)\n",
      "Requirement already satisfied: ipykernel>=4.5.1 in /usr/lib/python3/dist-packages (from ipywidgets) (6.7.0)\n",
      "Requirement already satisfied: ipython>=6.1.0 in /usr/lib/python3/dist-packages (from ipywidgets) (7.31.1)\n",
      "Requirement already satisfied: traitlets>=4.3.1 in /home/proshut/.local/lib/python3.10/site-packages (from ipywidgets) (5.9.0)\n",
      "Requirement already satisfied: widgetsnbextension~=4.0.7 in /home/proshut/.local/lib/python3.10/site-packages (from ipywidgets) (4.0.7)\n",
      "Requirement already satisfied: jupyterlab-widgets~=3.0.7 in /home/proshut/.local/lib/python3.10/site-packages (from ipywidgets) (3.0.7)\n",
      "Requirement already satisfied: debugpy<2.0,>=1.0.0 in /home/proshut/.local/lib/python3.10/site-packages (from ipykernel>=4.5.1->ipywidgets) (1.6.6)\n",
      "Defaulting to user installation because normal site-packages is not writeable\n",
      "Requirement already satisfied: branca in /home/proshut/.local/lib/python3.10/site-packages (0.6.0)\n",
      "Requirement already satisfied: jinja2 in /usr/lib/python3/dist-packages (from branca) (3.0.3)\n"
     ]
    }
   ],
   "source": [
    "! pip install matplotlib\n",
    "! pip install plotly\n",
    "! pip install folium\n",
    "! pip install geopandas\n",
    "! pip install ipywidgets\n",
    "! pip install branca"
   ]
  },
  {
   "cell_type": "markdown",
   "id": "aed660b0-164b-40ac-a1b4-515c5264887b",
   "metadata": {},
   "source": [
    "<a id=\"data_readin\"></a>\n",
    "## 1.1 Daten einlesen und Vorbearbeitung"
   ]
  },
  {
   "cell_type": "code",
   "execution_count": 2,
   "id": "6953d7b2-6823-4e2d-b234-17d85c26bd15",
   "metadata": {
    "tags": []
   },
   "outputs": [],
   "source": [
    "from pathlib import Path\n",
    "import pandas as pd\n",
    "import geopandas as gpd\n",
    "\n",
    "# Karte darstellen\n",
    "import folium\n",
    "from branca.colormap import linear\n",
    "\n",
    "# interaktive Plots\n",
    "import ipywidgets as widgets\n",
    "from ipywidgets import interactive\n",
    "from IPython.display import display\n",
    "\n",
    "# Plotting\n",
    "import matplotlib.pyplot as plt\n",
    "from mpl_toolkits.axes_grid1 import ImageGrid\n",
    "import plotly.express as px"
   ]
  },
  {
   "cell_type": "markdown",
   "id": "08e5443b-e463-437f-bd9a-86133bc86f9d",
   "metadata": {},
   "source": [
    "### 1.1.1 Einlesen der Hageldaten und der Schweizer Kantonsgrenzen"
   ]
  },
  {
   "cell_type": "code",
   "execution_count": 3,
   "id": "71cb5722-b4a1-4a77-adf8-cc86f1f1c411",
   "metadata": {
    "tags": []
   },
   "outputs": [],
   "source": [
    "# vorbereitete Hageldaten\n",
    "processed_data_path = Path(\"./data/processed\")\n",
    "hail_data_file = \"haildata_per_month.csv\"\n",
    "\n",
    "# Schweizer Kantone Shape file\n",
    "shape_path = Path(\"data\") / \"Swiss_shape_files\"\n",
    "shape_canton_file = \"swissBOUNDARIES3D_1_4_TLM_KANTONSGEBIET.shp\""
   ]
  },
  {
   "cell_type": "code",
   "execution_count": 4,
   "id": "33d6fe32-8b42-4030-af15-03dbd69b187f",
   "metadata": {
    "tags": []
   },
   "outputs": [
    {
     "data": {
      "text/html": [
       "<div>\n",
       "<style scoped>\n",
       "    .dataframe tbody tr th:only-of-type {\n",
       "        vertical-align: middle;\n",
       "    }\n",
       "\n",
       "    .dataframe tbody tr th {\n",
       "        vertical-align: top;\n",
       "    }\n",
       "\n",
       "    .dataframe thead th {\n",
       "        text-align: right;\n",
       "    }\n",
       "</style>\n",
       "<table border=\"1\" class=\"dataframe\">\n",
       "  <thead>\n",
       "    <tr style=\"text-align: right;\">\n",
       "      <th></th>\n",
       "      <th>time</th>\n",
       "      <th>year</th>\n",
       "      <th>month</th>\n",
       "      <th>lat</th>\n",
       "      <th>lon</th>\n",
       "      <th>canton</th>\n",
       "      <th>haildays</th>\n",
       "      <th>hailsize</th>\n",
       "    </tr>\n",
       "  </thead>\n",
       "  <tbody>\n",
       "    <tr>\n",
       "      <th>0</th>\n",
       "      <td>2002-04-01</td>\n",
       "      <td>2002</td>\n",
       "      <td>4</td>\n",
       "      <td>46.792770</td>\n",
       "      <td>7.890503</td>\n",
       "      <td>BE</td>\n",
       "      <td>0</td>\n",
       "      <td>2.0</td>\n",
       "    </tr>\n",
       "    <tr>\n",
       "      <th>1</th>\n",
       "      <td>2002-04-01</td>\n",
       "      <td>2002</td>\n",
       "      <td>4</td>\n",
       "      <td>46.838557</td>\n",
       "      <td>7.576278</td>\n",
       "      <td>BE</td>\n",
       "      <td>0</td>\n",
       "      <td>2.5</td>\n",
       "    </tr>\n",
       "    <tr>\n",
       "      <th>2</th>\n",
       "      <td>2002-04-01</td>\n",
       "      <td>2002</td>\n",
       "      <td>4</td>\n",
       "      <td>46.883549</td>\n",
       "      <td>7.563273</td>\n",
       "      <td>BE</td>\n",
       "      <td>1</td>\n",
       "      <td>4.0</td>\n",
       "    </tr>\n",
       "    <tr>\n",
       "      <th>3</th>\n",
       "      <td>2002-04-01</td>\n",
       "      <td>2002</td>\n",
       "      <td>4</td>\n",
       "      <td>46.883534</td>\n",
       "      <td>7.576393</td>\n",
       "      <td>BE</td>\n",
       "      <td>1</td>\n",
       "      <td>4.0</td>\n",
       "    </tr>\n",
       "    <tr>\n",
       "      <th>4</th>\n",
       "      <td>2002-04-01</td>\n",
       "      <td>2002</td>\n",
       "      <td>4</td>\n",
       "      <td>46.979808</td>\n",
       "      <td>8.233808</td>\n",
       "      <td>OW</td>\n",
       "      <td>0</td>\n",
       "      <td>2.0</td>\n",
       "    </tr>\n",
       "  </tbody>\n",
       "</table>\n",
       "</div>"
      ],
      "text/plain": [
       "         time  year  month        lat       lon canton  haildays  hailsize\n",
       "0  2002-04-01  2002      4  46.792770  7.890503     BE         0       2.0\n",
       "1  2002-04-01  2002      4  46.838557  7.576278     BE         0       2.5\n",
       "2  2002-04-01  2002      4  46.883549  7.563273     BE         1       4.0\n",
       "3  2002-04-01  2002      4  46.883534  7.576393     BE         1       4.0\n",
       "4  2002-04-01  2002      4  46.979808  8.233808     OW         0       2.0"
      ]
     },
     "execution_count": 4,
     "metadata": {},
     "output_type": "execute_result"
    }
   ],
   "source": [
    "# Einlesen des Shapefiles für Schweizer Kantone in ein GeoDataFrame\n",
    "cantons_gdf = gpd.read_file(shape_path / shape_canton_file)\n",
    "\n",
    "cantons = {\n",
    "    \"Zürich\": \"ZH\",\n",
    "    \"Bern\": \"BE\",\n",
    "    \"Luzern\": \"LU\",\n",
    "    \"Uri\": \"UR\",\n",
    "    \"Schwyz\": \"SZ\",\n",
    "    \"Obwalden\": \"OW\",\n",
    "    \"Nidwalden\": \"NW\",\n",
    "    \"Glarus\": \"GL\",\n",
    "    \"Zug\": \"ZG\",\n",
    "    \"Fribourg\": \"FR\",\n",
    "    \"Solothurn\": \"SO\",\n",
    "    \"Basel-Stadt\": \"BS\",\n",
    "    \"Basel-Landschaft\": \"BL\",\n",
    "    \"Schaffhausen\": \"SH\",\n",
    "    \"Appenzell Ausserrhoden\": \"AR\",\n",
    "    \"Appenzell Innerrhoden\": \"AI\",\n",
    "    \"St. Gallen\": \"SG\",\n",
    "    \"Graubünden\": \"GR\",\n",
    "    \"Aargau\": \"AG\",\n",
    "    \"Thurgau\": \"TG\",\n",
    "    \"Ticino\": \"TI\",\n",
    "    \"Vaud\": \"VD\",\n",
    "    \"Valais\": \"VS\",\n",
    "    \"Neuchâtel\": \"NE\",\n",
    "    \"Genève\": \"GE\",\n",
    "    \"Jura\": \"JU\"\n",
    "}\n",
    "canton_map = cantons_gdf.replace({\"NAME\": cantons})\n",
    "\n",
    "# Hageldaten einlesen\n",
    "df_hail = pd.read_csv(processed_data_path / hail_data_file, sep=\",\")\n",
    "df_hail.head()"
   ]
  },
  {
   "cell_type": "markdown",
   "id": "67898280-89f5-43c9-9cb9-8878b41509c0",
   "metadata": {},
   "source": [
    "### 1.1.2 Vorbereitung Hageldaten"
   ]
  },
  {
   "cell_type": "code",
   "execution_count": 5,
   "id": "9e4c22f1-a936-40ee-9411-00159b558952",
   "metadata": {
    "tags": []
   },
   "outputs": [
    {
     "data": {
      "text/html": [
       "<div>\n",
       "<style scoped>\n",
       "    .dataframe tbody tr th:only-of-type {\n",
       "        vertical-align: middle;\n",
       "    }\n",
       "\n",
       "    .dataframe tbody tr th {\n",
       "        vertical-align: top;\n",
       "    }\n",
       "\n",
       "    .dataframe thead th {\n",
       "        text-align: right;\n",
       "    }\n",
       "</style>\n",
       "<table border=\"1\" class=\"dataframe\">\n",
       "  <thead>\n",
       "    <tr style=\"text-align: right;\">\n",
       "      <th></th>\n",
       "      <th>time</th>\n",
       "      <th>year</th>\n",
       "      <th>month</th>\n",
       "      <th>lat</th>\n",
       "      <th>lon</th>\n",
       "      <th>canton</th>\n",
       "      <th>haildays</th>\n",
       "      <th>hailsize</th>\n",
       "      <th>lat_lon</th>\n",
       "      <th>haildays_times_hailsize</th>\n",
       "    </tr>\n",
       "  </thead>\n",
       "  <tbody>\n",
       "    <tr>\n",
       "      <th>0</th>\n",
       "      <td>2002-04-01</td>\n",
       "      <td>2002</td>\n",
       "      <td>4</td>\n",
       "      <td>46.792770</td>\n",
       "      <td>7.890503</td>\n",
       "      <td>BE</td>\n",
       "      <td>0</td>\n",
       "      <td>2.0</td>\n",
       "      <td>46.79276983427726_7.89050251215368</td>\n",
       "      <td>0.0</td>\n",
       "    </tr>\n",
       "    <tr>\n",
       "      <th>1</th>\n",
       "      <td>2002-04-01</td>\n",
       "      <td>2002</td>\n",
       "      <td>4</td>\n",
       "      <td>46.838557</td>\n",
       "      <td>7.576278</td>\n",
       "      <td>BE</td>\n",
       "      <td>0</td>\n",
       "      <td>2.5</td>\n",
       "      <td>46.83855727394842_7.576277711422013</td>\n",
       "      <td>0.0</td>\n",
       "    </tr>\n",
       "    <tr>\n",
       "      <th>2</th>\n",
       "      <td>2002-04-01</td>\n",
       "      <td>2002</td>\n",
       "      <td>4</td>\n",
       "      <td>46.883549</td>\n",
       "      <td>7.563273</td>\n",
       "      <td>BE</td>\n",
       "      <td>1</td>\n",
       "      <td>4.0</td>\n",
       "      <td>46.8835488838835_7.563273230080763</td>\n",
       "      <td>4.0</td>\n",
       "    </tr>\n",
       "    <tr>\n",
       "      <th>3</th>\n",
       "      <td>2002-04-01</td>\n",
       "      <td>2002</td>\n",
       "      <td>4</td>\n",
       "      <td>46.883534</td>\n",
       "      <td>7.576393</td>\n",
       "      <td>BE</td>\n",
       "      <td>1</td>\n",
       "      <td>4.0</td>\n",
       "      <td>46.883533848175176_7.576392784422012</td>\n",
       "      <td>4.0</td>\n",
       "    </tr>\n",
       "    <tr>\n",
       "      <th>4</th>\n",
       "      <td>2002-04-01</td>\n",
       "      <td>2002</td>\n",
       "      <td>4</td>\n",
       "      <td>46.979808</td>\n",
       "      <td>8.233808</td>\n",
       "      <td>OW</td>\n",
       "      <td>0</td>\n",
       "      <td>2.0</td>\n",
       "      <td>46.97980750155872_8.233807894747848</td>\n",
       "      <td>0.0</td>\n",
       "    </tr>\n",
       "  </tbody>\n",
       "</table>\n",
       "</div>"
      ],
      "text/plain": [
       "         time  year  month        lat       lon canton  haildays  hailsize  \\\n",
       "0  2002-04-01  2002      4  46.792770  7.890503     BE         0       2.0   \n",
       "1  2002-04-01  2002      4  46.838557  7.576278     BE         0       2.5   \n",
       "2  2002-04-01  2002      4  46.883549  7.563273     BE         1       4.0   \n",
       "3  2002-04-01  2002      4  46.883534  7.576393     BE         1       4.0   \n",
       "4  2002-04-01  2002      4  46.979808  8.233808     OW         0       2.0   \n",
       "\n",
       "                                lat_lon  haildays_times_hailsize  \n",
       "0    46.79276983427726_7.89050251215368                      0.0  \n",
       "1   46.83855727394842_7.576277711422013                      0.0  \n",
       "2    46.8835488838835_7.563273230080763                      4.0  \n",
       "3  46.883533848175176_7.576392784422012                      4.0  \n",
       "4   46.97980750155872_8.233807894747848                      0.0  "
      ]
     },
     "execution_count": 5,
     "metadata": {},
     "output_type": "execute_result"
    }
   ],
   "source": [
    "# Definieren einer neuen Spalte 'lat_lon', welche 'latitude' (Breitengrad) und 'longitude' (Längengrad) kombiniert darstellt\n",
    "df_hail[\"lat_lon\"] = df_hail[\"lat\"].astype(str) + \"_\" + df_hail[\"lon\"].astype(str)\n",
    "\n",
    "# Definition einer neuen Spalte 'haildays_times_hailsize', welche das Produkt aus maximal zu erwartender Hagelkorngrösse\n",
    "# und Anzahl der Hageltage je Monat und Messpunkt multipliziert\n",
    "df_hail[\"haildays_times_hailsize\"] = df_hail[\"haildays\"] * df_hail[\"hailsize\"]\n",
    "\n",
    "df_hail.head()"
   ]
  },
  {
   "cell_type": "code",
   "execution_count": 6,
   "id": "7f20fb5b-9dc1-40e3-8da3-344f45192ccf",
   "metadata": {
    "tags": []
   },
   "outputs": [
    {
     "data": {
      "text/html": [
       "<div>\n",
       "<style scoped>\n",
       "    .dataframe tbody tr th:only-of-type {\n",
       "        vertical-align: middle;\n",
       "    }\n",
       "\n",
       "    .dataframe tbody tr th {\n",
       "        vertical-align: top;\n",
       "    }\n",
       "\n",
       "    .dataframe thead th {\n",
       "        text-align: right;\n",
       "    }\n",
       "</style>\n",
       "<table border=\"1\" class=\"dataframe\">\n",
       "  <thead>\n",
       "    <tr style=\"text-align: right;\">\n",
       "      <th></th>\n",
       "      <th>time</th>\n",
       "      <th>year</th>\n",
       "      <th>month</th>\n",
       "      <th>lat</th>\n",
       "      <th>lon</th>\n",
       "      <th>canton</th>\n",
       "      <th>haildays</th>\n",
       "      <th>hailsize</th>\n",
       "      <th>lat_lon</th>\n",
       "      <th>haildays_times_hailsize</th>\n",
       "    </tr>\n",
       "  </thead>\n",
       "  <tbody>\n",
       "    <tr>\n",
       "      <th>2</th>\n",
       "      <td>2002-04-01</td>\n",
       "      <td>2002</td>\n",
       "      <td>4</td>\n",
       "      <td>46.883549</td>\n",
       "      <td>7.563273</td>\n",
       "      <td>BE</td>\n",
       "      <td>1</td>\n",
       "      <td>4.0</td>\n",
       "      <td>46.8835488838835_7.563273230080763</td>\n",
       "      <td>4.0</td>\n",
       "    </tr>\n",
       "    <tr>\n",
       "      <th>3</th>\n",
       "      <td>2002-04-01</td>\n",
       "      <td>2002</td>\n",
       "      <td>4</td>\n",
       "      <td>46.883534</td>\n",
       "      <td>7.576393</td>\n",
       "      <td>BE</td>\n",
       "      <td>1</td>\n",
       "      <td>4.0</td>\n",
       "      <td>46.883533848175176_7.576392784422012</td>\n",
       "      <td>4.0</td>\n",
       "    </tr>\n",
       "    <tr>\n",
       "      <th>7</th>\n",
       "      <td>2002-05-01</td>\n",
       "      <td>2002</td>\n",
       "      <td>5</td>\n",
       "      <td>46.082633</td>\n",
       "      <td>8.892995</td>\n",
       "      <td>TI</td>\n",
       "      <td>1</td>\n",
       "      <td>4.5</td>\n",
       "      <td>46.08263284472934_8.892994524612847</td>\n",
       "      <td>4.5</td>\n",
       "    </tr>\n",
       "    <tr>\n",
       "      <th>8</th>\n",
       "      <td>2002-05-01</td>\n",
       "      <td>2002</td>\n",
       "      <td>5</td>\n",
       "      <td>46.082465</td>\n",
       "      <td>8.905919</td>\n",
       "      <td>TI</td>\n",
       "      <td>1</td>\n",
       "      <td>4.5</td>\n",
       "      <td>46.08246541065184_8.90591903845743</td>\n",
       "      <td>4.5</td>\n",
       "    </tr>\n",
       "    <tr>\n",
       "      <th>9</th>\n",
       "      <td>2002-05-01</td>\n",
       "      <td>2002</td>\n",
       "      <td>5</td>\n",
       "      <td>46.091627</td>\n",
       "      <td>8.893235</td>\n",
       "      <td>TI</td>\n",
       "      <td>1</td>\n",
       "      <td>2.0</td>\n",
       "      <td>46.09162675454079_8.893234702737846</td>\n",
       "      <td>2.0</td>\n",
       "    </tr>\n",
       "  </tbody>\n",
       "</table>\n",
       "</div>"
      ],
      "text/plain": [
       "         time  year  month        lat       lon canton  haildays  hailsize  \\\n",
       "2  2002-04-01  2002      4  46.883549  7.563273     BE         1       4.0   \n",
       "3  2002-04-01  2002      4  46.883534  7.576393     BE         1       4.0   \n",
       "7  2002-05-01  2002      5  46.082633  8.892995     TI         1       4.5   \n",
       "8  2002-05-01  2002      5  46.082465  8.905919     TI         1       4.5   \n",
       "9  2002-05-01  2002      5  46.091627  8.893235     TI         1       2.0   \n",
       "\n",
       "                                lat_lon  haildays_times_hailsize  \n",
       "2    46.8835488838835_7.563273230080763                      4.0  \n",
       "3  46.883533848175176_7.576392784422012                      4.0  \n",
       "7   46.08263284472934_8.892994524612847                      4.5  \n",
       "8    46.08246541065184_8.90591903845743                      4.5  \n",
       "9   46.09162675454079_8.893234702737846                      2.0  "
      ]
     },
     "execution_count": 6,
     "metadata": {},
     "output_type": "execute_result"
    }
   ],
   "source": [
    "# Erzeugen eines Dataframes, welches nur Einträge mit 'haildays_times_hailsize' grösser 0.0 enthält\n",
    "# dieses wird benötigt um die mittlere maximal zu erwartende Hagelkorngrösse je Messpunkt zu bestimmen\n",
    "df_hailsize = df_hail[df_hail[\"haildays_times_hailsize\"] > 0.0]\n",
    "df_hailsize.head()"
   ]
  },
  {
   "cell_type": "code",
   "execution_count": 7,
   "id": "12b4134f-cc7d-4b49-a8ce-1d0d1735a136",
   "metadata": {
    "tags": []
   },
   "outputs": [
    {
     "data": {
      "text/html": [
       "<div>\n",
       "<style scoped>\n",
       "    .dataframe tbody tr th:only-of-type {\n",
       "        vertical-align: middle;\n",
       "    }\n",
       "\n",
       "    .dataframe tbody tr th {\n",
       "        vertical-align: top;\n",
       "    }\n",
       "\n",
       "    .dataframe thead th {\n",
       "        text-align: right;\n",
       "    }\n",
       "</style>\n",
       "<table border=\"1\" class=\"dataframe\">\n",
       "  <thead>\n",
       "    <tr style=\"text-align: right;\">\n",
       "      <th></th>\n",
       "      <th>canton</th>\n",
       "      <th>lat_lon</th>\n",
       "    </tr>\n",
       "  </thead>\n",
       "  <tbody>\n",
       "    <tr>\n",
       "      <th>0</th>\n",
       "      <td>AG</td>\n",
       "      <td>1381</td>\n",
       "    </tr>\n",
       "    <tr>\n",
       "      <th>1</th>\n",
       "      <td>AI</td>\n",
       "      <td>129</td>\n",
       "    </tr>\n",
       "    <tr>\n",
       "      <th>2</th>\n",
       "      <td>AR</td>\n",
       "      <td>278</td>\n",
       "    </tr>\n",
       "    <tr>\n",
       "      <th>3</th>\n",
       "      <td>BE</td>\n",
       "      <td>5988</td>\n",
       "    </tr>\n",
       "    <tr>\n",
       "      <th>4</th>\n",
       "      <td>BL</td>\n",
       "      <td>545</td>\n",
       "    </tr>\n",
       "  </tbody>\n",
       "</table>\n",
       "</div>"
      ],
      "text/plain": [
       "  canton  lat_lon\n",
       "0     AG     1381\n",
       "1     AI      129\n",
       "2     AR      278\n",
       "3     BE     5988\n",
       "4     BL      545"
      ]
     },
     "execution_count": 7,
     "metadata": {},
     "output_type": "execute_result"
    }
   ],
   "source": [
    "# Berechnung der Messpunkte pro Kanton (benötigt für Normierungszwecke)\n",
    "points_per_canton = df_hail.groupby(\"canton\")[\"lat_lon\"].nunique()\n",
    "points_per_canton = points_per_canton.reset_index()\n",
    "points_per_canton.head()"
   ]
  },
  {
   "cell_type": "code",
   "execution_count": 8,
   "id": "c0688622-2c41-4350-b54e-b871927bfaa0",
   "metadata": {
    "tags": []
   },
   "outputs": [
    {
     "name": "stdout",
     "output_type": "stream",
     "text": [
      "39059\n",
      "canton     AGAIARBEBLBSFRGEGLGRJULUNENWOWSGSHSOSZTGTIURVD...\n",
      "lat_lon                                                39059\n",
      "dtype: object\n"
     ]
    },
    {
     "data": {
      "text/plain": [
       "canton     False\n",
       "lat_lon     True\n",
       "dtype: bool"
      ]
     },
     "execution_count": 8,
     "metadata": {},
     "output_type": "execute_result"
    }
   ],
   "source": [
    "# check ob alles korrekt ist\n",
    "print(sum(~df_hail[[\"lat\", \"lon\"]].duplicated()))\n",
    "print(points_per_canton.sum())\n",
    "sum(~df_hail[[\"lat\", \"lon\"]].duplicated()) == points_per_canton.sum()"
   ]
  },
  {
   "cell_type": "code",
   "execution_count": null,
   "id": "ccf1659b-7d45-43ce-9404-cbb2922f9027",
   "metadata": {},
   "outputs": [],
   "source": []
  },
  {
   "cell_type": "markdown",
   "id": "be1b1053-9ab5-4407-8ac3-3312ff6978df",
   "metadata": {},
   "source": [
    "<a id=\"distribution\"></a>\n",
    "## 1.2 Verteilung Hageltage und Hagelkorngrösse Schweiz"
   ]
  },
  {
   "cell_type": "code",
   "execution_count": 9,
   "id": "8588caf4-2303-4590-9268-90119075aff0",
   "metadata": {
    "tags": []
   },
   "outputs": [
    {
     "data": {
      "text/html": [
       "<div>\n",
       "<style scoped>\n",
       "    .dataframe tbody tr th:only-of-type {\n",
       "        vertical-align: middle;\n",
       "    }\n",
       "\n",
       "    .dataframe tbody tr th {\n",
       "        vertical-align: top;\n",
       "    }\n",
       "\n",
       "    .dataframe thead th {\n",
       "        text-align: right;\n",
       "    }\n",
       "</style>\n",
       "<table border=\"1\" class=\"dataframe\">\n",
       "  <thead>\n",
       "    <tr style=\"text-align: right;\">\n",
       "      <th></th>\n",
       "      <th>time</th>\n",
       "      <th>year</th>\n",
       "      <th>month</th>\n",
       "      <th>lat</th>\n",
       "      <th>lon</th>\n",
       "      <th>canton</th>\n",
       "      <th>haildays</th>\n",
       "      <th>hailsize</th>\n",
       "      <th>lat_lon</th>\n",
       "      <th>haildays_times_hailsize</th>\n",
       "    </tr>\n",
       "  </thead>\n",
       "  <tbody>\n",
       "    <tr>\n",
       "      <th>0</th>\n",
       "      <td>2002-04-01</td>\n",
       "      <td>2002</td>\n",
       "      <td>4</td>\n",
       "      <td>46.792770</td>\n",
       "      <td>7.890503</td>\n",
       "      <td>BE</td>\n",
       "      <td>0</td>\n",
       "      <td>2.0</td>\n",
       "      <td>46.79276983427726_7.89050251215368</td>\n",
       "      <td>0.0</td>\n",
       "    </tr>\n",
       "    <tr>\n",
       "      <th>1</th>\n",
       "      <td>2002-04-01</td>\n",
       "      <td>2002</td>\n",
       "      <td>4</td>\n",
       "      <td>46.838557</td>\n",
       "      <td>7.576278</td>\n",
       "      <td>BE</td>\n",
       "      <td>0</td>\n",
       "      <td>2.5</td>\n",
       "      <td>46.83855727394842_7.576277711422013</td>\n",
       "      <td>0.0</td>\n",
       "    </tr>\n",
       "  </tbody>\n",
       "</table>\n",
       "</div>"
      ],
      "text/plain": [
       "         time  year  month        lat       lon canton  haildays  hailsize  \\\n",
       "0  2002-04-01  2002      4  46.792770  7.890503     BE         0       2.0   \n",
       "1  2002-04-01  2002      4  46.838557  7.576278     BE         0       2.5   \n",
       "\n",
       "                               lat_lon  haildays_times_hailsize  \n",
       "0   46.79276983427726_7.89050251215368                      0.0  \n",
       "1  46.83855727394842_7.576277711422013                      0.0  "
      ]
     },
     "execution_count": 9,
     "metadata": {},
     "output_type": "execute_result"
    }
   ],
   "source": [
    "df_hail.head(n=2)"
   ]
  },
  {
   "cell_type": "markdown",
   "id": "fc6dd604-e1cb-459a-a976-2fe02d3147b7",
   "metadata": {},
   "source": [
    "### 1.2.1 Summe der Hageltage von 2002 - 2022"
   ]
  },
  {
   "cell_type": "code",
   "execution_count": 10,
   "id": "45e927ee-d678-41b5-ad2e-3b03f12ec870",
   "metadata": {
    "tags": []
   },
   "outputs": [
    {
     "data": {
      "text/html": [
       "<div>\n",
       "<style scoped>\n",
       "    .dataframe tbody tr th:only-of-type {\n",
       "        vertical-align: middle;\n",
       "    }\n",
       "\n",
       "    .dataframe tbody tr th {\n",
       "        vertical-align: top;\n",
       "    }\n",
       "\n",
       "    .dataframe thead th {\n",
       "        text-align: right;\n",
       "    }\n",
       "</style>\n",
       "<table border=\"1\" class=\"dataframe\">\n",
       "  <thead>\n",
       "    <tr style=\"text-align: right;\">\n",
       "      <th></th>\n",
       "      <th>lat</th>\n",
       "      <th>lon</th>\n",
       "      <th>haildays_sum</th>\n",
       "    </tr>\n",
       "  </thead>\n",
       "  <tbody>\n",
       "    <tr>\n",
       "      <th>0</th>\n",
       "      <td>45.828893</td>\n",
       "      <td>9.027811</td>\n",
       "      <td>26</td>\n",
       "    </tr>\n",
       "    <tr>\n",
       "      <th>1</th>\n",
       "      <td>45.829075</td>\n",
       "      <td>9.014946</td>\n",
       "      <td>21</td>\n",
       "    </tr>\n",
       "    <tr>\n",
       "      <th>2</th>\n",
       "      <td>45.829255</td>\n",
       "      <td>9.002082</td>\n",
       "      <td>28</td>\n",
       "    </tr>\n",
       "    <tr>\n",
       "      <th>3</th>\n",
       "      <td>45.837887</td>\n",
       "      <td>9.028072</td>\n",
       "      <td>30</td>\n",
       "    </tr>\n",
       "    <tr>\n",
       "      <th>4</th>\n",
       "      <td>45.838068</td>\n",
       "      <td>9.015206</td>\n",
       "      <td>27</td>\n",
       "    </tr>\n",
       "  </tbody>\n",
       "</table>\n",
       "</div>"
      ],
      "text/plain": [
       "         lat       lon  haildays_sum\n",
       "0  45.828893  9.027811            26\n",
       "1  45.829075  9.014946            21\n",
       "2  45.829255  9.002082            28\n",
       "3  45.837887  9.028072            30\n",
       "4  45.838068  9.015206            27"
      ]
     },
     "execution_count": 10,
     "metadata": {},
     "output_type": "execute_result"
    }
   ],
   "source": [
    "# Aufsummieren aller Hageltage von 2002 bis 2022 pro Messpunkt\n",
    "df_haildays_sum = df_hail.groupby([\"lat\", \"lon\"]).agg(\n",
    "    haildays_sum = (\"haildays\", \"sum\"),\n",
    ").reset_index()\n",
    "df_haildays_sum.head()"
   ]
  },
  {
   "cell_type": "code",
   "execution_count": null,
   "id": "ba03ff8a",
   "metadata": {
    "tags": []
   },
   "outputs": [],
   "source": [
    "latitudes = df_haildays_sum.lat\n",
    "longitudes = df_haildays_sum.lon\n",
    "haildaysum = df_haildays_sum.haildays_sum\n",
    "\n",
    "# Definition einer Colormap zur Visualisierung der Summer der Hageltage\n",
    "colormap = linear.YlGnBu_09.scale(min(haildaysum), max(haildaysum))\n",
    "\n",
    "# Erzeugen einer Karte mit Zentrum in der Schweiz\n",
    "switzerland_map = folium.Map(location=[46.8182, 8.2275], zoom_start=8)\n",
    "\n",
    "# Hinzufügen eines Punktes für jeden Messpunkt zur Karte\n",
    "for lat, lon, strength in zip(latitudes, longitudes, haildaysum):\n",
    "    folium.CircleMarker(\n",
    "        location=[lat, lon],\n",
    "        radius=2,\n",
    "        fill=True,\n",
    "        fill_opacity=0.7,\n",
    "        color=None,\n",
    "        fill_color=colormap(strength),\n",
    "    ).add_to(switzerland_map)\n",
    "\n",
    "# Hinzufügen der Colormap zur Karte inklusive Legende\n",
    "colormap.caption = \"Summe der Hageltage von 2002 - 2022\"\n",
    "colormap.add_to(switzerland_map)\n",
    "\n",
    "# Hinzufügen der Kantonsgrenzen als schwarze Linie zur Karte als GeoJSON layer\n",
    "folium.GeoJson(\n",
    "    cantons_gdf,\n",
    "    name=\"Cantons\",\n",
    "    style_function=lambda feature: {\"fillColor\": \"none\", \"color\": \"black\", \"weight\": 2}\n",
    ").add_to(switzerland_map)\n",
    "\n",
    "# Steuerungsebene hinzufügen\n",
    "folium.LayerControl().add_to(switzerland_map)\n",
    "\n",
    "# Karte darstellen\n",
    "switzerland_map"
   ]
  },
  {
   "cell_type": "code",
   "execution_count": null,
   "id": "caf5dcb7-c1c7-4ef5-989e-2ef6f9561c14",
   "metadata": {},
   "outputs": [],
   "source": []
  },
  {
   "cell_type": "markdown",
   "id": "91c76491-3692-4265-b827-e20396e852f5",
   "metadata": {},
   "source": [
    "### 1.2.2 Hagelkorngrösse von 2002 - 2022"
   ]
  },
  {
   "cell_type": "code",
   "execution_count": null,
   "id": "4ca12674-69b8-4808-aafd-fa150b39d125",
   "metadata": {
    "tags": []
   },
   "outputs": [],
   "source": [
    "# Bestimmung der mittleren maximal zu erwartenden Hagelkorngrösse je Messpunkt von 2002 bis 2022\n",
    "df_hailsize_sum = df_hailsize.groupby([\"lat\", \"lon\"]).agg(\n",
    "    haildays_sum = (\"haildays\", \"sum\"),\n",
    "    hailsize_sum = (\"haildays_times_hailsize\", \"sum\"),\n",
    ").reset_index()\n",
    "df_hailsize_sum[\"hailsize_mean\"] = (\n",
    "    df_hailsize_sum[\"hailsize_sum\"]\n",
    "    / df_hailsize_sum[\"haildays_sum\"]\n",
    ")\n",
    "df_hailsize_sum.head()"
   ]
  },
  {
   "cell_type": "code",
   "execution_count": null,
   "id": "cd62eabd-dbde-4786-8352-59d64d910112",
   "metadata": {
    "tags": []
   },
   "outputs": [],
   "source": [
    "latitudes = df_hailsize_sum.lat\n",
    "longitudes = df_hailsize_sum.lon\n",
    "mean_hailsize = df_hailsize_sum.hailsize_mean\n",
    "\n",
    "# Definition einer Colormap zur Visualisierung der Hagelkorngrösse\n",
    "colormap = linear.YlOrRd_09.scale(min(mean_hailsize), max(mean_hailsize))\n",
    "\n",
    "# Erzeugen einer Karte mit Zentrum in der Schweiz\n",
    "switzerland_map = folium.Map(location=[46.8182, 8.2275], zoom_start=8)\n",
    "\n",
    "# Hinzufügen eines Punktes für jeden Messpunkt zur Karte\n",
    "for lat, lon, strength in zip(latitudes, longitudes, mean_hailsize):\n",
    "    folium.CircleMarker(\n",
    "        location=[lat, lon],\n",
    "        radius=2,\n",
    "        fill=True,\n",
    "        fill_opacity=0.7,\n",
    "        color=None,\n",
    "        fill_color=colormap(strength),\n",
    "    ).add_to(switzerland_map)\n",
    "\n",
    "# Hinzufügen der Colormap zur Karte inklusive Legende\n",
    "colormap.caption = \"Mittlere maximal zu erwartende Hagelkorngrösse von 2002 - 2022 in cm\"\n",
    "colormap.add_to(switzerland_map)\n",
    "\n",
    "# Hinzufügen der Kantonsgrenzen als schwarze Linie zur Karte als GeoJSON layer\n",
    "folium.GeoJson(\n",
    "    cantons_gdf,\n",
    "    name=\"Cantons\",\n",
    "    style_function=lambda feature: {\"fillColor\": \"none\", \"color\": \"black\", \"weight\": 2}\n",
    ").add_to(switzerland_map)\n",
    "\n",
    "# Steuerungsebene hinzufügen\n",
    "folium.LayerControl().add_to(switzerland_map)\n",
    "\n",
    "# Karte darstellen\n",
    "switzerland_map"
   ]
  },
  {
   "cell_type": "code",
   "execution_count": null,
   "id": "bfd43f01-d6f1-4b7b-affe-b9d66d10fdc0",
   "metadata": {},
   "outputs": [],
   "source": []
  },
  {
   "cell_type": "markdown",
   "id": "98bd915b-4b1f-4a1a-917f-2f4331169a95",
   "metadata": {},
   "source": [
    "<a id=\"trends\"></a>\n",
    "## 1.3 Hagel Trends seit 2002"
   ]
  },
  {
   "cell_type": "code",
   "execution_count": null,
   "id": "91882e4b-8e60-4c5a-be83-072329a4210f",
   "metadata": {
    "tags": []
   },
   "outputs": [],
   "source": [
    "# Farbpaletten Defintion für Hageltage\n",
    "color_map_haildays = \"YlGnBu\"\n",
    "\n",
    "# Farbpaletten Defintion für Hagelkorngrösse\n",
    "color_map_hailsize = \"YlOrRd\"\n",
    "\n",
    "# Jahre von 2002 bis 2022\n",
    "years = df_hail.year.unique()"
   ]
  },
  {
   "cell_type": "markdown",
   "id": "09dc89c1-d87e-40e4-9600-e7edb2ed67a4",
   "metadata": {},
   "source": [
    "### 1.3.1 Anzahl der Hageltage pro Jahr und Kanton"
   ]
  },
  {
   "cell_type": "code",
   "execution_count": null,
   "id": "9255d797-4993-48c6-8c8f-af3df0a96ab8",
   "metadata": {
    "tags": []
   },
   "outputs": [],
   "source": [
    "df_hail_canton = df_hail.groupby([\"year\", \"canton\"]).agg(\n",
    "    haildays_sum = (\"haildays\", \"sum\"),\n",
    ").reset_index()\n",
    "\n",
    "df_hail_canton = df_hail_canton.merge(points_per_canton[[\"canton\", \"lat_lon\"]], left_on=\"canton\", right_on=\"canton\")\n",
    "df_hail_canton[\"haildays_per_point\"] = df_hail_canton.haildays_sum / df_hail_canton.lat_lon\n",
    "df_hail_canton.head()"
   ]
  },
  {
   "cell_type": "code",
   "execution_count": null,
   "id": "9a889c73-110a-4751-8584-daf7fc3e06f8",
   "metadata": {
    "tags": []
   },
   "outputs": [],
   "source": [
    "# join Hageldaten pro Kanton und Jahr mit Kanton Shapefile\n",
    "canton_data_haildays = canton_map.merge(df_hail_canton, left_on=\"NAME\", right_on=\"canton\")"
   ]
  },
  {
   "cell_type": "code",
   "execution_count": null,
   "id": "4ba5b5db-c568-4a1d-81b0-980be7b8d8e3",
   "metadata": {
    "tags": []
   },
   "outputs": [],
   "source": [
    "# ImageGrid 7x3 erstellen für die Jahre 2002-2022\n",
    "fig = plt.figure(figsize=(18, 18))\n",
    "grid = ImageGrid(fig, 111, nrows_ncols=(7, 3), axes_pad=0.1)\n",
    "\n",
    "# ImageGrid füllen\n",
    "for i, year in enumerate(years):\n",
    "    year_data = canton_data_haildays[canton_data_haildays[\"year\"] == year]\n",
    "    ax = grid[i]\n",
    "    ax.axis(\"off\")\n",
    "    ax.set_title(year)\n",
    "    year_data.plot(\n",
    "        column=\"haildays_per_point\",\n",
    "        cmap=color_map_haildays,\n",
    "        linewidth=0.1,\n",
    "        ax=ax, \n",
    "        legend=False,\n",
    "    )\n",
    "\n",
    "# Hinzufügen einer Colorbar\n",
    "ax = grid[0]\n",
    "sm = plt.cm.ScalarMappable(\n",
    "    cmap=color_map_haildays,\n",
    "    norm=plt.Normalize(\n",
    "        vmin=canton_data_haildays[\"haildays_per_point\"].min(),\n",
    "        vmax=canton_data_haildays[\"haildays_per_point\"].max(),\n",
    "    )\n",
    ")\n",
    "cbar = plt.colorbar(sm, ax=ax, pad=2, aspect=40)\n",
    "cbar.ax.tick_params(labelsize=12)\n",
    "cbar.ax.set_ylabel(r\"$\\Sigma$ Hageltage / Anzahl Messpunkte Kanton\", rotation=270, labelpad=20, size=14)\n",
    "\n",
    "# Titel hinzufügen\n",
    "fig.suptitle(\"Summe Hageltage normiert auf Anzahl der Messpunkte pro Kanton\", fontsize=18, y=0.92, x=0.55)\n",
    "\n",
    "plt.show()"
   ]
  },
  {
   "cell_type": "code",
   "execution_count": null,
   "id": "8e687361-757f-45fe-afb4-8190997e891d",
   "metadata": {
    "tags": []
   },
   "outputs": [],
   "source": [
    "plt.rcParams[\"figure.figsize\"] = (12, 8)\n",
    "\n",
    "# Defintion der Plot Update Funktion für die Jahresauswahl\n",
    "def update_plot(year: int) -> None:\n",
    "    # Filterung der Daten nach Jahresauswahl\n",
    "    year_data = canton_data_haildays[canton_data_haildays[\"year\"] == year]\n",
    "    ax = year_data.plot(column=\"haildays_per_point\", cmap=color_map_haildays, linewidth=0.1, legend=False)\n",
    "    ax.axis(\"off\")\n",
    "    ax.set_title(f\"Summe Hageltage normiert auf Anzahl der Messpunkte pro Kanton {year}\")\n",
    "    # Axes Objekt von GeoAxesSubplot Objekt extrahieren\n",
    "    ax = ax.axes\n",
    "    # erzeugen und hinzufügen einer Colorbar\n",
    "    sm = plt.cm.ScalarMappable(\n",
    "        cmap=color_map_haildays,\n",
    "        norm=plt.Normalize(\n",
    "            vmin=canton_data_haildays.haildays_per_point.min(),\n",
    "            vmax=canton_data_haildays.haildays_per_point.max(),\n",
    "        )\n",
    "    )\n",
    "    cbar = plt.colorbar(sm, ax=ax, fraction=0.05, pad=0.03)\n",
    "    cbar.ax.set_ylabel(r\"$\\Sigma$ Hageltage / Anzahl Messpunkte Kanton\", rotation=270, labelpad=20)\n",
    "    plt.show()\n",
    "\n",
    "\n",
    "# interaktiver Slider\n",
    "interactive_plot_haildays = interactive(update_plot, year=years, continuous_update=False)\n",
    "\n",
    "# interaktiven Plot darstellen\n",
    "display(interactive_plot_haildays)"
   ]
  },
  {
   "cell_type": "code",
   "execution_count": null,
   "id": "4276d3e9-4095-4739-a57e-642d8defff09",
   "metadata": {
    "tags": []
   },
   "outputs": [],
   "source": [
    "fig = px.line(df_hail_canton, x=\"year\", y=\"haildays_per_point\", color=\"canton\")\n",
    "\n",
    "fig.update_layout(\n",
    "    title=\"Verlauf der Summe der Hageltage je Kanton und Jahr normiert auf die Anzahl der Messpunkte je Kanton\",\n",
    "    xaxis_title=\"Jahr\",\n",
    "    yaxis_title=\"Summe Hageltage pro Messpunkt\",\n",
    "    legend_title=\"Kanton\",\n",
    ")\n",
    "fig.show(config= dict(displayModeBar = False))"
   ]
  },
  {
   "cell_type": "code",
   "execution_count": null,
   "id": "e42021d5-f609-4ae3-a7e4-a152f9f73519",
   "metadata": {
    "tags": []
   },
   "outputs": [],
   "source": [
    "df_haildays_total = df_hail_canton.groupby(\"year\").agg({\"haildays_sum\": sum, \"lat_lon\": sum}).reset_index()\n",
    "df_haildays_total[\"haildays_per_point\"] = df_haildays_total[\"haildays_sum\"] / df_haildays_total[\"lat_lon\"]\n",
    "df_haildays_total[\"canton\"] = \"All\"\n",
    "df_haildays_total.head()"
   ]
  },
  {
   "cell_type": "code",
   "execution_count": null,
   "id": "2dd19786-84ec-4a62-8da7-8addff6704fd",
   "metadata": {
    "tags": []
   },
   "outputs": [],
   "source": [
    "fig = px.line(df_haildays_total, x=\"year\", y=\"haildays_per_point\")\n",
    "fig.update_layout(\n",
    "    title=\"Verlauf der Summe der Hageltage pro Jahr normiert auf die Anzahl der Messpunkte in der Schweiz\",\n",
    "    xaxis_title=\"Jahr\",\n",
    "    yaxis_title=\"Hageltage pro Messpunkt\",\n",
    "    legend_title=\"Kanton\",\n",
    ")\n",
    "\n",
    "fig.show(config= dict(displayModeBar = False))"
   ]
  },
  {
   "cell_type": "code",
   "execution_count": null,
   "id": "f0599a39-c188-4b21-80c1-2fb32bc502f2",
   "metadata": {},
   "outputs": [],
   "source": []
  },
  {
   "cell_type": "code",
   "execution_count": null,
   "id": "3672a472-a60d-4aab-846b-f9536d799390",
   "metadata": {},
   "outputs": [],
   "source": []
  },
  {
   "cell_type": "markdown",
   "id": "02ce3ad0-706c-43bc-921b-e2d548036184",
   "metadata": {},
   "source": [
    "### 1.3.2 Mittlere maximal zu erwartende Hagelkorngrösse pro Jahr und Kanton"
   ]
  },
  {
   "cell_type": "code",
   "execution_count": null,
   "id": "e86eaaca-d355-4bc4-b14e-d52979cb1843",
   "metadata": {
    "tags": []
   },
   "outputs": [],
   "source": [
    "df_hailsize_canton = df_hailsize.groupby([\"year\", \"canton\"]).agg(\n",
    "    hailsize_sum = (\"hailsize\", \"sum\"),\n",
    ").reset_index()\n",
    "\n",
    "df_hailsize_canton = df_hailsize_canton.merge(points_per_canton[[\"canton\", \"lat_lon\"]], left_on=\"canton\", right_on=\"canton\")\n",
    "df_hailsize_canton[\"hailsize_per_point\"] = df_hailsize_canton.hailsize_sum / df_hailsize_canton.lat_lon\n",
    "df_hailsize_canton.head()"
   ]
  },
  {
   "cell_type": "code",
   "execution_count": null,
   "id": "4a2ff848-9b4a-4eac-af84-775625616962",
   "metadata": {
    "tags": []
   },
   "outputs": [],
   "source": [
    "# join Hageldaten pro Kanton und Jahr mit Kanton Shapefile\n",
    "canton_data_hailsize = canton_map.merge(df_hailsize_canton, left_on=\"NAME\", right_on=\"canton\")"
   ]
  },
  {
   "cell_type": "code",
   "execution_count": null,
   "id": "ebd9b849-3a47-4784-a025-67078c9fe794",
   "metadata": {
    "tags": []
   },
   "outputs": [],
   "source": [
    "# ImageGrid 7x3 erstellen für die Jahre 2002-2022\n",
    "fig = plt.figure(figsize=(18, 18))\n",
    "grid = ImageGrid(fig, 111, nrows_ncols=(7, 3), axes_pad=0.1)\n",
    "\n",
    "# ImageGrid füllen\n",
    "for i, year in enumerate(years):\n",
    "    year_data = canton_data_hailsize[canton_data_hailsize[\"year\"] == year]\n",
    "    ax = grid[i]\n",
    "    ax.axis(\"off\")\n",
    "    ax.set_title(year)\n",
    "    year_data.plot(\n",
    "        column=\"hailsize_per_point\",\n",
    "        cmap=color_map_hailsize,\n",
    "        linewidth=0.1,\n",
    "        ax=ax, \n",
    "        legend=False,\n",
    "    )\n",
    "\n",
    "# Hinzufügen einer Colorbar\n",
    "ax = grid[0]\n",
    "sm = plt.cm.ScalarMappable(\n",
    "    cmap=color_map_hailsize,\n",
    "    norm=plt.Normalize(\n",
    "        vmin=canton_data_hailsize[\"hailsize_per_point\"].min(),\n",
    "        vmax=canton_data_hailsize[\"hailsize_per_point\"].max(),\n",
    "    )\n",
    ")\n",
    "cbar = plt.colorbar(sm, ax=ax, pad=2, aspect=40)\n",
    "cbar.ax.tick_params(labelsize=12)\n",
    "cbar.ax.set_ylabel(r\"$\\Sigma$ maximale Hagelkorngrösse [cm] / Anzahl Messpunkte Kanton\", rotation=270, labelpad=20, size=14)\n",
    "\n",
    "# Titel hinzufügen\n",
    "fig.suptitle(\"Summe maximale Hagelkorngrösse in cm normiert auf Anzahl der Messpunkte pro Kanton\", fontsize=18, y=0.92, x=0.55)\n",
    "\n",
    "plt.show()"
   ]
  },
  {
   "cell_type": "code",
   "execution_count": null,
   "id": "4372cc22-bc25-4615-b16c-c65e7b42fe14",
   "metadata": {
    "tags": []
   },
   "outputs": [],
   "source": [
    "# Defintion der Plot Update Funktion für die Jahresauswahl\n",
    "def update_plot(year):\n",
    "    # Filterung der Daten nach Jahresauswahl\n",
    "    year_data = canton_data_hailsize[canton_data_hailsize[\"year\"] == year]\n",
    "    ax = year_data.plot(column=\"hailsize_per_point\", cmap=color_map_hailsize, linewidth=0.1, legend=False)\n",
    "    ax.axis(\"off\")\n",
    "    ax.set_title(\"Summe maximale Hagelkorngrösse in cm normiert auf Messpunkte je Kanton\" + f\" {year}\")\n",
    "    # Axes Objekt von GeoAxesSubplot Objekt extrahieren\n",
    "    ax = ax.axes\n",
    "    # erzeugen und hinzufügen einer Colorbar\n",
    "    sm = plt.cm.ScalarMappable(\n",
    "        cmap=color_map_hailsize,\n",
    "        norm=plt.Normalize(\n",
    "            vmin=year_data.hailsize_per_point.min(),\n",
    "            vmax=year_data.hailsize_per_point.max(),\n",
    "        )\n",
    "    )\n",
    "    cbar = plt.colorbar(sm, ax=ax, fraction=0.05, pad=0.03)\n",
    "    cbar.ax.set_ylabel(r\"$\\Sigma$ maximale Hagelkorngrösse [cm] / Anzahl Messpunkte\", rotation=270, labelpad=20)\n",
    "    plt.show()\n",
    "\n",
    "    \n",
    "# interaktiver Slider\n",
    "interactive_plot = interactive(update_plot, year=years, continuous_update=False)\n",
    "\n",
    "# interaktiven Plot darstellen\n",
    "display(interactive_plot)"
   ]
  },
  {
   "cell_type": "code",
   "execution_count": null,
   "id": "b864b73d-6ea0-46f0-945d-030f7165a857",
   "metadata": {
    "tags": []
   },
   "outputs": [],
   "source": [
    "fig = px.line(df_hailsize_canton, x=\"year\", y=\"hailsize_per_point\", color=\"canton\")\n",
    "\n",
    "fig.update_layout(\n",
    "    title=\"Verlauf der Summe der maximal zu erwartenden Hagelkorngrösse in cm je Kanton und Jahr normiert auf die Anzahl der Messpunkte je Kanton\",\n",
    "    xaxis_title=\"Jahr\",\n",
    "    yaxis_title=\"Summe Hagelkorngrösse in cm pro Messpunkt\",\n",
    "    legend_title=\"Kanton\",\n",
    ")\n",
    "fig.show(config= dict(displayModeBar = False))"
   ]
  },
  {
   "cell_type": "code",
   "execution_count": null,
   "id": "5683aa65-cedf-4206-b1dd-bea408986412",
   "metadata": {
    "tags": []
   },
   "outputs": [],
   "source": [
    "df_hailsize_canton"
   ]
  },
  {
   "cell_type": "code",
   "execution_count": null,
   "id": "7b1995ec-1e42-4457-b7c4-c18ff1efbb0c",
   "metadata": {
    "tags": []
   },
   "outputs": [],
   "source": [
    "df_hailsize_total = df_hailsize_canton.groupby(\"year\").agg({\"hailsize_sum\": sum, \"lat_lon\": sum}).reset_index()\n",
    "df_hailsize_total[\"hailsize_per_point\"] = df_hailsize_total[\"hailsize_sum\"] / df_hailsize_total[\"lat_lon\"]\n",
    "df_hailsize_total[\"canton\"] = \"All\"\n",
    "df_hailsize_total.head()"
   ]
  },
  {
   "cell_type": "code",
   "execution_count": null,
   "id": "edc2b0cf-c207-4997-b0e4-2d77fa6bb3f8",
   "metadata": {
    "tags": []
   },
   "outputs": [],
   "source": [
    "fig = px.line(df_hailsize_total, x=\"year\", y=\"hailsize_per_point\")\n",
    "fig.update_layout(\n",
    "    title=\"Verlauf der Summe der maximal zu erwartenden Hagelkorngrösse in cm pro Jahr normiert auf die Anzahl der Messpunkte in der Schweiz\",\n",
    "    xaxis_title=\"Jahr\",\n",
    "    yaxis_title=\"Summe Hagelkorngrösse in cm pro Messpunkt\",\n",
    ")\n",
    "\n",
    "fig.show(config= dict(displayModeBar = False))"
   ]
  },
  {
   "cell_type": "code",
   "execution_count": null,
   "id": "c34b46a1-d245-4504-ad6d-5ed1a0aca003",
   "metadata": {},
   "outputs": [],
   "source": []
  },
  {
   "cell_type": "code",
   "execution_count": null,
   "id": "55cfc8af-6dfa-4d20-842e-767e8cd0dbb1",
   "metadata": {},
   "outputs": [],
   "source": []
  },
  {
   "cell_type": "code",
   "execution_count": null,
   "id": "f8b09724-5598-4f2e-a787-e8716bc6492f",
   "metadata": {},
   "outputs": [],
   "source": []
  },
  {
   "cell_type": "markdown",
   "id": "1d704a55-65ad-4d0d-bc87-0ea6ef5052c0",
   "metadata": {},
   "source": [
    "<a id=\"canton_month\"></a>\n",
    "## 1.4 Hagelrisiko nach Monat und Kantone"
   ]
  },
  {
   "cell_type": "code",
   "execution_count": null,
   "id": "9d0cff75-8842-4e6b-8d50-9fab43c8676b",
   "metadata": {},
   "outputs": [],
   "source": [
    "df_hail.head(n=2)"
   ]
  },
  {
   "cell_type": "markdown",
   "id": "4736a926-59d9-4c7f-a840-310720f6d34a",
   "metadata": {},
   "source": [
    "### 1.4.1 Summe der Hageltage pro Monat und Kanton"
   ]
  },
  {
   "cell_type": "code",
   "execution_count": null,
   "id": "28c7af50-8cac-418e-8a8a-47a3cd1407dc",
   "metadata": {
    "tags": []
   },
   "outputs": [],
   "source": [
    "df_hail_month_year = df_hail.groupby([\"month\", \"year\"]).agg(\n",
    "    haildays_sum = (\"haildays\", \"sum\"),\n",
    ").reset_index()\n",
    "df_hail_month_year = df_hail_month_year.rename(\n",
    "    columns={\n",
    "        \"year\": \"Jahr\",\n",
    "        \"month\": \"Monat\",\n",
    "    }\n",
    ")\n",
    "\n",
    "df_hail_month_year.head()"
   ]
  },
  {
   "cell_type": "code",
   "execution_count": null,
   "id": "1c9dac7b-c69c-45be-ab66-04b47fa6d396",
   "metadata": {
    "tags": []
   },
   "outputs": [],
   "source": [
    "fig = px.bar(df_hail_month_year, x=\"Monat\", y=\"haildays_sum\", color=\"Jahr\")\n",
    "\n",
    "fig.update_layout(\n",
    "    title=\"Summe der Hageltage pro Monat von 2002-2022\",\n",
    "    xaxis_title=\"Monat\",\n",
    "    xaxis=dict(\n",
    "        tickmode=\"array\",\n",
    "        tickvals=[4, 5, 6, 7, 8, 9],\n",
    "        ticktext=[\"April\", \"Mai\", \"Juni\", \"Juli\", \"August\", \"September\"],\n",
    "    ),\n",
    "    yaxis_title=\"Summe der Hageltage\",\n",
    ")\n",
    "\n",
    "fig.show(config= dict(displayModeBar = False))"
   ]
  },
  {
   "cell_type": "code",
   "execution_count": null,
   "id": "e418c42c-1bbe-4f3e-ba3e-268c34d46d95",
   "metadata": {},
   "outputs": [],
   "source": []
  },
  {
   "cell_type": "code",
   "execution_count": null,
   "id": "b9c74447-aff0-4113-8dbb-369d91e6d0ff",
   "metadata": {
    "tags": []
   },
   "outputs": [],
   "source": [
    "df_hail_canton_total = df_hail.groupby(\"canton\").agg(\n",
    "    haildays_sum = (\"haildays\", \"sum\"),\n",
    ").reset_index()\n",
    "\n",
    "df_hail_canton_total = df_hail_canton_total.merge(\n",
    "    points_per_canton[[\"canton\", \"lat_lon\"]],\n",
    "    left_on=\"canton\",\n",
    "    right_on=\"canton\",\n",
    ")\n",
    "df_hail_canton_total[\"haildays_per_point\"] = (\n",
    "    df_hail_canton_total[\"haildays_sum\"]\n",
    "    / df_hail_canton_total[\"lat_lon\"]\n",
    "    / len(years)\n",
    ")\n",
    "df_hail_canton_total.head()"
   ]
  },
  {
   "cell_type": "code",
   "execution_count": null,
   "id": "fe1b7e77-e756-4cd3-abac-3e0bc50cf184",
   "metadata": {
    "tags": []
   },
   "outputs": [],
   "source": [
    "fig = px.pie(\n",
    "    df_hail_canton_total,\n",
    "    values=\"haildays_per_point\",\n",
    "    names=\"canton\",\n",
    "    hole=.3,\n",
    "    color_discrete_sequence=px.colors.sequential.YlGnBu\n",
    ")\n",
    "\n",
    "fig.update_layout(\n",
    "    title={\n",
    "        \"text\": \"Anteil an Summe der Hageltage 2002-2022 pro Kanton normiert auf die Anzahl der Messpunkte je Kanton\",\n",
    "        \"y\": 0.1,\n",
    "        \"x\": 0.4,\n",
    "        \"xanchor\": \"center\",\n",
    "        \"yanchor\": \"top\",\n",
    "    },\n",
    "    legend_title=\"Kanton\",\n",
    ")\n",
    "\n",
    "fig.show(config= dict(displayModeBar = False))"
   ]
  },
  {
   "cell_type": "code",
   "execution_count": null,
   "id": "010f144a-c731-496f-9c10-91d441b94fe6",
   "metadata": {},
   "outputs": [],
   "source": []
  },
  {
   "cell_type": "code",
   "execution_count": null,
   "id": "28f86d75-fce6-46cc-b8ac-817ebbd03e84",
   "metadata": {
    "tags": []
   },
   "outputs": [],
   "source": [
    "df_hail_date = df_hail.groupby([\"time\", \"canton\"]).agg(\n",
    "    haildays_sum = (\"haildays\", \"sum\"),\n",
    ").reset_index()\n",
    "\n",
    "df_hail_date = df_hail_date.merge(\n",
    "    points_per_canton[[\"canton\", \"lat_lon\"]],\n",
    "    left_on=\"canton\",\n",
    "    right_on=\"canton\",\n",
    ")\n",
    "df_hail_date[\"haildays_per_point\"] = df_hail_date.haildays_sum / df_hail_date.lat_lon\n",
    "\n",
    "df_hail_date.head()"
   ]
  },
  {
   "cell_type": "code",
   "execution_count": null,
   "id": "1178383b-380f-4c53-9b0e-79fd1d0daff3",
   "metadata": {
    "tags": []
   },
   "outputs": [],
   "source": [
    "fig = px.line(df_hail_date, x=\"time\", y=\"haildays_sum\", color=\"canton\")\n",
    "\n",
    "fig.update_layout(\n",
    "    title=\"Summe der Hageltage pro Monat und Jahr je Kanton\",\n",
    "    xaxis_title=\"Monat\",\n",
    "    yaxis_title=\"Summe Hageltage\",\n",
    "    legend_title=\"Kanton\",\n",
    ")\n",
    "fig.show(config= dict(displayModeBar = False))"
   ]
  },
  {
   "cell_type": "code",
   "execution_count": null,
   "id": "d11c6305-f7c7-475b-abec-830319f4701f",
   "metadata": {},
   "outputs": [],
   "source": []
  },
  {
   "cell_type": "code",
   "execution_count": null,
   "id": "fc35b674-97de-4fb8-ad24-e21b7bb491c2",
   "metadata": {
    "tags": []
   },
   "outputs": [],
   "source": [
    "df_hail_time_total = df_hail.groupby([\"time\"]).agg(\n",
    "    haildays_sum = (\"haildays\", \"sum\"),\n",
    ").reset_index()\n",
    "\n",
    "df_hail_time_total[\"haildays_per_point\"] = (\n",
    "    df_hail_time_total.haildays_sum\n",
    "    / points_per_canton[\"lat_lon\"].sum()\n",
    ")\n",
    "df_hail_time_total.head()"
   ]
  },
  {
   "cell_type": "code",
   "execution_count": null,
   "id": "1f5cf847-f29b-4f76-a18f-1d9183773e0e",
   "metadata": {
    "tags": []
   },
   "outputs": [],
   "source": [
    "fig = px.line(df_hail_time_total, x=\"time\", y=\"haildays_per_point\")\n",
    "fig.update_layout(\n",
    "    title=\"Summe der Hageltage pro Monat und Jahr normiert auf Anzahl der Messpunkte\",\n",
    "    xaxis_title=\"Monat\",\n",
    "    yaxis_title=\"Summe Hageltage pro Messpunkt\",\n",
    ")\n",
    "fig.show(config= dict(displayModeBar = False))"
   ]
  },
  {
   "cell_type": "code",
   "execution_count": null,
   "id": "66511c5f-1c6d-440d-85da-dce31fabb1d1",
   "metadata": {},
   "outputs": [],
   "source": []
  },
  {
   "cell_type": "code",
   "execution_count": null,
   "id": "605b68fb-8eb4-4a1d-b074-9da5384a8872",
   "metadata": {},
   "outputs": [],
   "source": []
  },
  {
   "cell_type": "markdown",
   "id": "e3bee60d-f17b-473a-b054-ab171d9bf404",
   "metadata": {},
   "source": [
    "### 1.4.2 Hagelkorngrösse pro Monat je Kanton"
   ]
  },
  {
   "cell_type": "code",
   "execution_count": null,
   "id": "a1399bc4-2db0-41d9-99cb-e38115d97fa1",
   "metadata": {
    "tags": []
   },
   "outputs": [],
   "source": [
    "df_hailsize_month_year = df_hailsize.groupby([\"month\", \"year\"]).agg(\n",
    "    hailsize_sum = (\"haildays_times_hailsize\", \"sum\"),\n",
    "    haildays_sum = (\"haildays\", \"sum\"),\n",
    ").reset_index()\n",
    "df_hailsize_month_year = df_hailsize_month_year.rename(\n",
    "    columns={\n",
    "        \"year\": \"Jahr\",\n",
    "        \"month\": \"Monat\",\n",
    "    }\n",
    ")\n",
    "df_hailsize_month_year[\"hailsize_mean\"] = (\n",
    "    df_hailsize_month_year[\"hailsize_sum\"]\n",
    "    / df_hailsize_month_year[\"haildays_sum\"]\n",
    ")\n",
    "\n",
    "df_hailsize_month_year.head()"
   ]
  },
  {
   "cell_type": "code",
   "execution_count": null,
   "id": "9677faff-6eea-42aa-bdb9-5055df050b2a",
   "metadata": {
    "tags": []
   },
   "outputs": [],
   "source": [
    "fig = px.bar(df_hailsize_month_year, x=\"Monat\", y=\"hailsize_mean\", color=\"Jahr\")\n",
    "\n",
    "fig.update_layout(\n",
    "    title=\"Mittlere maximale Hagelkorngrösse in cm pro Monat von 2002-2022\",\n",
    "    xaxis_title=\"Monat\",\n",
    "    xaxis=dict(\n",
    "        tickmode=\"array\",\n",
    "        tickvals=[4, 5, 6, 7, 8, 9],\n",
    "        ticktext=[\"April\", \"Mai\", \"Juni\", \"Juli\", \"August\", \"September\"],\n",
    "    ),\n",
    "    yaxis_title=\"Mittlere maximale Hagelkorngrösse [cm]\",\n",
    ")\n",
    "\n",
    "fig.show(config= dict(displayModeBar = False))"
   ]
  },
  {
   "cell_type": "code",
   "execution_count": null,
   "id": "b2612f1a-d233-4bf3-adbf-4ce201ce9cf9",
   "metadata": {},
   "outputs": [],
   "source": []
  },
  {
   "cell_type": "code",
   "execution_count": null,
   "id": "cf5b6ef9-6342-4d8f-90cf-176c5209b159",
   "metadata": {
    "tags": []
   },
   "outputs": [],
   "source": [
    "df_hailsize_canton_total = df_hailsize.groupby(\"canton\").agg(\n",
    "    hailsize_sum = (\"haildays_times_hailsize\", \"sum\"),\n",
    ").reset_index()\n",
    "\n",
    "df_hailsize_canton_total = df_hailsize_canton_total.merge(\n",
    "    points_per_canton[[\"canton\", \"lat_lon\"]],\n",
    "    left_on=\"canton\",\n",
    "    right_on=\"canton\",\n",
    ")\n",
    "df_hailsize_canton_total[\"hailsize_per_point\"] = (\n",
    "    df_hailsize_canton_total[\"hailsize_sum\"]\n",
    "    / df_hailsize_canton_total[\"lat_lon\"]\n",
    "    / len(years)\n",
    ")\n",
    "df_hailsize_canton_total.head()"
   ]
  },
  {
   "cell_type": "code",
   "execution_count": null,
   "id": "358d83a9-9d4c-45cb-9077-d243fb6422ee",
   "metadata": {
    "tags": []
   },
   "outputs": [],
   "source": [
    "fig = px.pie(\n",
    "    df_hailsize_canton_total,\n",
    "    values=\"hailsize_per_point\",\n",
    "    names=\"canton\",\n",
    "    hole=.3,\n",
    "    color_discrete_sequence=px.colors.sequential.YlOrRd\n",
    ")\n",
    "\n",
    "fig.update_layout(\n",
    "    title={\n",
    "        \"text\": \"Mittlere maximale Hagelkorngrösse von 2002-2022 pro Kanton normiert auf die Anzahl der Messpunkte je Kanton\",\n",
    "        \"y\": 0.1,\n",
    "        \"x\": 0.4,\n",
    "        \"xanchor\": \"center\",\n",
    "        \"yanchor\": \"top\",\n",
    "    },\n",
    "    legend_title=\"Kanton\",\n",
    ")\n",
    "\n",
    "fig.show(config= dict(displayModeBar = False))"
   ]
  },
  {
   "cell_type": "code",
   "execution_count": null,
   "id": "ac29f480-375c-4846-b477-324d2461b29a",
   "metadata": {},
   "outputs": [],
   "source": []
  },
  {
   "cell_type": "code",
   "execution_count": null,
   "id": "d83263f4-135b-4896-9caf-80f3e695d8d9",
   "metadata": {
    "tags": []
   },
   "outputs": [],
   "source": [
    "df_hailsize_date = df_hailsize.groupby([\"time\", \"canton\"]).agg(\n",
    "    hailsize_sum = (\"haildays_times_hailsize\", \"sum\"),\n",
    ").reset_index()\n",
    "\n",
    "df_hailsize_date = df_hailsize_date.merge(\n",
    "    points_per_canton[[\"canton\", \"lat_lon\"]],\n",
    "    left_on=\"canton\",\n",
    "    right_on=\"canton\",\n",
    ")\n",
    "df_hailsize_date[\"hailsize_per_point\"] = (\n",
    "    df_hailsize_date.hailsize_sum\n",
    "    / df_hailsize_date.lat_lon\n",
    ")\n",
    "\n",
    "df_hailsize_date.head()"
   ]
  },
  {
   "cell_type": "code",
   "execution_count": null,
   "id": "8a486841-07fe-4cbb-93c6-9f650ef06f71",
   "metadata": {
    "tags": []
   },
   "outputs": [],
   "source": [
    "fig = px.line(df_hailsize_date, x=\"time\", y=\"hailsize_per_point\", color=\"canton\")\n",
    "\n",
    "fig.update_layout(\n",
    "    title=\"Mittlere maximale Hagelkorngrösse in cm pro Monat und Jahr je Kanton\",\n",
    "    xaxis_title=\"Monat\",\n",
    "    yaxis_title=\"Mittlere maximale Hagelkorngrösse [cm]\",\n",
    "    legend_title=\"Kanton\",\n",
    ")\n",
    "fig.show(config= dict(displayModeBar = False))"
   ]
  },
  {
   "cell_type": "code",
   "execution_count": null,
   "id": "3f533397-29a7-4058-8497-d013a1880cd6",
   "metadata": {},
   "outputs": [],
   "source": []
  },
  {
   "cell_type": "code",
   "execution_count": null,
   "id": "6ac7db44-9d1d-4f11-9650-f68574e5fd62",
   "metadata": {
    "tags": []
   },
   "outputs": [],
   "source": [
    "df_hailsize_time_total = df_hailsize.groupby([\"time\"]).agg(\n",
    "    hailsize_sum = (\"haildays_times_hailsize\", \"sum\"),\n",
    ").reset_index()\n",
    "\n",
    "df_hailsize_time_total[\"hailsize_per_point\"] = (\n",
    "    df_hailsize_time_total.hailsize_sum\n",
    "    / points_per_canton[\"lat_lon\"].sum()\n",
    ")\n",
    "df_hailsize_time_total.head()"
   ]
  },
  {
   "cell_type": "code",
   "execution_count": null,
   "id": "2b1ba2d6-b080-411d-a995-805a436ab737",
   "metadata": {
    "tags": []
   },
   "outputs": [],
   "source": [
    "fig = px.line(df_hail_time_total, x=\"time\", y=\"haildays_per_point\")\n",
    "fig.update_layout(\n",
    "    title=\"Mittlere maximale Hagelkorngrösse in cm pro Monat und Jahr normiert auf Anzahl der Messpunkte in der Schweiz\",\n",
    "    xaxis_title=\"Monat\",\n",
    "    yaxis_title=\"Mittlere maximale Hagelkorngrösse [cm]\",\n",
    ")\n",
    "fig.show(config= dict(displayModeBar = False))"
   ]
  },
  {
   "cell_type": "code",
   "execution_count": null,
   "id": "10570de6-bb62-4191-87b5-12fd0a844554",
   "metadata": {},
   "outputs": [],
   "source": []
  }
 ],
 "metadata": {
  "kernelspec": {
   "display_name": "Python 3 (ipykernel)",
   "language": "python",
   "name": "python3"
  },
  "language_info": {
   "codemirror_mode": {
    "name": "ipython",
    "version": 3
   },
   "file_extension": ".py",
   "mimetype": "text/x-python",
   "name": "python",
   "nbconvert_exporter": "python",
   "pygments_lexer": "ipython3",
   "version": "3.10.6"
  }
 },
 "nbformat": 4,
 "nbformat_minor": 5
}
