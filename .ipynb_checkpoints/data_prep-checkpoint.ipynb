{
 "cells": [
  {
   "cell_type": "code",
   "execution_count": 1,
   "id": "9c97d923-3841-4ec4-9147-6de5ee13d853",
   "metadata": {
    "tags": []
   },
   "outputs": [],
   "source": [
    "import os\n",
    "from pathlib import Path\n",
    "import xarray as xr\n",
    "import pandas as pd\n",
    "import numpy as np"
   ]
  },
  {
   "cell_type": "code",
   "execution_count": 2,
   "id": "66adc040-3f0e-483b-94e7-4344bf8e48c3",
   "metadata": {
    "tags": []
   },
   "outputs": [],
   "source": [
    "data_path = Path(\"./data\")\n",
    "haildays_per_month_file = \"haildaysM_ch01r.swiss.lv95_20020401000000_20220930000000.nc\"\n",
    "hailsize_per_month_file = \"hailsizeM_ch01r.swiss.lv95_20020401000000_20220930000000.nc\"\n",
    "\n",
    "haildays_ds = xr.open_dataset(data_path / haildays_per_month_file)\n",
    "hailsize_ds = xr.open_dataset(data_path / hailsize_per_month_file)\n",
    "\n",
    "df_haildays = haildays_ds.to_dataframe()\n",
    "df_hailsize = hailsize_ds.to_dataframe()"
   ]
  },
  {
   "cell_type": "code",
   "execution_count": 3,
   "id": "1737bdc3",
   "metadata": {},
   "outputs": [
    {
     "data": {
      "text/plain": [
       "10991610"
      ]
     },
     "execution_count": 3,
     "metadata": {},
     "output_type": "execute_result"
    }
   ],
   "source": [
    "len(df_haildays)"
   ]
  },
  {
   "cell_type": "code",
   "execution_count": 4,
   "id": "ddb71fac-b45c-456b-a968-a98aa9121651",
   "metadata": {
    "tags": []
   },
   "outputs": [
    {
     "data": {
      "text/plain": [
       "10991610"
      ]
     },
     "execution_count": 4,
     "metadata": {},
     "output_type": "execute_result"
    }
   ],
   "source": [
    "len(df_hailsize)"
   ]
  },
  {
   "cell_type": "code",
   "execution_count": 5,
   "id": "1342fa25",
   "metadata": {
    "tags": []
   },
   "outputs": [
    {
     "data": {
      "text/plain": [
       "Index(['lat', 'lon', 'swiss_coordinates', 'haildays'], dtype='object')"
      ]
     },
     "execution_count": 5,
     "metadata": {},
     "output_type": "execute_result"
    }
   ],
   "source": [
    "df_haildays.columns"
   ]
  },
  {
   "cell_type": "markdown",
   "id": "6d66688d-65ca-4a88-aa98-ea6d019b24ea",
   "metadata": {},
   "source": [
    "### merge haildays and hailsize dataframes by multiindex"
   ]
  },
  {
   "cell_type": "code",
   "execution_count": 6,
   "id": "79d9ed51-ac3f-4a56-b8b1-24608ba49b79",
   "metadata": {
    "tags": []
   },
   "outputs": [],
   "source": [
    "df_hail = df_haildays.merge(df_hailsize[\"hailsize\"], how=\"inner\", left_index=True, right_index=True)"
   ]
  },
  {
   "cell_type": "markdown",
   "id": "c5956b77-8bb8-4df4-8d1e-5a2a866c9562",
   "metadata": {},
   "source": [
    "### drop datapoints with no `hailsize` or `haildays` values (no measurements available)"
   ]
  },
  {
   "cell_type": "code",
   "execution_count": 7,
   "id": "0556eef5-e11a-4ddc-af90-10f61d48db8c",
   "metadata": {
    "tags": []
   },
   "outputs": [],
   "source": [
    "df_hail = df_hail[~df_hail.haildays.isna()]\n",
    "df_hail = df_hail[~df_hail.hailsize.isna()]"
   ]
  },
  {
   "cell_type": "markdown",
   "id": "0c711438-ec99-4964-9e33-514acc9070e4",
   "metadata": {},
   "source": [
    "### drop `chy` and `chx` level from multiindex "
   ]
  },
  {
   "cell_type": "code",
   "execution_count": 8,
   "id": "3767faee-521d-4df8-97ec-15272527683e",
   "metadata": {
    "tags": []
   },
   "outputs": [],
   "source": [
    "df_hail.index = df_hail.index.droplevel([1, 2])"
   ]
  },
  {
   "cell_type": "markdown",
   "id": "886c3694-f0eb-4786-9a84-a9e52c2447a9",
   "metadata": {},
   "source": [
    "### get `country`, `state` and `district` from `lon` and `lat` data via reverse geocoding"
   ]
  },
  {
   "cell_type": "code",
   "execution_count": 9,
   "id": "90a5ce34-c3b2-457b-b19e-7accf0bd0bcd",
   "metadata": {
    "tags": []
   },
   "outputs": [
    {
     "name": "stdout",
     "output_type": "stream",
     "text": [
      "Defaulting to user installation because normal site-packages is not writeable\n",
      "Requirement already satisfied: reverse_geocoder in /home/proshut/.local/lib/python3.10/site-packages (1.5.1)\n",
      "Requirement already satisfied: scipy>=0.17.1 in /usr/lib/python3/dist-packages (from reverse_geocoder) (1.8.0)\n",
      "Requirement already satisfied: numpy>=1.11.0 in /usr/lib/python3/dist-packages (from reverse_geocoder) (1.21.5)\n"
     ]
    }
   ],
   "source": [
    "#! pip install reverse_geocoder"
   ]
  },
  {
   "cell_type": "code",
   "execution_count": 10,
   "id": "20de38f7-e05b-4262-82b4-0219bd59f15b",
   "metadata": {
    "tags": []
   },
   "outputs": [],
   "source": [
    "# offline reverse geocoding\n",
    "import reverse_geocoder as rg"
   ]
  },
  {
   "cell_type": "code",
   "execution_count": 11,
   "id": "13f30254-2992-4a03-84bc-21c12cdadc90",
   "metadata": {
    "tags": []
   },
   "outputs": [
    {
     "data": {
      "text/plain": [
       "[(46.79276983427726, 7.89050251215368),\n",
       " (46.83855727394842, 7.576277711422013),\n",
       " (46.8835488838835, 7.563273230080763),\n",
       " (46.883533848175176, 7.576392784422012),\n",
       " (46.97980750155872, 8.233807894747848),\n",
       " (47.123720558995366, 8.235943565721179),\n",
       " (47.13280560839907, 8.222897425223264),\n",
       " (45.99131559201031, 8.993820151171182),\n",
       " (45.99113660467614, 9.006722672539098),\n",
       " (45.99095613810782, 9.019625105617015)]"
      ]
     },
     "execution_count": 11,
     "metadata": {},
     "output_type": "execute_result"
    }
   ],
   "source": [
    "coordinates = [(x, y) for x, y in zip(df_hail[\"lat\"], df_hail[\"lon\"])]\n",
    "coordinates[0:10]"
   ]
  },
  {
   "cell_type": "code",
   "execution_count": 12,
   "id": "cc2add91-f11a-4a7c-86fc-ce8dffae8597",
   "metadata": {
    "tags": []
   },
   "outputs": [
    {
     "name": "stdout",
     "output_type": "stream",
     "text": [
      "Loading formatted geocoded file...\n"
     ]
    }
   ],
   "source": [
    "reverse_geocoding_results = rg.search(tuple(coordinates))"
   ]
  },
  {
   "cell_type": "code",
   "execution_count": 13,
   "id": "a3e90155-f7da-4e1e-b3e4-289001ed1742",
   "metadata": {
    "tags": []
   },
   "outputs": [
    {
     "data": {
      "text/plain": [
       "[{'lat': '46.81667',\n",
       "  'lon': '7.85',\n",
       "  'name': 'Wald',\n",
       "  'admin1': 'Bern',\n",
       "  'admin2': 'Emmental District',\n",
       "  'cc': 'CH'},\n",
       " {'lat': '46.8501',\n",
       "  'lon': '7.57748',\n",
       "  'name': 'Niederwichtrach',\n",
       "  'admin1': 'Bern',\n",
       "  'admin2': 'Bern-Mittelland District',\n",
       "  'cc': 'CH'},\n",
       " {'lat': '46.87298',\n",
       "  'lon': '7.561',\n",
       "  'name': 'Munsingen',\n",
       "  'admin1': 'Bern',\n",
       "  'admin2': 'Bern-Mittelland District',\n",
       "  'cc': 'CH'}]"
      ]
     },
     "execution_count": 13,
     "metadata": {},
     "output_type": "execute_result"
    }
   ],
   "source": [
    "reverse_geocoding_results[0:3]"
   ]
  },
  {
   "cell_type": "code",
   "execution_count": 14,
   "id": "1d1c4969-5dae-4c56-94d4-3224530202d0",
   "metadata": {
    "tags": []
   },
   "outputs": [],
   "source": [
    "df_hail[\"canton\"] = np.array([x[\"admin1\"] for x in reverse_geocoding_results])\n",
    "df_hail[\"district\"] = np.array([x[\"admin2\"] for x in reverse_geocoding_results])\n",
    "df_hail[\"country\"] = np.array([x[\"cc\"] for x in reverse_geocoding_results])"
   ]
  },
  {
   "cell_type": "code",
   "execution_count": 15,
   "id": "0e9058c5-2797-4f8f-8873-9f4e60aeac38",
   "metadata": {
    "tags": []
   },
   "outputs": [
    {
     "data": {
      "text/plain": [
       "DatetimeIndex(['2002-04-01', '2002-04-01', '2002-04-01', '2002-04-01',\n",
       "               '2002-04-01', '2002-04-01', '2002-04-01', '2002-05-01',\n",
       "               '2002-05-01', '2002-05-01',\n",
       "               ...\n",
       "               '2022-09-01', '2022-09-01', '2022-09-01', '2022-09-01',\n",
       "               '2022-09-01', '2022-09-01', '2022-09-01', '2022-09-01',\n",
       "               '2022-09-01', '2022-09-01'],\n",
       "              dtype='datetime64[ns]', name='time', length=834005, freq=None)"
      ]
     },
     "execution_count": 15,
     "metadata": {},
     "output_type": "execute_result"
    }
   ],
   "source": [
    "df_hail.index"
   ]
  },
  {
   "cell_type": "markdown",
   "id": "1e205f07-c35e-4ac6-869c-0f13d79fe2c8",
   "metadata": {},
   "source": [
    "### save interim data to CSV"
   ]
  },
  {
   "cell_type": "code",
   "execution_count": 18,
   "id": "91dea070-47c3-439a-8ec2-8b28cdc20de7",
   "metadata": {},
   "outputs": [],
   "source": [
    "df_hail.to_csv(data_path / \"interim_merged_haildata.csv\", sep=\";\", index=False)"
   ]
  },
  {
   "cell_type": "markdown",
   "id": "1935861d",
   "metadata": {},
   "source": [
    "### save interim data to Feather Format"
   ]
  },
  {
   "cell_type": "code",
   "execution_count": 16,
   "id": "fbc4109c",
   "metadata": {},
   "outputs": [
    {
     "name": "stdout",
     "output_type": "stream",
     "text": [
      "Defaulting to user installation because normal site-packages is not writeable\n",
      "Requirement already satisfied: pyarrow in /home/proshut/.local/lib/python3.10/site-packages (11.0.0)\n",
      "Requirement already satisfied: numpy>=1.16.6 in /usr/lib/python3/dist-packages (from pyarrow) (1.21.5)\n"
     ]
    }
   ],
   "source": [
    "#! pip install pyarrow"
   ]
  },
  {
   "cell_type": "code",
   "execution_count": 17,
   "id": "8a7f4118",
   "metadata": {},
   "outputs": [
    {
     "name": "stdout",
     "output_type": "stream",
     "text": [
      "Defaulting to user installation because normal site-packages is not writeable\n",
      "Requirement already satisfied: feather-format in /home/proshut/.local/lib/python3.10/site-packages (0.4.1)\n",
      "Requirement already satisfied: pyarrow>=0.4.0 in /home/proshut/.local/lib/python3.10/site-packages (from feather-format) (11.0.0)\n",
      "Requirement already satisfied: numpy>=1.16.6 in /usr/lib/python3/dist-packages (from pyarrow>=0.4.0->feather-format) (1.21.5)\n"
     ]
    }
   ],
   "source": [
    "# Pip\n",
    "#!pip install feather-format"
   ]
  },
  {
   "cell_type": "code",
   "execution_count": 21,
   "id": "7a71f956",
   "metadata": {},
   "outputs": [],
   "source": [
    "df_hail = df_hail.reset_index() # Reset the index to turn the DatetimeIndex into a column\n",
    "df_hail.to_feather(data_path / \"interim_merged_haildata.feather\") # Save the dataframe to feather format"
   ]
  },
  {
   "cell_type": "markdown",
   "id": "0624dc53",
   "metadata": {},
   "source": [
    "### create heatmap for Hail Size"
   ]
  },
  {
   "cell_type": "code",
   "execution_count": 17,
   "id": "a32b9b37",
   "metadata": {},
   "outputs": [
    {
     "name": "stdout",
     "output_type": "stream",
     "text": [
      "Defaulting to user installation because normal site-packages is not writeable\n",
      "Requirement already satisfied: folium in /home/proshut/.local/lib/python3.10/site-packages (0.14.0)\n",
      "Requirement already satisfied: branca in /home/proshut/.local/lib/python3.10/site-packages (0.6.0)\n",
      "Requirement already satisfied: numpy in /usr/lib/python3/dist-packages (from folium) (1.21.5)\n",
      "Requirement already satisfied: jinja2>=2.9 in /usr/lib/python3/dist-packages (from folium) (3.0.3)\n",
      "Requirement already satisfied: requests in /home/proshut/.local/lib/python3.10/site-packages (from folium) (2.28.2)\n",
      "Requirement already satisfied: certifi>=2017.4.17 in /usr/lib/python3/dist-packages (from requests->folium) (2020.6.20)\n",
      "Requirement already satisfied: charset-normalizer<4,>=2 in /home/proshut/.local/lib/python3.10/site-packages (from requests->folium) (3.0.1)\n",
      "Requirement already satisfied: idna<4,>=2.5 in /usr/lib/python3/dist-packages (from requests->folium) (3.3)\n",
      "Requirement already satisfied: urllib3<1.27,>=1.21.1 in /usr/lib/python3/dist-packages (from requests->folium) (1.26.5)\n"
     ]
    }
   ],
   "source": [
    "!pip install folium branca"
   ]
  },
  {
   "cell_type": "code",
   "execution_count": 40,
   "id": "afc52c9d",
   "metadata": {},
   "outputs": [],
   "source": [
    "import pandas as pd\n",
    "import folium\n",
    "from folium.plugins import HeatMapWithTime\n",
    "\n",
    "# Make sure the 'time' column is a datetime object\n",
    "df_hail['time'] = pd.to_datetime(df_hail['time'])\n",
    "\n",
    "# Group the data by time\n",
    "grouped_data = df_hail.groupby('time')\n",
    "\n",
    "# Prepare the data for the heatmap\n",
    "heat_data = []\n",
    "for date, group in grouped_data:\n",
    "    df = group[['lat', 'lon', 'hailsize']].copy()\n",
    "    heat_data.append(df.values.tolist())\n",
    "\n",
    "# Define the center of Switzerland\n",
    "swiss_center = [46.8182, 8.2275]\n",
    "\n",
    "# Create the base map\n",
    "m = folium.Map(location=swiss_center, zoom_start=8, tiles='cartodb positron')\n",
    "\n",
    "# Add the HeatMapWithTime plugin\n",
    "hm = HeatMapWithTime(\n",
    "    heat_data,\n",
    "    index=grouped_data.groups.keys(),\n",
    "    auto_play=True,\n",
    "    max_opacity=0.8,\n",
    "    min_opacity=0,\n",
    "    radius=25,\n",
    "    scale_radius=True,\n",
    "    gradient={0.2: 'blue', 0.4: 'lime', 0.6: 'yellow', 0.8: 'red'},\n",
    "    use_local_extrema=False,\n",
    ")\n",
    "\n",
    "hm.add_to(m)\n",
    "\n",
    "# Save the map as an HTML file\n",
    "m.save(\"switzerland_hail_heatmap.html\")\n"
   ]
  },
  {
   "cell_type": "code",
   "execution_count": 39,
   "id": "d6d71924",
   "metadata": {},
   "outputs": [],
   "source": [
    "import pandas as pd\n",
    "import folium\n",
    "from folium.plugins import HeatMap\n",
    "\n",
    "# Select a specific date\n",
    "selected_date = \"2002-04-01\"\n",
    "selected_data = df_hail[df_hail['time'] == selected_date]\n",
    "\n",
    "# Prepare the data for the heatmap\n",
    "heat_data = selected_data[['lat', 'lon', 'hailsize']].values.tolist()\n",
    "\n",
    "# Define the center of Switzerland\n",
    "swiss_center = [46.8182, 8.2275]\n",
    "\n",
    "# Create the base map\n",
    "m = folium.Map(location=swiss_center, zoom_start=8, tiles='cartodb positron')\n",
    "\n",
    "# Add the HeatMap plugin\n",
    "hm = HeatMap(\n",
    "    heat_data,\n",
    "    max_opacity=0.8,\n",
    "    min_opacity=0,\n",
    "    radius=25,\n",
    "    scale_radius=True,\n",
    "    gradient={0.2: 'blue', 0.4: 'lime', 0.6: 'yellow', 0.8: 'red'},\n",
    ")\n",
    "\n",
    "hm.add_to(m)\n",
    "\n",
    "# Save the map as an HTML file\n",
    "m.save(\"switzerland_hail_heatmap_single_date.html\")\n"
   ]
  },
  {
   "cell_type": "code",
   "execution_count": null,
   "id": "f5ed5e5f",
   "metadata": {},
   "outputs": [],
   "source": []
  }
 ],
 "metadata": {
  "kernelspec": {
   "display_name": "Python 3 (ipykernel)",
   "language": "python",
   "name": "python3"
  },
  "language_info": {
   "codemirror_mode": {
    "name": "ipython",
    "version": 3
   },
   "file_extension": ".py",
   "mimetype": "text/x-python",
   "name": "python",
   "nbconvert_exporter": "python",
   "pygments_lexer": "ipython3",
   "version": "3.10.6"
  }
 },
 "nbformat": 4,
 "nbformat_minor": 5
}
