{
 "cells": [
  {
   "cell_type": "markdown",
   "id": "a87586c3",
   "metadata": {},
   "source": [
    "# 1. Download, Bereinigung und Vorverarbeitung der KfZ-Zulassungsdaten\n",
    "\n",
    "Einleitung\n",
    "Der Datensatz KfZ-Zulassung zeigt den jährlichen Bestand an Personenwagen in der Schweiz nach Kanton, Erstzulassungsjahr, Leergewicht, Treibstoff, Hubraum, Antriebs- und Getriebebetrieb, ab 2005.\n",
    "\n",
    "* [1.1 Erforderliche Python-Libraries](#python_libraries)\n",
    "\n",
    "* [1.2 KfZ-Daten herunterladen](#data_download)\n",
    "\n",
    "* [1.3 KfZ-Daten aus Datei laden](#data_load)\n",
    "\n",
    "* [1.4 Datenbereinigung und Vorverarbeitung](#data_cleansing)\n",
    "    \n",
    "* [1.5 Daten in CSV speichern](#data_saving)"
   ]
  },
  {
   "cell_type": "markdown",
   "id": "de226ee4",
   "metadata": {},
   "source": [
    "#### Datenquelle: https://www.bfs.admin.ch/bfs/de/home/statistiken/kataloge-datenbanken/daten.assetdetail.24105795.html\n",
    "*Daten heruntergeladen am 01.04.2023*\n"
   ]
  },
  {
   "cell_type": "markdown",
   "id": "086772d1",
   "metadata": {},
   "source": [
    "*Die folgenden Informationen sind der ASTRA-Website entnommen:*\n",
    "\n",
    "<blockquote>\n",
    "\n",
    "#### Metainformationen:  \n",
    "Letzte Änderungen: neue Daten (2022), rektifizierte und revidierte Daten (2021)\n",
    "Erhebungsdatum: 30. September (ausser 2022: 15. Oktober)\n",
    "Raumbezug: Kantone am 1.1.2022\n",
    "Erhebung: Strassenfahrzeugbestand MFZ\n",
    "Datenquelle: Bundesamt für Strassen (ASTRA) - IVZ-Fahrzeuge, ehemals MOFIS-Datenbank\n",
    "\n",
    "#### Bemerkungen: \n",
    "Die Daten zum Leergewicht und zur Getriebebedienung werden gegenwärtig revidiert. Sie sind daher vorübergehend aus dem Dataset entfernt worden. «Personenwagen» sind leichte Motorwagen zum Personentransport mit höchstens neun Sitzplätzen einschliesslich Fahrer oder Fahrerin. Der Strassenfahrzeugbestand berücksichtigt alle am 30. September in der Schweiz immatrikulierten zivilen Fahrzeuge von Haltern und Halterinnen, die an diesem Stichtag (Wohn-)Sitz in der Schweiz hatten. Aufgrund einer Bereinigung der Grunddatenbank (IVZ-Fahrzeuge) ist die Vergleichbarkeit der Daten ab 2022 mit denen der Vorjahre leicht eingeschränkt: Insgesamt rund 26'000 sich mittlerweile nicht mehr in der Schweiz befindliche Personenwagen mit Export-Kontrollschild wurden 2022 aus der Bestandesstatistik entfernt.\n",
    "\n",
    "###### Kanton\n",
    "Der Kanton wird nach der Adresse des Fahrzeughalters oder der -halterin und nicht nach dem Nummernschild bestimmt.\n",
    "###### Treibstoff\n",
    "*Benzin*: Bis und mit 2020 inkl. Fahrzeuge ohne Angaben zum Treibstoff (ab 2021 werden diese Fahrzeuge der Kategorie «Anderer» zugewiesen)\n",
    "\\n *Anderer*: Ab 2021 inkl. Fahrzeuge ohne Angaben zum Treibstoff (bis und mit 2020 waren diese Fahrzeuge der Kategorie «Benzin» zugewiesen worden)\n",
    "</blockquote>"
   ]
  },
  {
   "cell_type": "markdown",
   "id": "1c0467b9",
   "metadata": {},
   "source": [
    "<a id=\"python_libraries\"></a>\n",
    "## 1.1 Erforderliche Python-Libraries"
   ]
  },
  {
   "cell_type": "code",
   "execution_count": 1,
   "id": "91ac9af3",
   "metadata": {},
   "outputs": [],
   "source": [
    "# Loading necessary libraries in Python\n",
    "import os\n",
    "from pathlib import Path\n",
    "import pandas as pd\n",
    "import numpy as np"
   ]
  },
  {
   "cell_type": "markdown",
   "id": "c5653c01",
   "metadata": {},
   "source": [
    "<a id=\"data_download\"></a>\n",
    "## 1.2 KfZ-Daten herunterladen von bfs.admin.ch \n",
    "\n",
    "Die Daten können mit dem unten stehenden Codeblock heruntergeladen werden. Da sich der Link mit der Zeit ändern kann, ist die Ausführung optional, da die Daten bereits in den Ordner data/raw/ heruntergeladen wurden.\n"
   ]
  },
  {
   "cell_type": "code",
   "execution_count": 2,
   "id": "5545ffe1",
   "metadata": {},
   "outputs": [
    {
     "name": "stdout",
     "output_type": "stream",
     "text": [
      "--2023-06-03 18:04:29--  https://dam-api.bfs.admin.ch/hub/api/dam/assets/24105795/master\n",
      "Resolving dam-api.bfs.admin.ch (dam-api.bfs.admin.ch)... 162.23.128.50\n",
      "Connecting to dam-api.bfs.admin.ch (dam-api.bfs.admin.ch)|162.23.128.50|:443... connected.\n",
      "HTTP request sent, awaiting response... 200 200\n",
      "Length: unspecified [application/octet-stream]\n",
      "Saving to: ‘master.1’\n",
      "\n",
      "master.1                [      <=>           ]   4.11M  3.42MB/s    in 1.2s    \n",
      "\n",
      "2023-06-03 18:04:31 (3.42 MB/s) - ‘master.1’ saved [4306681]\n",
      "\n"
     ]
    }
   ],
   "source": [
    "! wget https://dam-api.bfs.admin.ch/hub/api/dam/assets/24105795/master"
   ]
  },
  {
   "cell_type": "code",
   "execution_count": 3,
   "id": "54235979-577e-4445-b874-60c36025d3b5",
   "metadata": {},
   "outputs": [
    {
     "name": "stdout",
     "output_type": "stream",
     "text": [
      "mv: cannot move 'master' to '{raw_data_path}/px-x-1103020100_105.px': No such file or directory\n"
     ]
    }
   ],
   "source": [
    "! mv master {raw_data_path}/px-x-1103020100_105.px"
   ]
  },
  {
   "cell_type": "markdown",
   "id": "fa6033a8",
   "metadata": {},
   "source": [
    "<a id=\"data_load\"></a>\n",
    "## 1.3 Laden von KfZ-Daten aus einer Datei"
   ]
  },
  {
   "cell_type": "markdown",
   "id": "09bbae29",
   "metadata": {},
   "source": [
    "<div class=\"alert alert-block alert-info\">Die Autodaten sind im .px-Format gespeichert, so dass pyaxis verwendet wird, um die Datei zu lesen und sie als Panda-Datenrahmen zu speichern.</div>"
   ]
  },
  {
   "cell_type": "code",
   "execution_count": 4,
   "id": "7aa7c7d5",
   "metadata": {},
   "outputs": [],
   "source": [
    "from pyaxis import pyaxis\n",
    "\n",
    "raw_data_path = Path(\"./data/raw\")\n",
    "processed_data_path = Path(\"./data/processed\")\n",
    "\n",
    "kfz_file = \"px-x-1103020100_105.px\"\n",
    "\n",
    "# Join the path and file name using the Path object\n",
    "fp = str(raw_data_path / kfz_file)\n",
    "\n",
    "#parse contents of *.px file\n",
    "px = pyaxis.parse(uri = fp , encoding = 'ISO-8859-2')\n",
    "\n",
    "#store data as pandas dataframe\n",
    "df_kfz = px['DATA']\n",
    "\n",
    "# In case the data is to be stored as a dictionary (not necessary in this case, but might be helpful) \n",
    "# the following line should be uncommented.  \n",
    "# meta_dict = px['METADATA']"
   ]
  },
  {
   "cell_type": "code",
   "execution_count": 5,
   "id": "f4a30baa",
   "metadata": {},
   "outputs": [
    {
     "name": "stdout",
     "output_type": "stream",
     "text": [
      "<class 'pandas.core.frame.DataFrame'>\n",
      "RangeIndex: 1935360 entries, 0 to 1935359\n",
      "Data columns (total 7 columns):\n",
      " #   Column                        Dtype \n",
      "---  ------                        ----- \n",
      " 0   Kanton                        object\n",
      " 1   Jahr der 1. Inverkehrsetzung  object\n",
      " 2   Treibstoff                    object\n",
      " 3   Hubraum                       object\n",
      " 4   Antrieb                       object\n",
      " 5   Jahr                          object\n",
      " 6   DATA                          object\n",
      "dtypes: object(7)\n",
      "memory usage: 103.4+ MB\n"
     ]
    }
   ],
   "source": [
    "df_kfz.info()"
   ]
  },
  {
   "cell_type": "code",
   "execution_count": 6,
   "id": "c8b7fd3d",
   "metadata": {},
   "outputs": [
    {
     "data": {
      "text/html": [
       "<div>\n",
       "<style scoped>\n",
       "    .dataframe tbody tr th:only-of-type {\n",
       "        vertical-align: middle;\n",
       "    }\n",
       "\n",
       "    .dataframe tbody tr th {\n",
       "        vertical-align: top;\n",
       "    }\n",
       "\n",
       "    .dataframe thead th {\n",
       "        text-align: right;\n",
       "    }\n",
       "</style>\n",
       "<table border=\"1\" class=\"dataframe\">\n",
       "  <thead>\n",
       "    <tr style=\"text-align: right;\">\n",
       "      <th></th>\n",
       "      <th>Kanton</th>\n",
       "      <th>Jahr der 1. Inverkehrsetzung</th>\n",
       "      <th>Treibstoff</th>\n",
       "      <th>Hubraum</th>\n",
       "      <th>Antrieb</th>\n",
       "      <th>Jahr</th>\n",
       "      <th>DATA</th>\n",
       "    </tr>\n",
       "  </thead>\n",
       "  <tbody>\n",
       "    <tr>\n",
       "      <th>0</th>\n",
       "      <td>Schweiz</td>\n",
       "      <td>Vor 1960</td>\n",
       "      <td>Benzin</td>\n",
       "      <td>Bis 999 cm3</td>\n",
       "      <td>Vorderrad</td>\n",
       "      <td>2005</td>\n",
       "      <td>205</td>\n",
       "    </tr>\n",
       "    <tr>\n",
       "      <th>1</th>\n",
       "      <td>Schweiz</td>\n",
       "      <td>Vor 1960</td>\n",
       "      <td>Benzin</td>\n",
       "      <td>Bis 999 cm3</td>\n",
       "      <td>Vorderrad</td>\n",
       "      <td>2006</td>\n",
       "      <td>289</td>\n",
       "    </tr>\n",
       "    <tr>\n",
       "      <th>2</th>\n",
       "      <td>Schweiz</td>\n",
       "      <td>Vor 1960</td>\n",
       "      <td>Benzin</td>\n",
       "      <td>Bis 999 cm3</td>\n",
       "      <td>Vorderrad</td>\n",
       "      <td>2007</td>\n",
       "      <td>279</td>\n",
       "    </tr>\n",
       "    <tr>\n",
       "      <th>3</th>\n",
       "      <td>Schweiz</td>\n",
       "      <td>Vor 1960</td>\n",
       "      <td>Benzin</td>\n",
       "      <td>Bis 999 cm3</td>\n",
       "      <td>Vorderrad</td>\n",
       "      <td>2008</td>\n",
       "      <td>259</td>\n",
       "    </tr>\n",
       "    <tr>\n",
       "      <th>4</th>\n",
       "      <td>Schweiz</td>\n",
       "      <td>Vor 1960</td>\n",
       "      <td>Benzin</td>\n",
       "      <td>Bis 999 cm3</td>\n",
       "      <td>Vorderrad</td>\n",
       "      <td>2009</td>\n",
       "      <td>246</td>\n",
       "    </tr>\n",
       "  </tbody>\n",
       "</table>\n",
       "</div>"
      ],
      "text/plain": [
       "    Kanton Jahr der 1. Inverkehrsetzung Treibstoff      Hubraum    Antrieb  \\\n",
       "0  Schweiz                     Vor 1960     Benzin  Bis 999 cm3  Vorderrad   \n",
       "1  Schweiz                     Vor 1960     Benzin  Bis 999 cm3  Vorderrad   \n",
       "2  Schweiz                     Vor 1960     Benzin  Bis 999 cm3  Vorderrad   \n",
       "3  Schweiz                     Vor 1960     Benzin  Bis 999 cm3  Vorderrad   \n",
       "4  Schweiz                     Vor 1960     Benzin  Bis 999 cm3  Vorderrad   \n",
       "\n",
       "   Jahr DATA  \n",
       "0  2005  205  \n",
       "1  2006  289  \n",
       "2  2007  279  \n",
       "3  2008  259  \n",
       "4  2009  246  "
      ]
     },
     "execution_count": 6,
     "metadata": {},
     "output_type": "execute_result"
    }
   ],
   "source": [
    "# print the header of the dataframe\n",
    "df_kfz.head()"
   ]
  },
  {
   "cell_type": "markdown",
   "id": "f208ba92",
   "metadata": {},
   "source": [
    "<div class=\"alert alert-block alert-warning\">Es sieht so aus, als ob die Spalte *Kanton* andere Werte als die 26 Kantone der Schweiz enthält.</div>"
   ]
  },
  {
   "cell_type": "code",
   "execution_count": 7,
   "id": "10a538b3",
   "metadata": {},
   "outputs": [
    {
     "data": {
      "text/plain": [
       "array(['Schweiz', 'Zürich', 'Bern / Berne', 'Luzern', 'Uri', 'Schwyz',\n",
       "       'Obwalden', 'Nidwalden', 'Glarus', 'Zug', 'Fribourg / Freiburg',\n",
       "       'Solothurn', 'Basel-Stadt', 'Basel-Landschaft', 'Schaffhausen',\n",
       "       'Appenzell Ausserrhoden', 'Appenzell Innerrhoden', 'St. Gallen',\n",
       "       'Graubünden / Grigioni / Grischun', 'Aargau', 'Thurgau', 'Ticino',\n",
       "       'Vaud', 'Valais / Wallis', 'Neuchâtel', 'Genčve', 'Jura', 'Bund'],\n",
       "      dtype=object)"
      ]
     },
     "execution_count": 7,
     "metadata": {},
     "output_type": "execute_result"
    }
   ],
   "source": [
    "# Getting unique values in column 'Kanton'\n",
    "df_kfz['Kanton'].unique()"
   ]
  },
  {
   "cell_type": "markdown",
   "id": "83e186d3",
   "metadata": {},
   "source": [
    "<a id=\"data_cleansing\"></a>\n",
    "## 1.4 Datenbereinigung und Vorverarbeitung"
   ]
  },
  {
   "cell_type": "markdown",
   "id": "19b48d1d",
   "metadata": {},
   "source": [
    "<div class=\"alert alert-block alert-info\">Aus diesem Grund werden alle Zeilen für \"Schweiz\" und \"Bund\" aus dem Datenrahmen gelöscht.</div> "
   ]
  },
  {
   "cell_type": "code",
   "execution_count": 8,
   "id": "6807305d",
   "metadata": {},
   "outputs": [],
   "source": [
    "# Dropping all rows with string values of Schweiz and Bund in the Kanton column \n",
    "df_kfz = df_kfz[df_kfz['Kanton'].str.contains(\"Schweiz|Bund\") == False]"
   ]
  },
  {
   "cell_type": "code",
   "execution_count": 9,
   "id": "f6bc6846",
   "metadata": {},
   "outputs": [
    {
     "data": {
      "text/plain": [
       "array(['Zürich', 'Bern / Berne', 'Luzern', 'Uri', 'Schwyz', 'Obwalden',\n",
       "       'Nidwalden', 'Glarus', 'Zug', 'Fribourg / Freiburg', 'Solothurn',\n",
       "       'Basel-Stadt', 'Basel-Landschaft', 'Schaffhausen',\n",
       "       'Appenzell Ausserrhoden', 'Appenzell Innerrhoden', 'St. Gallen',\n",
       "       'Graubünden / Grigioni / Grischun', 'Aargau', 'Thurgau', 'Ticino',\n",
       "       'Vaud', 'Valais / Wallis', 'Neuchâtel', 'Genčve', 'Jura'],\n",
       "      dtype=object)"
      ]
     },
     "execution_count": 9,
     "metadata": {},
     "output_type": "execute_result"
    }
   ],
   "source": [
    "df_kfz['Kanton'].unique()"
   ]
  },
  {
   "cell_type": "markdown",
   "id": "a25e00ca",
   "metadata": {},
   "source": [
    "<div class=\"alert alert-block alert-info\">\n",
    "Es gibt doppelte Namen für bestimmte Kantone, in Französisch und Deutsch. Für die Einheitlichkeit der Ergebnisse wird die abgekürzte Version verwendet.</div> "
   ]
  },
  {
   "cell_type": "code",
   "execution_count": 10,
   "id": "607a346b",
   "metadata": {},
   "outputs": [],
   "source": [
    "# Define a dictionary with keys of German/French name and values of abbreviations. The strings in column Kanton \n",
    "# is then replaced using this dictionary. \n",
    "\n",
    "cantons = {\n",
    "    'Zürich': 'ZH',\n",
    "    'Bern / Berne': 'BE',\n",
    "    'Luzern': 'LU',\n",
    "    'Uri': 'UR',\n",
    "    'Schwyz': 'SZ',\n",
    "    'Obwalden': 'OW',\n",
    "    'Nidwalden': 'NW',\n",
    "    'Glarus': 'GL',\n",
    "    'Zug': 'ZG',\n",
    "    'Fribourg / Freiburg': 'FR',\n",
    "    'Solothurn': 'SO',\n",
    "    'Basel-Stadt': 'BS',\n",
    "    'Basel-Landschaft': 'BL',\n",
    "    'Schaffhausen': 'SH',\n",
    "    'Appenzell Ausserrhoden': 'AR',\n",
    "    'Appenzell Innerrhoden': 'AI',\n",
    "    'St. Gallen': 'SG',\n",
    "    'Graubünden / Grigioni / Grischun': 'GR',\n",
    "    'Aargau': 'AG',\n",
    "    'Thurgau': 'TG',\n",
    "    'Ticino': 'TI',\n",
    "    'Vaud': 'VD',\n",
    "    'Valais / Wallis': 'VS',\n",
    "    'Neuchâtel': 'NE',\n",
    "    'Genčve': 'GE',\n",
    "    'Jura': 'JU'\n",
    "}\n",
    "\n",
    "df_kfz = df_kfz.replace({'Kanton':cantons})"
   ]
  },
  {
   "cell_type": "code",
   "execution_count": 11,
   "id": "7fc17f21",
   "metadata": {},
   "outputs": [
    {
     "data": {
      "text/plain": [
       "array(['ZH', 'BE', 'LU', 'UR', 'SZ', 'OW', 'NW', 'GL', 'ZG', 'FR', 'SO',\n",
       "       'BS', 'BL', 'SH', 'AR', 'AI', 'SG', 'GR', 'AG', 'TG', 'TI', 'VD',\n",
       "       'VS', 'NE', 'GE', 'JU'], dtype=object)"
      ]
     },
     "execution_count": 11,
     "metadata": {},
     "output_type": "execute_result"
    }
   ],
   "source": [
    "# Make a check to see if all names have been changed.\n",
    "df_kfz['Kanton'].unique()"
   ]
  },
  {
   "cell_type": "code",
   "execution_count": 12,
   "id": "fe26c549",
   "metadata": {},
   "outputs": [],
   "source": [
    "# Considering that the Jahr and DATA columns are treated as objects, following transformation are done\n",
    "df_kfz.Jahr= pd.to_datetime(df_kfz.Jahr, format='%Y').dt.year\n",
    "df_kfz.DATA = pd.to_numeric(df_kfz.DATA)"
   ]
  },
  {
   "cell_type": "code",
   "execution_count": 13,
   "id": "2fe92459",
   "metadata": {},
   "outputs": [
    {
     "name": "stdout",
     "output_type": "stream",
     "text": [
      "<class 'pandas.core.frame.DataFrame'>\n",
      "Int64Index: 1797120 entries, 69120 to 1866239\n",
      "Data columns (total 7 columns):\n",
      " #   Column                        Dtype \n",
      "---  ------                        ----- \n",
      " 0   Kanton                        object\n",
      " 1   Jahr der 1. Inverkehrsetzung  object\n",
      " 2   Treibstoff                    object\n",
      " 3   Hubraum                       object\n",
      " 4   Antrieb                       object\n",
      " 5   Jahr                          int64 \n",
      " 6   DATA                          int64 \n",
      "dtypes: int64(2), object(5)\n",
      "memory usage: 109.7+ MB\n"
     ]
    }
   ],
   "source": [
    "# Check to see if the data type has changed\n",
    "df_kfz.info()"
   ]
  },
  {
   "cell_type": "code",
   "execution_count": 14,
   "id": "f9005cf4",
   "metadata": {},
   "outputs": [
    {
     "data": {
      "text/html": [
       "<div>\n",
       "<style scoped>\n",
       "    .dataframe tbody tr th:only-of-type {\n",
       "        vertical-align: middle;\n",
       "    }\n",
       "\n",
       "    .dataframe tbody tr th {\n",
       "        vertical-align: top;\n",
       "    }\n",
       "\n",
       "    .dataframe thead th {\n",
       "        text-align: right;\n",
       "    }\n",
       "</style>\n",
       "<table border=\"1\" class=\"dataframe\">\n",
       "  <thead>\n",
       "    <tr style=\"text-align: right;\">\n",
       "      <th></th>\n",
       "      <th>Kanton</th>\n",
       "      <th>Jahr der 1. Inverkehrsetzung</th>\n",
       "      <th>Treibstoff</th>\n",
       "      <th>Hubraum</th>\n",
       "      <th>Antrieb</th>\n",
       "      <th>Jahr</th>\n",
       "      <th>DATA</th>\n",
       "    </tr>\n",
       "  </thead>\n",
       "  <tbody>\n",
       "    <tr>\n",
       "      <th>69120</th>\n",
       "      <td>ZH</td>\n",
       "      <td>Vor 1960</td>\n",
       "      <td>Benzin</td>\n",
       "      <td>Bis 999 cm3</td>\n",
       "      <td>Vorderrad</td>\n",
       "      <td>2005</td>\n",
       "      <td>37</td>\n",
       "    </tr>\n",
       "    <tr>\n",
       "      <th>69121</th>\n",
       "      <td>ZH</td>\n",
       "      <td>Vor 1960</td>\n",
       "      <td>Benzin</td>\n",
       "      <td>Bis 999 cm3</td>\n",
       "      <td>Vorderrad</td>\n",
       "      <td>2006</td>\n",
       "      <td>48</td>\n",
       "    </tr>\n",
       "    <tr>\n",
       "      <th>69122</th>\n",
       "      <td>ZH</td>\n",
       "      <td>Vor 1960</td>\n",
       "      <td>Benzin</td>\n",
       "      <td>Bis 999 cm3</td>\n",
       "      <td>Vorderrad</td>\n",
       "      <td>2007</td>\n",
       "      <td>46</td>\n",
       "    </tr>\n",
       "    <tr>\n",
       "      <th>69123</th>\n",
       "      <td>ZH</td>\n",
       "      <td>Vor 1960</td>\n",
       "      <td>Benzin</td>\n",
       "      <td>Bis 999 cm3</td>\n",
       "      <td>Vorderrad</td>\n",
       "      <td>2008</td>\n",
       "      <td>40</td>\n",
       "    </tr>\n",
       "    <tr>\n",
       "      <th>69124</th>\n",
       "      <td>ZH</td>\n",
       "      <td>Vor 1960</td>\n",
       "      <td>Benzin</td>\n",
       "      <td>Bis 999 cm3</td>\n",
       "      <td>Vorderrad</td>\n",
       "      <td>2009</td>\n",
       "      <td>28</td>\n",
       "    </tr>\n",
       "  </tbody>\n",
       "</table>\n",
       "</div>"
      ],
      "text/plain": [
       "      Kanton Jahr der 1. Inverkehrsetzung Treibstoff      Hubraum    Antrieb  \\\n",
       "69120     ZH                     Vor 1960     Benzin  Bis 999 cm3  Vorderrad   \n",
       "69121     ZH                     Vor 1960     Benzin  Bis 999 cm3  Vorderrad   \n",
       "69122     ZH                     Vor 1960     Benzin  Bis 999 cm3  Vorderrad   \n",
       "69123     ZH                     Vor 1960     Benzin  Bis 999 cm3  Vorderrad   \n",
       "69124     ZH                     Vor 1960     Benzin  Bis 999 cm3  Vorderrad   \n",
       "\n",
       "       Jahr  DATA  \n",
       "69120  2005    37  \n",
       "69121  2006    48  \n",
       "69122  2007    46  \n",
       "69123  2008    40  \n",
       "69124  2009    28  "
      ]
     },
     "execution_count": 14,
     "metadata": {},
     "output_type": "execute_result"
    }
   ],
   "source": [
    "df_kfz.head()"
   ]
  },
  {
   "cell_type": "markdown",
   "id": "e300edd3",
   "metadata": {},
   "source": [
    "<div class=\"alert alert-block alert-info\">\n",
    "Für die Analysen in diesem Projekt sind nur die folgenden Spalten von Bedeutung: <b>Kanton</b>, <b>Jahr</b> und <b>Daten</b>, die die Anzahl der Fahrzeuge pro Typ angibt.</div>"
   ]
  },
  {
   "cell_type": "code",
   "execution_count": 15,
   "id": "4ac4be7b",
   "metadata": {},
   "outputs": [],
   "source": [
    "# Create a new dataframe with only the above columns. The data is grouped based on the \"Kanton\" and \"Jahr\" columns\n",
    "# and sum of DATA which is number of car per type, is calculated.\n",
    "\n",
    "df_kfz_grouped = df_kfz.loc[:,['Kanton', 'Jahr', 'DATA']].groupby(['Kanton','Jahr'], as_index=False)['DATA'].sum().rename(columns={'DATA':'Total_KFZ'})\n",
    "#df_kfz_grouped = df_kfz.groupby(['Kanton','Jahr'])['DATA'].sum()\n",
    "\n"
   ]
  },
  {
   "cell_type": "code",
   "execution_count": 16,
   "id": "8a2b7caf",
   "metadata": {},
   "outputs": [
    {
     "data": {
      "text/html": [
       "<div>\n",
       "<style scoped>\n",
       "    .dataframe tbody tr th:only-of-type {\n",
       "        vertical-align: middle;\n",
       "    }\n",
       "\n",
       "    .dataframe tbody tr th {\n",
       "        vertical-align: top;\n",
       "    }\n",
       "\n",
       "    .dataframe thead th {\n",
       "        text-align: right;\n",
       "    }\n",
       "</style>\n",
       "<table border=\"1\" class=\"dataframe\">\n",
       "  <thead>\n",
       "    <tr style=\"text-align: right;\">\n",
       "      <th></th>\n",
       "      <th>Kanton</th>\n",
       "      <th>Jahr</th>\n",
       "      <th>Total_KFZ</th>\n",
       "    </tr>\n",
       "  </thead>\n",
       "  <tbody>\n",
       "    <tr>\n",
       "      <th>0</th>\n",
       "      <td>AG</td>\n",
       "      <td>2005</td>\n",
       "      <td>311370</td>\n",
       "    </tr>\n",
       "    <tr>\n",
       "      <th>1</th>\n",
       "      <td>AG</td>\n",
       "      <td>2006</td>\n",
       "      <td>316298</td>\n",
       "    </tr>\n",
       "    <tr>\n",
       "      <th>2</th>\n",
       "      <td>AG</td>\n",
       "      <td>2007</td>\n",
       "      <td>321731</td>\n",
       "    </tr>\n",
       "    <tr>\n",
       "      <th>3</th>\n",
       "      <td>AG</td>\n",
       "      <td>2008</td>\n",
       "      <td>327074</td>\n",
       "    </tr>\n",
       "    <tr>\n",
       "      <th>4</th>\n",
       "      <td>AG</td>\n",
       "      <td>2009</td>\n",
       "      <td>329151</td>\n",
       "    </tr>\n",
       "    <tr>\n",
       "      <th>5</th>\n",
       "      <td>AG</td>\n",
       "      <td>2010</td>\n",
       "      <td>339424</td>\n",
       "    </tr>\n",
       "    <tr>\n",
       "      <th>6</th>\n",
       "      <td>AG</td>\n",
       "      <td>2011</td>\n",
       "      <td>348117</td>\n",
       "    </tr>\n",
       "    <tr>\n",
       "      <th>7</th>\n",
       "      <td>AG</td>\n",
       "      <td>2012</td>\n",
       "      <td>357099</td>\n",
       "    </tr>\n",
       "    <tr>\n",
       "      <th>8</th>\n",
       "      <td>AG</td>\n",
       "      <td>2013</td>\n",
       "      <td>364771</td>\n",
       "    </tr>\n",
       "    <tr>\n",
       "      <th>9</th>\n",
       "      <td>AG</td>\n",
       "      <td>2014</td>\n",
       "      <td>371223</td>\n",
       "    </tr>\n",
       "  </tbody>\n",
       "</table>\n",
       "</div>"
      ],
      "text/plain": [
       "  Kanton  Jahr  Total_KFZ\n",
       "0     AG  2005     311370\n",
       "1     AG  2006     316298\n",
       "2     AG  2007     321731\n",
       "3     AG  2008     327074\n",
       "4     AG  2009     329151\n",
       "5     AG  2010     339424\n",
       "6     AG  2011     348117\n",
       "7     AG  2012     357099\n",
       "8     AG  2013     364771\n",
       "9     AG  2014     371223"
      ]
     },
     "execution_count": 16,
     "metadata": {},
     "output_type": "execute_result"
    }
   ],
   "source": [
    "df_kfz_grouped.head(10)"
   ]
  },
  {
   "cell_type": "code",
   "execution_count": 17,
   "id": "cdb46a78",
   "metadata": {},
   "outputs": [
    {
     "name": "stdout",
     "output_type": "stream",
     "text": [
      "<class 'pandas.core.frame.DataFrame'>\n",
      "RangeIndex: 468 entries, 0 to 467\n",
      "Data columns (total 3 columns):\n",
      " #   Column     Non-Null Count  Dtype \n",
      "---  ------     --------------  ----- \n",
      " 0   Kanton     468 non-null    object\n",
      " 1   Jahr       468 non-null    int64 \n",
      " 2   Total_KFZ  468 non-null    int64 \n",
      "dtypes: int64(2), object(1)\n",
      "memory usage: 11.1+ KB\n"
     ]
    }
   ],
   "source": [
    "df_kfz_grouped.info()"
   ]
  },
  {
   "cell_type": "markdown",
   "id": "5a704c22",
   "metadata": {},
   "source": [
    "<a id=\"data_saving\"></a>\n",
    "## 1.5 Daten in CSV speichern"
   ]
  },
  {
   "cell_type": "markdown",
   "id": "5a2055ae",
   "metadata": {},
   "source": [
    "<div class=\"alert alert-block alert-info\">\n",
    "Um sicherzustellen, dass die bisherige Datenverarbeitung funktioniert hat, wird das Ergebnis in einer .csv-Datei gespeichert.</div>"
   ]
  },
  {
   "cell_type": "code",
   "execution_count": 18,
   "id": "acddcae3",
   "metadata": {},
   "outputs": [],
   "source": [
    "df_kfz_grouped.to_csv(processed_data_path / \"interim_kfz_data.csv\", sep=\";\", index=False)"
   ]
  },
  {
   "cell_type": "code",
   "execution_count": null,
   "id": "c66a296e",
   "metadata": {},
   "outputs": [],
   "source": []
  }
 ],
 "metadata": {
  "kernelspec": {
   "display_name": "Python 3 (ipykernel)",
   "language": "python",
   "name": "python3"
  },
  "language_info": {
   "codemirror_mode": {
    "name": "ipython",
    "version": 3
   },
   "file_extension": ".py",
   "mimetype": "text/x-python",
   "name": "python",
   "nbconvert_exporter": "python",
   "pygments_lexer": "ipython3",
   "version": "3.10.9"
  }
 },
 "nbformat": 4,
 "nbformat_minor": 5
}
