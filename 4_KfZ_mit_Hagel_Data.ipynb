{
 "cells": [
  {
   "cell_type": "markdown",
   "id": "45bb2483",
   "metadata": {},
   "source": [
    "# 4. Analyse der Hageldaten kombiniert mit den KFZ-Zulassungsdaten\n",
    "Im folgenden Notebook werden die csv-Daten für die KfZ-Zulassung und die Hagel-Daten für jeden Kanton \n",
    "kombiniert, um Visualisierungen über Orte mit höherem Risiko für die Versicherung zu erstellen.\n",
    "\n",
    "* [4.1 Erforderliche Python-Bibliotheken](#python_libraries_)\n",
    "\n",
    "* [4.2 Einlesen der Eingabedatei](#read_input_file)\n",
    "    \n",
    "* [4.3 Zusammenführen von Hagel- und Autodaten](#merge_kfz_hail)\n",
    "\n",
    "* [4.4 Visualisierung der kombinierten Ergebnisse](#visualization_results)\n"
   ]
  },
  {
   "cell_type": "markdown",
   "id": "97284489",
   "metadata": {},
   "source": [
    "<a id=\"python_libraries_\"></a>\n",
    "## 4.1 Erforderliche Python-Bibliotheken"
   ]
  },
  {
   "cell_type": "code",
   "execution_count": null,
   "id": "875c9c44",
   "metadata": {
    "tags": []
   },
   "outputs": [],
   "source": [
    "import os\n",
    "from pathlib import Path\n",
    "#import xarray as xr\n",
    "import pandas as pd\n",
    "import geopandas as gpd\n",
    "import numpy as np\n",
    "import copy\n",
    "import matplotlib.pyplot as plt\n",
    "import seaborn as sns\n",
    "import plotly.express as px\n",
    "\n",
    "# display map\n",
    "import folium\n",
    "from branca.colormap import linear\n",
    "\n",
    "# interactive plots\n",
    "import ipywidgets as widgets\n",
    "from ipywidgets import interactive\n",
    "from IPython.display import display"
   ]
  },
  {
   "cell_type": "code",
   "execution_count": null,
   "id": "3cbe9be9",
   "metadata": {},
   "outputs": [],
   "source": [
    "# This is needed for the grid visualization later\n",
    "from mpl_toolkits.axes_grid1 import ImageGrid"
   ]
  },
  {
   "cell_type": "markdown",
   "id": "2179d2ad",
   "metadata": {},
   "source": [
    "<a id=\"read_input_file\"></a>\n",
    "## 4.2 Einlesen der Eingabedatei"
   ]
  },
  {
   "cell_type": "code",
   "execution_count": null,
   "id": "66adc040-3f0e-483b-94e7-4344bf8e48c3",
   "metadata": {
    "tags": []
   },
   "outputs": [],
   "source": [
    "# Files are saved in the \"processed\" folder \n",
    "processed_data_path = Path(\"./data/processed\")\n",
    "\n",
    "kfz_data = pd.read_csv(processed_data_path/'interim_kfz_data.csv', sep=\";\")\n",
    "hail_data = pd.read_csv(processed_data_path/'haildata_per_month_canton.csv', sep=\",\")"
   ]
  },
  {
   "cell_type": "code",
   "execution_count": null,
   "id": "6eaf26ea-3e23-4621-b611-1b9c6fc151cd",
   "metadata": {
    "tags": []
   },
   "outputs": [],
   "source": [
    "# swiss canton Shape file\n",
    "shape_path = Path(\"data\") / \"swiss_shapes\"\n",
    "shape_canton_file = \"swissBOUNDARIES3D_1_4_TLM_KANTONSGEBIET.shp\"\n",
    "\n",
    "# read in swiss canton shape file as GeoDataFrame\n",
    "cantons_gdf = gpd.read_file(shape_path / shape_canton_file)\n",
    "\n",
    "cantons = {\n",
    "    \"Zürich\": \"ZH\",\n",
    "    \"Bern\": \"BE\",\n",
    "    \"Luzern\": \"LU\",\n",
    "    \"Uri\": \"UR\",\n",
    "    \"Schwyz\": \"SZ\",\n",
    "    \"Obwalden\": \"OW\",\n",
    "    \"Nidwalden\": \"NW\",\n",
    "    \"Glarus\": \"GL\",\n",
    "    \"Zug\": \"ZG\",\n",
    "    \"Fribourg\": \"FR\",\n",
    "    \"Solothurn\": \"SO\",\n",
    "    \"Basel-Stadt\": \"BS\",\n",
    "    \"Basel-Landschaft\": \"BL\",\n",
    "    \"Schaffhausen\": \"SH\",\n",
    "    \"Appenzell Ausserrhoden\": \"AR\",\n",
    "    \"Appenzell Innerrhoden\": \"AI\",\n",
    "    \"St. Gallen\": \"SG\",\n",
    "    \"Graubünden\": \"GR\",\n",
    "    \"Aargau\": \"AG\",\n",
    "    \"Thurgau\": \"TG\",\n",
    "    \"Ticino\": \"TI\",\n",
    "    \"Vaud\": \"VD\",\n",
    "    \"Valais\": \"VS\",\n",
    "    \"Neuchâtel\": \"NE\",\n",
    "    \"Genève\": \"GE\",\n",
    "    \"Jura\": \"JU\"\n",
    "}\n",
    "canton_map = cantons_gdf.replace({\"NAME\": cantons})"
   ]
  },
  {
   "cell_type": "code",
   "execution_count": null,
   "id": "6c6a281d",
   "metadata": {},
   "outputs": [],
   "source": [
    "# Selecting certain columns\n",
    "columns_to_select = ['year', 'canton', 'haildays_per_point']\n",
    "\n",
    "# Deep copy of selected columns\n",
    "hail_data_copy = copy.deepcopy(hail_data[columns_to_select])\n",
    "\n",
    "#changing names of columns so that we have similar names between hail and kfz data\n",
    "# Rename columns using a dictionary\n",
    "new_column_names = {\n",
    "    'year': 'Jahr',\n",
    "    'canton': 'Kanton',\n",
    "    'haildays_per_point': 'number of hail days'\n",
    "}\n",
    "\n",
    "hail_data_copy = hail_data_copy.rename(columns=new_column_names)\n"
   ]
  },
  {
   "cell_type": "code",
   "execution_count": null,
   "id": "44f21ff0",
   "metadata": {},
   "outputs": [],
   "source": [
    "hail_data_copy.info()"
   ]
  },
  {
   "cell_type": "markdown",
   "id": "c5cb1a69",
   "metadata": {},
   "source": [
    "<a id=\"merge_kfz_hail\"></a>\n",
    "## 4.3 Zusammenführen von Hagel- und Autodaten"
   ]
  },
  {
   "cell_type": "code",
   "execution_count": null,
   "id": "79d9ed51-ac3f-4a56-b8b1-24608ba49b79",
   "metadata": {
    "tags": []
   },
   "outputs": [],
   "source": [
    "# Merge haildays and kfz dataframes by multiindex\n",
    "#Because the KfZ data is available only after 2005, the data from hail dataframe is filtered first\n",
    "\n",
    "# Filter the data in the first dataframe based on Jahr >= 2005\n",
    "hail_data_filtered = hail_data_copy[hail_data_copy['Jahr'] >= 2005]\n",
    "\n",
    "# Perform the inner join on Kanton and Jahr columns\n",
    "kfz_hail_df = pd.merge(hail_data_filtered, kfz_data, on=['Kanton', 'Jahr'], how='inner')\n",
    "\n",
    "# Print the merged dataframe header\n",
    "kfz_hail_df.head()\n"
   ]
  },
  {
   "cell_type": "markdown",
   "id": "9d0035aa",
   "metadata": {},
   "source": [
    "Eine neue Spalte wird durch Multiplikation der Elemente der Spalte *number of hail days* und *Total-KFZ* erstellt. \n",
    "\n",
    "Die Einheit der neuen Spalte ist **HagelTag x Auto**. \n",
    "\n",
    "Die Idee dabei ist, dass das Risiko proportional zur Anzahl der Hageltage und der Anzahl der Autos ist. Wenn es beispielsweise 100 Autos in einem bestimmten Kanton und 10 Hageltage gibt, wird angenommen, dass das Risiko dem Fall entspricht, dass wir 1000 Autos und 1 Tag mit Hagel haben."
   ]
  },
  {
   "cell_type": "code",
   "execution_count": null,
   "id": "8ddd4c46",
   "metadata": {},
   "outputs": [],
   "source": [
    "# A new column is created by multiply elements of column \"number of hail days\" and \"Total-KFZ\" \n",
    "# The Unite of the new column is \"day-car\". Idea here is that risk is proportional to number of haildays and number of cars\n",
    "# as an example, if there were 100 cars in a specific canton and 10 days of hail, the risk is assumed to be equal \n",
    "# to the case where we had 1000 cars and 1 day with hail.\n",
    "\n",
    "kfz_hail_df[\"hailday_kfz\"] =kfz_hail_df.apply(lambda row: row['number of hail days'] * row['Total_KFZ'], axis=1)\n"
   ]
  },
  {
   "cell_type": "code",
   "execution_count": null,
   "id": "6420f08e",
   "metadata": {},
   "outputs": [],
   "source": [
    "# Column Jahr is in int64 format so we covert that column \n",
    "kfz_hail_df['Jahr'] = pd.to_datetime(kfz_hail_df['Jahr'], format='%Y').dt.strftime('%Y')\n",
    "\n",
    "kfz_hail_df.info()"
   ]
  },
  {
   "cell_type": "code",
   "execution_count": null,
   "id": "37e2943d",
   "metadata": {},
   "outputs": [],
   "source": [
    "# To make more sense of the data, the *hailday_kfz* is normalized per 100k autos.\n",
    "\n",
    "kfz_hail_df['hailday_kfz_normalized'] = kfz_hail_df['hailday_kfz'] / 100000\n",
    "kfz_hail_df = kfz_hail_df.sort_values('Jahr', ascending=False).reset_index(drop=True)"
   ]
  },
  {
   "cell_type": "code",
   "execution_count": null,
   "id": "b0ec86ca",
   "metadata": {},
   "outputs": [],
   "source": [
    "kfz_hail_df.head()"
   ]
  },
  {
   "cell_type": "markdown",
   "id": "bee8b6c9",
   "metadata": {},
   "source": [
    "<a id=\"visualization_results\"></a>\n",
    "## 4.4 Visualisierung der kombinierten Ergebnisse"
   ]
  },
  {
   "cell_type": "markdown",
   "id": "4c43df55",
   "metadata": {},
   "source": [
    "### Bar running chart"
   ]
  },
  {
   "cell_type": "code",
   "execution_count": null,
   "id": "4594e50e",
   "metadata": {},
   "outputs": [],
   "source": [
    "!pip install bar_chart_race"
   ]
  },
  {
   "cell_type": "code",
   "execution_count": null,
   "id": "203958df",
   "metadata": {},
   "outputs": [],
   "source": [
    "import bar_chart_race as bcr"
   ]
  },
  {
   "cell_type": "code",
   "execution_count": null,
   "id": "2d4cedfa",
   "metadata": {},
   "outputs": [],
   "source": [
    "# To create a race bar chart, data has to be in wide format. \n",
    "# A wide format contains values that do not repeat in the first column.)\n",
    "\n",
    "# Convert to wide format\n",
    "kfz_hail_wide = kfz_hail_df.pivot(index='Jahr', columns='Kanton', values='hailday_kfz_normalized')"
   ]
  },
  {
   "cell_type": "code",
   "execution_count": null,
   "id": "c716cbed",
   "metadata": {},
   "outputs": [],
   "source": [
    "kfz_hail_wide"
   ]
  },
  {
   "cell_type": "markdown",
   "id": "c61442c8",
   "metadata": {},
   "source": [
    "<div class=\"alert alert-block alert-warning\">\n",
    "Wichtiger Hinweis: <b>ffmpeg</b> sollte auf dem Computer installiert sein, um das folgende Race-Bar-Diagramm auszuführen.\n",
    "</div>"
   ]
  },
  {
   "cell_type": "markdown",
   "id": "b7154da7",
   "metadata": {},
   "source": [
    "Installation von **ffmpeg** :\n",
    "\n",
    "Für Windows:\n",
    "\n",
    "1. Visit the official ffmpeg website: https://www.ffmpeg.org/download.html.\n",
    "2. Scroll down to the \"Windows Builds\" section and click on the link corresponding to \"Download FFmpeg\".\n",
    "3. Choose the appropriate version based on your system architecture (32-bit or 64-bit).\n",
    "4. Extract the downloaded zip file to a directory of your choice.\n",
    "5. Add the path to the ffmpeg executable (e.g., ffmpeg/bin) to your system's PATH environment variable.\n",
    "\n",
    "Für macOS:\n",
    "\n",
    "1. Open a terminal.\n",
    "2. Install Homebrew if you haven't already. Visit the Homebrew website (https://brew.sh/) and follow the installation instructions.\n",
    "3. Once Homebrew is installed, run the following command in the terminal:\n",
    "\n",
    "- *brew install ffmpeg*\n",
    "\n",
    "Für Linux (Ubuntu):\n",
    "\n",
    "1. Open a terminal.\n",
    "2. Run the following command to install ffmpeg:\n",
    "    \n",
    "- *sudo apt-get update*\n",
    "- *sudo apt-get install ffmpeg*\n"
   ]
  },
  {
   "cell_type": "code",
   "execution_count": null,
   "id": "1764a6ae",
   "metadata": {},
   "outputs": [],
   "source": [
    "import warnings\n",
    "warnings.filterwarnings('ignore')\n",
    "\n",
    "# for settings, see here: https://www.dexplo.org/bar_chart_race/api/\n",
    "\n",
    "bcr.bar_chart_race(\n",
    "    df = kfz_hail_wide, \n",
    "    title = \"Hageltagen x Anzahl Autos per Kanton (x100k)\", \n",
    "    n_bars=10, \n",
    "    orientation='h', \n",
    "    fixed_order= False,\n",
    "    fixed_max = True,\n",
    "    cmap = 'prism',\n",
    "    steps_per_period=10, \n",
    "    period_length=1000, \n",
    "    label_bars = False)\n",
    "     "
   ]
  },
  {
   "cell_type": "markdown",
   "id": "525c2d23",
   "metadata": {},
   "source": [
    "### Raster der einzelnen Balkendiagramme pro Jahr"
   ]
  },
  {
   "cell_type": "markdown",
   "id": "66ed0b1d",
   "metadata": {},
   "source": [
    "Die einzelnen Balkendiagramme für jedes Jahr dienen dem Vergleich des Hagelrisikos für Autos in den verschiedenen Kantonen."
   ]
  },
  {
   "cell_type": "code",
   "execution_count": null,
   "id": "221e568f",
   "metadata": {},
   "outputs": [],
   "source": [
    "# Below setting is to avoid a scroll down for the figures (full screen figure)"
   ]
  },
  {
   "cell_type": "code",
   "execution_count": null,
   "id": "6a39941e",
   "metadata": {},
   "outputs": [],
   "source": [
    "%%javascript\n",
    "IPython.OutputArea.prototype._should_scroll = function(lines) {\n",
    "    return false;\n",
    "}"
   ]
  },
  {
   "cell_type": "code",
   "execution_count": null,
   "id": "3cff8887",
   "metadata": {},
   "outputs": [],
   "source": [
    "sns.catplot(\n",
    "    data=kfz_hail_df.groupby('Jahr').apply(lambda x: x.sort_values('hailday_kfz_normalized',ascending=False)).reset_index(drop=True), \n",
    "    x=\"hailday_kfz_normalized\", \n",
    "    y=\"Kanton\", \n",
    "    col=\"Jahr\",\n",
    "    kind=\"bar\", \n",
    "    height=5, \n",
    "    aspect=.8, \n",
    "    col_wrap=3,\n",
    "    ).set_xlabels('Hageltagen x Anzahl Autos (x100k)')\n",
    "\n",
    "plt.show()\n"
   ]
  },
  {
   "cell_type": "markdown",
   "id": "5071abca-902a-4b44-aed5-50222ca97163",
   "metadata": {},
   "source": [
    "### Imagegrid des Hagelrisikos für Autos pro Jahr und Kanton"
   ]
  },
  {
   "cell_type": "code",
   "execution_count": null,
   "id": "d107ad99-1bba-4b84-ac40-42a5ebea059f",
   "metadata": {
    "tags": []
   },
   "outputs": [],
   "source": [
    "# color map defintions\n",
    "color_map_haildays_kfz = \"YlOrRd\"\n",
    "\n",
    "# xears from 2005 to 2022\n",
    "years = kfz_hail_df.Jahr.unique()\n",
    "years.sort()"
   ]
  },
  {
   "cell_type": "code",
   "execution_count": null,
   "id": "53a0d56f-476f-4411-9796-94bf035cfc6d",
   "metadata": {
    "tags": []
   },
   "outputs": [],
   "source": [
    "# join swiss canton shape dataframe\n",
    "canton_data_kfz_hail = canton_map.merge(kfz_hail_df, left_on=\"NAME\", right_on=\"Kanton\")"
   ]
  },
  {
   "cell_type": "code",
   "execution_count": null,
   "id": "8118bb2f-95ed-4412-9e5d-80e7e29c0f5a",
   "metadata": {
    "tags": []
   },
   "outputs": [],
   "source": [
    "# create ImageGrid 6x3 for 2005-2022\n",
    "fig = plt.figure(figsize=(20, 18))\n",
    "grid = ImageGrid(fig, 111, nrows_ncols=(6, 3), axes_pad=0.1)\n",
    "\n",
    "# colormap minimum and maximum definition (over all available years)\n",
    "min_kfz_hail = canton_data_kfz_hail[\"hailday_kfz_normalized\"].min()\n",
    "max_kfz_hail = canton_data_kfz_hail[\"hailday_kfz_normalized\"].max()\n",
    "\n",
    "# fill ImageGrid loop over all years\n",
    "for i, year in enumerate(years):\n",
    "    year_data = canton_data_kfz_hail[canton_data_kfz_hail[\"Jahr\"] == year]\n",
    "    ax = grid[i]\n",
    "    ax.axis(\"off\")\n",
    "    ax.set_title(year)\n",
    "    year_data.plot(\n",
    "        column=\"hailday_kfz_normalized\",\n",
    "        cmap=color_map_haildays_kfz,\n",
    "        linewidth=0.1,\n",
    "        ax=ax, \n",
    "        legend=False,\n",
    "        vmin=min_kfz_hail,\n",
    "        vmax=max_kfz_hail,\n",
    "    )\n",
    "\n",
    "# add colorbar\n",
    "ax = grid[0]\n",
    "sm = plt.cm.ScalarMappable(\n",
    "    cmap=color_map_haildays_kfz,\n",
    "    norm=plt.Normalize(vmin=min_kfz_hail, vmax=max_kfz_hail),\n",
    ")\n",
    "cbar = plt.colorbar(sm, ax=ax, pad=500, aspect=40)\n",
    "cbar.ax.tick_params(labelsize=12)\n",
    "cbar.ax.set_ylabel(\"Hageltagen x Anzahl Autos [100k]\", rotation=270, labelpad=20, size=14)\n",
    "\n",
    "# add title\n",
    "fig.suptitle(\"Produkt Anzahl Hageltage und Anzahl Autos pro Kanton\", fontsize=18, y=0.92, x=0.55)\n",
    "\n",
    "plt.show()"
   ]
  },
  {
   "cell_type": "markdown",
   "id": "dc3936e6-01c4-4678-8f51-c5c41f993aae",
   "metadata": {},
   "source": [
    "### Interkativer Plot zu Hagelrisiko für Autos pro Jahr und Kanton"
   ]
  },
  {
   "cell_type": "code",
   "execution_count": null,
   "id": "40af8b34-3607-4f96-97fa-5c117ef07d48",
   "metadata": {
    "tags": []
   },
   "outputs": [],
   "source": [
    "min_kfz_hail_canton = canton_data_kfz_hail[\"hailday_kfz_normalized\"].min()\n",
    "max_kfz_hail_canton = canton_data_kfz_hail[\"hailday_kfz_normalized\"].max()\n",
    "\n",
    "# defintion plot update function for year change\n",
    "def update_plot(year: int) -> None:\n",
    "    # filter data according to year selection\n",
    "    year_data = canton_data_kfz_hail[canton_data_kfz_hail[\"Jahr\"] == year]\n",
    "    ax = year_data.plot(\n",
    "        column=\"hailday_kfz_normalized\",\n",
    "        cmap=color_map_haildays_kfz,\n",
    "        linewidth=0.1,\n",
    "        legend=False,\n",
    "        vmin=min_kfz_hail_canton,\n",
    "        vmax=max_kfz_hail_canton,\n",
    "    )\n",
    "    ax.axis(\"off\")\n",
    "    ax.set_title(f\"{year}\")\n",
    "    # extract axes object from GeoAxesSubplot\n",
    "    ax = ax.axes\n",
    "    # create and add colorbar\n",
    "    sm = plt.cm.ScalarMappable(\n",
    "        cmap=color_map_haildays_kfz,\n",
    "        norm=plt.Normalize(vmin=min_kfz_hail_canton, vmax=max_kfz_hail_canton),\n",
    "    )\n",
    "    cbar = plt.colorbar(sm, ax=ax, fraction=0.05, pad=0.03)\n",
    "    cbar.ax.set_ylabel(\"Hageltagen x Anzahl Autos [100k]\", rotation=270, labelpad=20)\n",
    "    plt.show()\n",
    "\n",
    "\n",
    "# interactiver slider\n",
    "interactive_plot_haildays = interactive(update_plot, year=years, continuous_update=False)\n",
    "\n",
    "# display interactive plot\n",
    "display(interactive_plot_haildays)"
   ]
  },
  {
   "cell_type": "markdown",
   "id": "c17cfccf-5722-456d-a07b-313c7ef65e36",
   "metadata": {},
   "source": [
    "### Verlauf des Hagelrisikos für Autos pro Jahr"
   ]
  },
  {
   "cell_type": "code",
   "execution_count": null,
   "id": "4e19dcac-3a89-412b-8226-73c945cb46e1",
   "metadata": {
    "tags": []
   },
   "outputs": [],
   "source": [
    "kfz_hail_df_total = kfz_hail_df.groupby(\"Jahr\").agg({\"hailday_kfz_normalized\": sum}).reset_index()\n",
    "kfz_hail_df_total[\"canton\"] = \"All\"\n",
    "kfz_hail_df_total.head()\n",
    "\n",
    "fig = px.line(kfz_hail_df_total, x=\"Jahr\", y=\"hailday_kfz_normalized\")\n",
    "fig.update_layout(\n",
    "    title=\"Verlauf des Hagelrisikos für Autos pro Jahr\",\n",
    "    xaxis_title=\"Jahr\",\n",
    "    yaxis_title=\"Durchschn. Risiko\",\n",
    "    legend_title=\"Kanton\",\n",
    ")\n",
    "\n",
    "fig.show(config= dict(displayModeBar = False))"
   ]
  },
  {
   "cell_type": "markdown",
   "id": "8cef53df",
   "metadata": {},
   "source": [
    "### Balkendiagramm für den Durchschnitt über den gesamten Zeitraum"
   ]
  },
  {
   "cell_type": "markdown",
   "id": "cdf4c100",
   "metadata": {},
   "source": [
    "Im Folgenden wird der Durchschnitt von hailday_kfz_normalisiert über den gesamten Zeitraum berechnet."
   ]
  },
  {
   "cell_type": "code",
   "execution_count": null,
   "id": "c04e10c5",
   "metadata": {},
   "outputs": [],
   "source": [
    "df_average = kfz_hail_df.groupby('Kanton', as_index=False)['hailday_kfz_normalized'].mean().sort_values('hailday_kfz_normalized', ascending=False)"
   ]
  },
  {
   "cell_type": "code",
   "execution_count": null,
   "id": "c35dac2d",
   "metadata": {},
   "outputs": [],
   "source": [
    "# Horizontal bar chart\n",
    "\n",
    "# Initialize the matplotlib figure\n",
    "f, ax = plt.subplots(figsize=(6, 15))\n",
    "\n",
    "# Load the example car crash dataset\n",
    "df_average = kfz_hail_df.groupby('Kanton', as_index=False)['hailday_kfz_normalized'].mean().sort_values('hailday_kfz_normalized', ascending=False)\n",
    "\n",
    "# Plot the total crashes\n",
    "sns.set_color_codes(\"pastel\")\n",
    "sns.barplot(x=\"hailday_kfz_normalized\", y=\"Kanton\", data=df_average)\n",
    "\n",
    "# Add a legend and informative axis label\n",
    "ax.set(xlim=(0, 6), ylabel=\"Kanton\",\n",
    "       xlabel='Durchschnitt Hageltagen x Anzahl Autos (x100k)',\n",
    "      title='Durchschnitt gesamte Zeitspanne (2005-2022)')\n",
    "\n",
    "plt.show()"
   ]
  },
  {
   "cell_type": "markdown",
   "id": "46458561-43ec-45eb-a873-509ef3bd3500",
   "metadata": {},
   "source": [
    "### Karte für den Durchschnitt über den gesamten Zeitraum"
   ]
  },
  {
   "cell_type": "code",
   "execution_count": null,
   "id": "07cd9514-c2ca-49d2-b6d5-89b52ec624b9",
   "metadata": {
    "tags": []
   },
   "outputs": [],
   "source": [
    "# join swiss canton shape dataframe\n",
    "average_data_kfz_hail = canton_map.merge(df_average, left_on=\"NAME\", right_on=\"Kanton\")"
   ]
  },
  {
   "cell_type": "code",
   "execution_count": null,
   "id": "3d4c37b0-5fb3-4fbc-8877-980865b0c6f2",
   "metadata": {
    "tags": []
   },
   "outputs": [],
   "source": [
    "# colormap scale definitions\n",
    "min_kfz_hail_average = average_data_kfz_hail[\"hailday_kfz_normalized\"].min()\n",
    "max_kfz_hail_average = average_data_kfz_hail[\"hailday_kfz_normalized\"].max()\n",
    "\n",
    "ax = average_data_kfz_hail.plot(\n",
    "    column=\"hailday_kfz_normalized\",\n",
    "    cmap=color_map_haildays_kfz,\n",
    "    linewidth=0.1,\n",
    "    legend=False,\n",
    "    vmin=min_kfz_hail_average,\n",
    "    vmax=max_kfz_hail_average,\n",
    ")\n",
    "ax.axis(\"off\")\n",
    "ax.set_title(\"Durchschnitt gesamte Zeitspanne (2005-2022)\")\n",
    "\n",
    "# extract axes object from GeoAxesSubplot\n",
    "ax = ax.axes\n",
    "# create and add colorbar\n",
    "sm = plt.cm.ScalarMappable(\n",
    "    cmap=color_map_haildays_kfz,\n",
    "    norm=plt.Normalize(vmin=min_kfz_hail_average, vmax=max_kfz_hail_average),\n",
    ")\n",
    "cbar = plt.colorbar(sm, ax=ax, fraction=0.05, pad=0.03)\n",
    "cbar.ax.set_ylabel(\"Hageltagen x Anzahl Autos [100k]\", rotation=270, labelpad=20)\n",
    "plt.show()"
   ]
  },
  {
   "cell_type": "markdown",
   "id": "f3b14c46",
   "metadata": {},
   "source": [
    "Basierend auf den jährlichen Hageltagen und der Anzahl der immatrikulierten Autos über den gesamten Zeitraum (2005-2022) sind die Kantone Zürich, Bern und Luzern die Kantone mit dem höchsten Risiko für die Autoversicherer."
   ]
  },
  {
   "cell_type": "code",
   "execution_count": null,
   "id": "5e4924d4",
   "metadata": {},
   "outputs": [],
   "source": []
  }
 ],
 "metadata": {
  "kernelspec": {
   "display_name": "Python 3 (ipykernel)",
   "language": "python",
   "name": "python3"
  },
  "language_info": {
   "codemirror_mode": {
    "name": "ipython",
    "version": 3
   },
   "file_extension": ".py",
   "mimetype": "text/x-python",
   "name": "python",
   "nbconvert_exporter": "python",
   "pygments_lexer": "ipython3",
   "version": "3.10.9"
  }
 },
 "nbformat": 4,
 "nbformat_minor": 5
}
