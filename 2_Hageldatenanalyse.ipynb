{
 "cells": [
  {
   "cell_type": "markdown",
   "id": "d51d02be-11a9-4fca-ab32-a78a4d6ee747",
   "metadata": {},
   "source": [
    "# 2. Hageldatenanalyse\n",
    "\n",
    "In diesem Notebook werden die Hageldaten, welche im Notebook 0_Hageldaten_Download.ipynb heruntergeladen und vorprozessiert wurden, ausgwertet.\n",
    "\n",
    "Es handelt sich dabei um Daten zur Anzahl der Hageltage sowie die maximal zu erwartende Hagelkorngrösse in den Sommermonaten (April-September) von 2002 bis 2022. Da Hagel und Hagelkorngrössen nicht flächendeckend am Boden gemessen werden können, wird ein Hageltag und die Grösse aus Radarmessungen abgeleitet. \n",
    "\n",
    "Ein Hageltag ist definiert als ein Tag, an dem aus den Radarmessungen auf eine hohe Wahrscheinlichkeit (80%) für Hagel am Boden geschlossen wurde, basierend auf dem Radar-Parameter POH (Probability of Hail).\n",
    "\n",
    "Analog wird die Grösse ebenfalls aus den Radarmessungen abgeleitet und beschreibt die maximal zu erwartende Hagelkorngrösse auf einem Quadaratkilometer basierend auf dem Radar-Parameter MESHS (Maximum Expected Severe Hail Size). Hagelkorngrössen sind in Klassen von 2 cm - grösser 6 cm in 0.5 cm Schritten angegeben, wobei das untere Ende inklusiv, das obere Ende exklusiv ist.\n",
    "\n",
    "Das Notebook beinhaltet dabei die folgenden Abschnitte:\n",
    "\n",
    "* [2.1 Daten einlesen und Vorbearbeitung](#hail_data_readin)\n",
    "\n",
    "* [2.2 Verteilung Hageltage und Hagelkorngrösse Schweiz](#hail_distribution)\n",
    "\n",
    "* [2.3 Hagel Trends seit 2002](#hail_trends)\n",
    "\n",
    "* [2.4 Hagelrisiko nach Monat und Kantone](#hail_canton_month)"
   ]
  },
  {
   "cell_type": "code",
   "execution_count": null,
   "id": "4108aa3b-8539-42d4-ae0c-9eb4e98ac1e1",
   "metadata": {
    "tags": []
   },
   "outputs": [],
   "source": [
    "! pip install matplotlib\n",
    "! pip install plotly\n",
    "! pip install folium\n",
    "! pip install geopandas\n",
    "! pip install ipywidgets\n",
    "! pip install branca"
   ]
  },
  {
   "cell_type": "markdown",
   "id": "aed660b0-164b-40ac-a1b4-515c5264887b",
   "metadata": {},
   "source": [
    "<a id=\"hail_data_readin\"></a>\n",
    "## 2.1 Daten einlesen und Vorbearbeitung"
   ]
  },
  {
   "cell_type": "markdown",
   "id": "dcafc1ac-107a-4a91-af6a-4b1df372d208",
   "metadata": {},
   "source": [
    "In diesem Unterabschnitt werden alle nötigen Packages für das gesamte Notebook geladen und die Hageldaten eingelesen.\n",
    "Es werden ausserdem einige zusätzliche Dataframes auf Grundlage der Hageldaten erzeugt, welche für spätere Analysen benötigt werden. \n",
    "\n",
    "Weiterhin wird ein Shapefile eingelesen, welches Polygonzüge der Schweizer Kantonsgrenzen beinhaltet und zur Visualisierung benötigt wird."
   ]
  },
  {
   "cell_type": "code",
   "execution_count": null,
   "id": "6953d7b2-6823-4e2d-b234-17d85c26bd15",
   "metadata": {
    "tags": []
   },
   "outputs": [],
   "source": [
    "from pathlib import Path\n",
    "import pandas as pd\n",
    "import geopandas as gpd\n",
    "\n",
    "# Karte darstellen\n",
    "import folium\n",
    "from branca.colormap import linear\n",
    "\n",
    "# interaktive Plots\n",
    "import ipywidgets as widgets\n",
    "from ipywidgets import interactive\n",
    "from IPython.display import display\n",
    "\n",
    "# Plotting\n",
    "import matplotlib.pyplot as plt\n",
    "from mpl_toolkits.axes_grid1 import ImageGrid\n",
    "import plotly.express as px\n",
    "import plotly.io as pio\n",
    "pio.renderers.default = \"iframe\" # or 'colab' or 'iframe' or 'iframe_connected' or 'sphinx_gallery'"
   ]
  },
  {
   "cell_type": "markdown",
   "id": "08e5443b-e463-437f-bd9a-86133bc86f9d",
   "metadata": {},
   "source": [
    "### 2.1.1 Einlesen der Hageldaten und der Schweizer Kantonsgrenzen"
   ]
  },
  {
   "cell_type": "code",
   "execution_count": null,
   "id": "71cb5722-b4a1-4a77-adf8-cc86f1f1c411",
   "metadata": {
    "tags": []
   },
   "outputs": [],
   "source": [
    "# vorbereitete Hageldaten\n",
    "processed_data_path = Path(\"./data/processed\")\n",
    "hail_data_file = \"haildata_per_month.csv\"\n",
    "\n",
    "# Schweizer Kantone Shape file\n",
    "shape_path = Path(\"data\") / \"Swiss_shape_files\"\n",
    "shape_canton_file = \"swissBOUNDARIES3D_1_4_TLM_KANTONSGEBIET.shp\""
   ]
  },
  {
   "cell_type": "code",
   "execution_count": null,
   "id": "33d6fe32-8b42-4030-af15-03dbd69b187f",
   "metadata": {
    "tags": []
   },
   "outputs": [],
   "source": [
    "# Einlesen des Shapefiles für Schweizer Kantone in ein GeoDataFrame\n",
    "cantons_gdf = gpd.read_file(shape_path / shape_canton_file)\n",
    "\n",
    "cantons = {\n",
    "    \"Zürich\": \"ZH\",\n",
    "    \"Bern\": \"BE\",\n",
    "    \"Luzern\": \"LU\",\n",
    "    \"Uri\": \"UR\",\n",
    "    \"Schwyz\": \"SZ\",\n",
    "    \"Obwalden\": \"OW\",\n",
    "    \"Nidwalden\": \"NW\",\n",
    "    \"Glarus\": \"GL\",\n",
    "    \"Zug\": \"ZG\",\n",
    "    \"Fribourg\": \"FR\",\n",
    "    \"Solothurn\": \"SO\",\n",
    "    \"Basel-Stadt\": \"BS\",\n",
    "    \"Basel-Landschaft\": \"BL\",\n",
    "    \"Schaffhausen\": \"SH\",\n",
    "    \"Appenzell Ausserrhoden\": \"AR\",\n",
    "    \"Appenzell Innerrhoden\": \"AI\",\n",
    "    \"St. Gallen\": \"SG\",\n",
    "    \"Graubünden\": \"GR\",\n",
    "    \"Aargau\": \"AG\",\n",
    "    \"Thurgau\": \"TG\",\n",
    "    \"Ticino\": \"TI\",\n",
    "    \"Vaud\": \"VD\",\n",
    "    \"Valais\": \"VS\",\n",
    "    \"Neuchâtel\": \"NE\",\n",
    "    \"Genève\": \"GE\",\n",
    "    \"Jura\": \"JU\"\n",
    "}\n",
    "canton_map = cantons_gdf.replace({\"NAME\": cantons})\n",
    "\n",
    "# Hageldaten einlesen\n",
    "df_hail = pd.read_csv(processed_data_path / hail_data_file, sep=\",\")\n",
    "df_hail.head()"
   ]
  },
  {
   "cell_type": "markdown",
   "id": "67898280-89f5-43c9-9cb9-8878b41509c0",
   "metadata": {},
   "source": [
    "### 2.1.2 Vorbereitung Hageldaten"
   ]
  },
  {
   "cell_type": "code",
   "execution_count": null,
   "id": "9e4c22f1-a936-40ee-9411-00159b558952",
   "metadata": {
    "tags": []
   },
   "outputs": [],
   "source": [
    "# Definieren einer neuen Spalte 'lat_lon', welche 'latitude' (Breitengrad) und 'longitude' (Längengrad) kombiniert darstellt\n",
    "df_hail[\"lat_lon\"] = df_hail[\"lat\"].astype(str) + \"_\" + df_hail[\"lon\"].astype(str)\n",
    "\n",
    "# Definition einer neuen Spalte 'haildays_times_hailsize', welche das Produkt aus maximal zu erwartender Hagelkorngrösse\n",
    "# und Anzahl der Hageltage je Monat und Messpunkt multipliziert\n",
    "df_hail[\"haildays_times_hailsize\"] = df_hail[\"haildays\"] * df_hail[\"hailsize\"]\n",
    "\n",
    "df_hail.head()"
   ]
  },
  {
   "cell_type": "code",
   "execution_count": null,
   "id": "7f20fb5b-9dc1-40e3-8da3-344f45192ccf",
   "metadata": {
    "tags": []
   },
   "outputs": [],
   "source": [
    "# Erzeugen eines Dataframes, welches nur Einträge mit 'haildays_times_hailsize' grösser 0.0 enthält\n",
    "# dieses wird benötigt um die mittlere maximal zu erwartende Hagelkorngrösse je Messpunkt zu bestimmen\n",
    "df_hailsize = df_hail[df_hail[\"haildays_times_hailsize\"] > 0.0]\n",
    "df_hailsize.head()"
   ]
  },
  {
   "cell_type": "code",
   "execution_count": null,
   "id": "12b4134f-cc7d-4b49-a8ce-1d0d1735a136",
   "metadata": {
    "tags": []
   },
   "outputs": [],
   "source": [
    "# Berechnung der Messpunkte pro Kanton (benötigt für Normierungszwecke)\n",
    "points_per_canton = df_hail.groupby(\"canton\")[\"lat_lon\"].nunique()\n",
    "points_per_canton = points_per_canton.reset_index()\n",
    "points_per_canton.head()"
   ]
  },
  {
   "cell_type": "code",
   "execution_count": null,
   "id": "c0688622-2c41-4350-b54e-b871927bfaa0",
   "metadata": {
    "tags": []
   },
   "outputs": [],
   "source": [
    "# check ob alles korrekt ist\n",
    "points_switzerland = points_per_canton[\"lat_lon\"].sum()\n",
    "print(points_switzerland)\n",
    "print(sum(~df_hail[[\"lat\", \"lon\"]].duplicated()))\n",
    "print(points_per_canton[\"lat_lon\"].sum())\n",
    "sum(~df_hail[[\"lat\", \"lon\"]].duplicated()) == points_per_canton[\"lat_lon\"].sum()"
   ]
  },
  {
   "cell_type": "code",
   "execution_count": null,
   "id": "ccf1659b-7d45-43ce-9404-cbb2922f9027",
   "metadata": {},
   "outputs": [],
   "source": []
  },
  {
   "cell_type": "markdown",
   "id": "be1b1053-9ab5-4407-8ac3-3312ff6978df",
   "metadata": {},
   "source": [
    "<a id=\"hail_distribution\"></a>\n",
    "## 2.2 Verteilung Hageltage und Hagelkorngrösse Schweiz"
   ]
  },
  {
   "cell_type": "markdown",
   "id": "b9ad57fb-99c9-4c90-89b3-47a29c91fa76",
   "metadata": {},
   "source": [
    "Im folgenden Unterabschnitt werden die Verteilung der Hageltage und der Hagelkorngrösse in der Schweiz von 2002 bis 2022 in Leaflet maps visualisiert.\n",
    "\n",
    "Dabei werden alle Hageltage pro Messpunkt in der Schweiz von 2002 bis 2022 aufsummiert, um häufig von Hagel betroffene Gebiete zu identifizieren.\n",
    "\n",
    "Zur Visualisierung der Hagelkorngrösse pro Messpunkt wird das Produkt aus Hageltagen pro Monat und maximal zu erwartender Hagelkorngrösse pro Monat über alle Monate und Jahre von 2002 bis 2022 aussummiert und durch die Gesamtzahl der Hageltage je Messpunkt über alle Jahre geteilt."
   ]
  },
  {
   "cell_type": "code",
   "execution_count": null,
   "id": "8588caf4-2303-4590-9268-90119075aff0",
   "metadata": {
    "tags": []
   },
   "outputs": [],
   "source": [
    "df_hail.head(n=2)"
   ]
  },
  {
   "cell_type": "markdown",
   "id": "fc6dd604-e1cb-459a-a976-2fe02d3147b7",
   "metadata": {},
   "source": [
    "### 2.2.1 Summe der Hageltage von 2002 - 2022"
   ]
  },
  {
   "cell_type": "code",
   "execution_count": null,
   "id": "45e927ee-d678-41b5-ad2e-3b03f12ec870",
   "metadata": {
    "tags": []
   },
   "outputs": [],
   "source": [
    "# Aufsummieren aller Hageltage von 2002 bis 2022 pro Messpunkt\n",
    "df_haildays_sum = df_hail.groupby([\"lat\", \"lon\"]).agg(\n",
    "    haildays_sum = (\"haildays\", \"sum\"),\n",
    ").reset_index()\n",
    "df_haildays_sum.head()"
   ]
  },
  {
   "cell_type": "code",
   "execution_count": null,
   "id": "ba03ff8a",
   "metadata": {
    "tags": []
   },
   "outputs": [],
   "source": [
    "# Definition der zur Visualierung nötigen Datenpunkte\n",
    "latitudes = df_haildays_sum.lat\n",
    "longitudes = df_haildays_sum.lon\n",
    "haildaysum = df_haildays_sum.haildays_sum\n",
    "\n",
    "# Definition einer Colormap zur Visualisierung der Summer der Hageltage\n",
    "colormap = linear.YlGnBu_09.scale(min(haildaysum), max(haildaysum))\n",
    "\n",
    "# Erzeugen einer Karte mit Zentrum in der Schweiz\n",
    "switzerland_map = folium.Map(location=[46.8182, 8.2275], zoom_start=8)\n",
    "\n",
    "# Hinzufügen eines Punktes für jeden Messpunkt zur Karte\n",
    "for lat, lon, strength in zip(latitudes, longitudes, haildaysum):\n",
    "    folium.CircleMarker(\n",
    "        location=[lat, lon],\n",
    "        radius=2,\n",
    "        fill=True,\n",
    "        fill_opacity=0.7,\n",
    "        color=None,\n",
    "        fill_color=colormap(strength),\n",
    "    ).add_to(switzerland_map)\n",
    "\n",
    "# Hinzufügen der Colormap zur Karte inklusive Legende\n",
    "colormap.caption = \"Summe der Hageltage von 2002 - 2022\"\n",
    "colormap.add_to(switzerland_map)\n",
    "\n",
    "# Hinzufügen der Kantonsgrenzen als schwarze Linie zur Karte als GeoJSON layer\n",
    "folium.GeoJson(\n",
    "    cantons_gdf,\n",
    "    name=\"Cantons\",\n",
    "    style_function=lambda feature: {\"fillColor\": \"none\", \"color\": \"black\", \"weight\": 2}\n",
    ").add_to(switzerland_map)\n",
    "\n",
    "# Steuerungsebene hinzufügen\n",
    "folium.LayerControl().add_to(switzerland_map)\n",
    "\n",
    "# Karte darstellen\n",
    "switzerland_map"
   ]
  },
  {
   "cell_type": "code",
   "execution_count": null,
   "id": "caf5dcb7-c1c7-4ef5-989e-2ef6f9561c14",
   "metadata": {},
   "outputs": [],
   "source": []
  },
  {
   "cell_type": "markdown",
   "id": "91c76491-3692-4265-b827-e20396e852f5",
   "metadata": {},
   "source": [
    "### 2.2.2 Hagelkorngrösse von 2002 - 2022"
   ]
  },
  {
   "cell_type": "code",
   "execution_count": null,
   "id": "4ca12674-69b8-4808-aafd-fa150b39d125",
   "metadata": {
    "tags": []
   },
   "outputs": [],
   "source": [
    "# Bestimmung der mittleren maximal zu erwartenden Hagelkorngrösse je Messpunkt von 2002 bis 2022\n",
    "df_hailsize_sum = df_hailsize.groupby([\"lat\", \"lon\"]).agg(\n",
    "    haildays_sum = (\"haildays\", \"sum\"),\n",
    "    hailsize_sum = (\"haildays_times_hailsize\", \"sum\"),\n",
    ").reset_index()\n",
    "df_hailsize_sum[\"hailsize_mean\"] = (\n",
    "    df_hailsize_sum[\"hailsize_sum\"]\n",
    "    / df_hailsize_sum[\"haildays_sum\"]\n",
    ")\n",
    "df_hailsize_sum.head()"
   ]
  },
  {
   "cell_type": "code",
   "execution_count": null,
   "id": "cd62eabd-dbde-4786-8352-59d64d910112",
   "metadata": {
    "tags": []
   },
   "outputs": [],
   "source": [
    "# Definition der zur Visualierung nötigen Datenpunkte\n",
    "latitudes = df_hailsize_sum.lat\n",
    "longitudes = df_hailsize_sum.lon\n",
    "mean_hailsize = df_hailsize_sum.hailsize_mean\n",
    "\n",
    "# Definition einer Colormap zur Visualisierung der Hagelkorngrösse\n",
    "colormap = linear.YlOrRd_09.scale(min(mean_hailsize), max(mean_hailsize))\n",
    "\n",
    "# Erzeugen einer Karte mit Zentrum in der Schweiz\n",
    "switzerland_map = folium.Map(location=[46.8182, 8.2275], zoom_start=8)\n",
    "\n",
    "# Hinzufügen eines Punktes für jeden Messpunkt zur Karte\n",
    "for lat, lon, strength in zip(latitudes, longitudes, mean_hailsize):\n",
    "    folium.CircleMarker(\n",
    "        location=[lat, lon],\n",
    "        radius=2,\n",
    "        fill=True,\n",
    "        fill_opacity=0.7,\n",
    "        color=None,\n",
    "        fill_color=colormap(strength),\n",
    "    ).add_to(switzerland_map)\n",
    "\n",
    "# Hinzufügen der Colormap zur Karte inklusive Legende\n",
    "colormap.caption = \"Mittlere maximal zu erwartende Hagelkorngrösse von 2002 - 2022 in cm\"\n",
    "colormap.add_to(switzerland_map)\n",
    "\n",
    "# Hinzufügen der Kantonsgrenzen als schwarze Linie zur Karte als GeoJSON layer\n",
    "folium.GeoJson(\n",
    "    cantons_gdf,\n",
    "    name=\"Cantons\",\n",
    "    style_function=lambda feature: {\"fillColor\": \"none\", \"color\": \"black\", \"weight\": 2}\n",
    ").add_to(switzerland_map)\n",
    "\n",
    "# Steuerungsebene hinzufügen\n",
    "folium.LayerControl().add_to(switzerland_map)\n",
    "\n",
    "# Karte darstellen\n",
    "switzerland_map"
   ]
  },
  {
   "cell_type": "code",
   "execution_count": null,
   "id": "bfd43f01-d6f1-4b7b-affe-b9d66d10fdc0",
   "metadata": {},
   "outputs": [],
   "source": []
  },
  {
   "cell_type": "markdown",
   "id": "98bd915b-4b1f-4a1a-917f-2f4331169a95",
   "metadata": {},
   "source": [
    "<a id=\"hail_trends\"></a>\n",
    "## 2.3 Hagel Trends seit 2002"
   ]
  },
  {
   "cell_type": "markdown",
   "id": "373cfea9-796c-44a3-ad24-b00aa9e9e582",
   "metadata": {},
   "source": [
    "Im folgenden Unterabschnitt werden die Hagel Trends seit 2002 (bis einschliesslich 2022) visualisiert. Dabei werden einerseits die Summe der Hageltage pro Jahr und Kanton normiert auf die Anzahl der Messpunkte pro Kanton und andererseits die mittlere maximal zu erwartende Hagelkorngrösse pro Jahr und Kanton an Hageltagen visualisiert."
   ]
  },
  {
   "cell_type": "code",
   "execution_count": null,
   "id": "91882e4b-8e60-4c5a-be83-072329a4210f",
   "metadata": {
    "tags": []
   },
   "outputs": [],
   "source": [
    "# Farbpaletten Defintion für Hageltage\n",
    "color_map_haildays = \"YlGnBu\"\n",
    "\n",
    "# Farbpaletten Defintion für Hagelkorngrösse\n",
    "color_map_hailsize = \"YlOrRd\"\n",
    "\n",
    "# Jahre von 2002 bis 2022\n",
    "years = df_hail.year.unique()"
   ]
  },
  {
   "cell_type": "markdown",
   "id": "09dc89c1-d87e-40e4-9600-e7edb2ed67a4",
   "metadata": {},
   "source": [
    "### 2.3.1 Anzahl der Hageltage pro Jahr und Kanton"
   ]
  },
  {
   "cell_type": "code",
   "execution_count": null,
   "id": "9255d797-4993-48c6-8c8f-af3df0a96ab8",
   "metadata": {
    "tags": []
   },
   "outputs": [],
   "source": [
    "# Gruppieren der Hageldaten nach Jahr und Kanton und Aufsummierung der Hageltage\n",
    "df_hail_canton = df_hail.groupby([\"year\", \"canton\"]).agg(\n",
    "    haildays_sum = (\"haildays\", \"sum\"),\n",
    ").reset_index()\n",
    "\n",
    "# Zusammenführen der Hageldaten nach Jahr und Kanton mit Anzahl der Messpunkte pro Kanton\n",
    "df_hail_canton = df_hail_canton.merge(points_per_canton[[\"canton\", \"lat_lon\"]], left_on=\"canton\", right_on=\"canton\")\n",
    "# Normierung der Summe der Hageltage pro Jahr und Kanton auf die Anzahl der Messpunkte im Gitter pro Kanton\n",
    "df_hail_canton[\"haildays_per_point\"] = df_hail_canton.haildays_sum / df_hail_canton.lat_lon\n",
    "df_hail_canton.head()"
   ]
  },
  {
   "cell_type": "code",
   "execution_count": null,
   "id": "9a889c73-110a-4751-8584-daf7fc3e06f8",
   "metadata": {
    "tags": []
   },
   "outputs": [],
   "source": [
    "# join Hageldaten pro Kanton und Jahr mit Kanton Shapefile\n",
    "canton_data_haildays = canton_map.merge(df_hail_canton, left_on=\"NAME\", right_on=\"canton\")"
   ]
  },
  {
   "cell_type": "markdown",
   "id": "0acf116d-cbba-49c4-b85d-74a546e2c03c",
   "metadata": {},
   "source": [
    "#### Imagegrid zur Anzahl der Hageltage pro Jahr und Kanton von 2002 - 2022"
   ]
  },
  {
   "cell_type": "code",
   "execution_count": null,
   "id": "4ba5b5db-c568-4a1d-81b0-980be7b8d8e3",
   "metadata": {
    "tags": []
   },
   "outputs": [],
   "source": [
    "# ImageGrid 7x3 erstellen für die Jahre 2002-2022\n",
    "fig = plt.figure(figsize=(18, 18))\n",
    "grid = ImageGrid(fig, 111, nrows_ncols=(7, 3), axes_pad=0.1)\n",
    "\n",
    "# Colormap Skala Definitionen (Maximum und Minimum definiert über alle Jahre)\n",
    "min_haildays = canton_data_haildays[\"haildays_per_point\"].min()\n",
    "max_haildays = canton_data_haildays[\"haildays_per_point\"].max()\n",
    "\n",
    "# ImageGrid füllen (Schleife über alle Jahre)\n",
    "for i, year in enumerate(years):\n",
    "    year_data = canton_data_haildays[canton_data_haildays[\"year\"] == year]\n",
    "    ax = grid[i]\n",
    "    ax.axis(\"off\")\n",
    "    ax.set_title(year)\n",
    "    year_data.plot(\n",
    "        column=\"haildays_per_point\",\n",
    "        cmap=color_map_haildays,\n",
    "        linewidth=0.1,\n",
    "        ax=ax, \n",
    "        legend=False,\n",
    "        vmin=min_haildays,\n",
    "        vmax=max_haildays,\n",
    "    )\n",
    "\n",
    "# Hinzufügen einer Colorbar\n",
    "ax = grid[0]\n",
    "sm = plt.cm.ScalarMappable(\n",
    "    cmap=color_map_haildays,\n",
    "    norm=plt.Normalize(vmin=min_haildays, vmax=max_haildays),\n",
    ")\n",
    "cbar = plt.colorbar(sm, ax=ax, pad=2, aspect=40)\n",
    "cbar.ax.tick_params(labelsize=12)\n",
    "cbar.ax.set_ylabel(r\"$\\Sigma$ Hageltage / Anzahl Messpunkte Kanton\", rotation=270, labelpad=20, size=14)\n",
    "\n",
    "# Titel hinzufügen\n",
    "fig.suptitle(\"Summe Hageltage normiert auf Anzahl der Messpunkte pro Kanton\", fontsize=18, y=0.92, x=0.55)\n",
    "\n",
    "plt.show()"
   ]
  },
  {
   "cell_type": "markdown",
   "id": "cbb03b4e-afdc-4944-a064-90779df1f3ec",
   "metadata": {},
   "source": [
    "#### Interkativer Plot zur Anzahl der Hageltage pro Jahr und Kanton von 2002 - 2022"
   ]
  },
  {
   "cell_type": "code",
   "execution_count": null,
   "id": "8e687361-757f-45fe-afb4-8190997e891d",
   "metadata": {
    "tags": []
   },
   "outputs": [],
   "source": [
    "plt.rcParams[\"figure.figsize\"] = (12, 8)\n",
    "\n",
    "# Colormap Skala Definitionen (Maximum und Minimum definiert über alle Jahre)\n",
    "min_haildays = canton_data_haildays[\"haildays_per_point\"].min()\n",
    "max_haildays = canton_data_haildays[\"haildays_per_point\"].max()\n",
    "\n",
    "# Defintion der Plot Update Funktion für die Jahresauswahl\n",
    "def update_plot(year: int) -> None:\n",
    "    # Filterung der Daten nach Jahresauswahl\n",
    "    year_data = canton_data_haildays[canton_data_haildays[\"year\"] == year]\n",
    "    ax = year_data.plot(\n",
    "        column=\"haildays_per_point\",\n",
    "        cmap=color_map_haildays,\n",
    "        linewidth=0.1,\n",
    "        legend=False,\n",
    "        vmin=min_haildays,\n",
    "        vmax=max_haildays,\n",
    "    )\n",
    "    ax.axis(\"off\")\n",
    "    ax.set_title(f\"Summe Hageltage normiert auf Anzahl der Messpunkte pro Kanton {year}\")\n",
    "    # Axes Objekt von GeoAxesSubplot Objekt extrahieren\n",
    "    ax = ax.axes\n",
    "    # erzeugen und hinzufügen einer Colorbar\n",
    "    sm = plt.cm.ScalarMappable(\n",
    "        cmap=color_map_haildays,\n",
    "        norm=plt.Normalize(vmin=min_haildays, vmax=max_haildays),\n",
    "    )\n",
    "    cbar = plt.colorbar(sm, ax=ax, fraction=0.05, pad=0.03)\n",
    "    cbar.ax.set_ylabel(r\"$\\Sigma$ Hageltage / Anzahl Messpunkte Kanton\", rotation=270, labelpad=20)\n",
    "    plt.show()\n",
    "\n",
    "\n",
    "# interaktiver Slider\n",
    "interactive_plot_haildays = interactive(update_plot, year=years, continuous_update=False)\n",
    "\n",
    "# interaktiven Plot darstellen\n",
    "display(interactive_plot_haildays)"
   ]
  },
  {
   "cell_type": "markdown",
   "id": "9a23db8d-e276-4dae-b152-8404550db6c7",
   "metadata": {},
   "source": [
    "#### Verlauf der Summe der Hageltage je Kanton und Jahr normiert auf die Anzahl der Messpunkte je Kanton"
   ]
  },
  {
   "cell_type": "code",
   "execution_count": null,
   "id": "4276d3e9-4095-4739-a57e-642d8defff09",
   "metadata": {
    "tags": []
   },
   "outputs": [],
   "source": [
    "fig = px.line(df_hail_canton, x=\"year\", y=\"haildays_per_point\", color=\"canton\")\n",
    "\n",
    "fig.update_layout(\n",
    "    title=\"Verlauf der Summe der Hageltage je Kanton und Jahr normiert auf die Anzahl der Messpunkte je Kanton\",\n",
    "    xaxis_title=\"Jahr\",\n",
    "    yaxis_title=\"Summe Hageltage pro Messpunkt\",\n",
    "    legend_title=\"Kanton\",\n",
    ")\n",
    "fig.show(config= dict(displayModeBar = False))"
   ]
  },
  {
   "cell_type": "code",
   "execution_count": null,
   "id": "e42021d5-f609-4ae3-a7e4-a152f9f73519",
   "metadata": {
    "tags": []
   },
   "outputs": [],
   "source": [
    "# Erzeugen eines Dataframes für die gesamte Schweiz basierend auf obigen Dataframe für Summe der Hageltage pro Jahr und Kanton\n",
    "df_haildays_total = df_hail_canton.groupby(\"year\").agg({\"haildays_sum\": sum, \"lat_lon\": sum}).reset_index()\n",
    "df_haildays_total[\"haildays_per_point\"] = df_haildays_total[\"haildays_sum\"] / df_haildays_total[\"lat_lon\"]\n",
    "df_haildays_total[\"canton\"] = \"All\"\n",
    "df_haildays_total.head()"
   ]
  },
  {
   "cell_type": "markdown",
   "id": "87c92a6d-a2f0-451a-b5e2-d792ece66c4f",
   "metadata": {},
   "source": [
    "#### Verlauf der Summe der Hageltage pro Jahr normiert auf die Anzahl der Messpunkte in der Schweiz"
   ]
  },
  {
   "cell_type": "code",
   "execution_count": null,
   "id": "2dd19786-84ec-4a62-8da7-8addff6704fd",
   "metadata": {
    "tags": []
   },
   "outputs": [],
   "source": [
    "fig = px.line(df_haildays_total, x=\"year\", y=\"haildays_per_point\")\n",
    "fig.update_layout(\n",
    "    title=\"Verlauf der Summe der Hageltage pro Jahr normiert auf die Anzahl der Messpunkte in der Schweiz\",\n",
    "    xaxis_title=\"Jahr\",\n",
    "    yaxis_title=\"Hageltage pro Messpunkt\",\n",
    "    legend_title=\"Kanton\",\n",
    ")\n",
    "\n",
    "fig.show(config= dict(displayModeBar = False))"
   ]
  },
  {
   "cell_type": "code",
   "execution_count": null,
   "id": "f0599a39-c188-4b21-80c1-2fb32bc502f2",
   "metadata": {},
   "outputs": [],
   "source": []
  },
  {
   "cell_type": "code",
   "execution_count": null,
   "id": "3672a472-a60d-4aab-846b-f9536d799390",
   "metadata": {},
   "outputs": [],
   "source": []
  },
  {
   "cell_type": "markdown",
   "id": "02ce3ad0-706c-43bc-921b-e2d548036184",
   "metadata": {},
   "source": [
    "### 2.3.2 Mittlere maximal zu erwartende Hagelkorngrösse pro Jahr und Kanton"
   ]
  },
  {
   "cell_type": "code",
   "execution_count": null,
   "id": "e86eaaca-d355-4bc4-b14e-d52979cb1843",
   "metadata": {
    "tags": []
   },
   "outputs": [],
   "source": [
    "# Gruppieren der Hageldaten nach Jahr und Kanton und Aufsummierung der Hagelkorngrösse\n",
    "df_hailsize_canton = df_hailsize.groupby([\"year\", \"canton\"]).agg(\n",
    "    hailsize_sum = (\"hailsize\", \"sum\"),\n",
    ").reset_index()\n",
    "\n",
    "# Zusammenführen der Hageldaten nach Jahr und Kanton mit Anzahl der Messpunkte pro Kanton\n",
    "df_hailsize_canton = df_hailsize_canton.merge(points_per_canton[[\"canton\", \"lat_lon\"]], left_on=\"canton\", right_on=\"canton\")\n",
    "# Normierung der Summe der Hageltage pro Jahr und Kanton auf die Anzahl der Messpunkte im Gitter pro Kanton\n",
    "df_hailsize_canton[\"hailsize_per_point\"] = df_hailsize_canton.hailsize_sum / df_hailsize_canton.lat_lon\n",
    "df_hailsize_canton.head()"
   ]
  },
  {
   "cell_type": "code",
   "execution_count": null,
   "id": "4a2ff848-9b4a-4eac-af84-775625616962",
   "metadata": {
    "tags": []
   },
   "outputs": [],
   "source": [
    "# join Hageldaten pro Kanton und Jahr mit Kanton Shapefile\n",
    "canton_data_hailsize = canton_map.merge(df_hailsize_canton, left_on=\"NAME\", right_on=\"canton\")"
   ]
  },
  {
   "cell_type": "markdown",
   "id": "5cfe9128-86ee-4de9-a84f-a330565d2ece",
   "metadata": {},
   "source": [
    "#### Imagegrid zur maximal zu erwartende Hagelkorngrösse pro Jahr und Kanton von 2002 - 2022"
   ]
  },
  {
   "cell_type": "code",
   "execution_count": null,
   "id": "ebd9b849-3a47-4784-a025-67078c9fe794",
   "metadata": {
    "tags": []
   },
   "outputs": [],
   "source": [
    "# ImageGrid 7x3 erstellen für die Jahre 2002-2022\n",
    "fig = plt.figure(figsize=(18, 18))\n",
    "grid = ImageGrid(fig, 111, nrows_ncols=(7, 3), axes_pad=0.1)\n",
    "\n",
    "# Colormap Skala Definitionen (Maximum und Minimum definiert über alle Jahre)\n",
    "min_hailsize = canton_data_hailsize[\"hailsize_per_point\"].min()\n",
    "max_hailsize = canton_data_hailsize[\"hailsize_per_point\"].max()\n",
    "\n",
    "# ImageGrid füllen\n",
    "for i, year in enumerate(years):\n",
    "    year_data = canton_data_hailsize[canton_data_hailsize[\"year\"] == year]\n",
    "    ax = grid[i]\n",
    "    ax.axis(\"off\")\n",
    "    ax.set_title(year)\n",
    "    year_data.plot(\n",
    "        column=\"hailsize_per_point\",\n",
    "        cmap=color_map_hailsize,\n",
    "        linewidth=0.1,\n",
    "        ax=ax, \n",
    "        legend=False,\n",
    "        vmin=min_hailsize,\n",
    "        vmax=max_hailsize,\n",
    "    )\n",
    "\n",
    "# Hinzufügen einer Colorbar\n",
    "ax = grid[0]\n",
    "sm = plt.cm.ScalarMappable(\n",
    "    cmap=color_map_hailsize,\n",
    "    norm=plt.Normalize(vmin=min_hailsize, vmax=max_hailsize),\n",
    ")\n",
    "cbar = plt.colorbar(sm, ax=ax, pad=2, aspect=40)\n",
    "cbar.ax.tick_params(labelsize=12)\n",
    "cbar.ax.set_ylabel(r\"$\\Sigma$ maximale Hagelkorngrösse [cm] / Anzahl Messpunkte Kanton\", rotation=270, labelpad=20, size=14)\n",
    "\n",
    "# Titel hinzufügen\n",
    "fig.suptitle(\"Summe maximale Hagelkorngrösse in cm normiert auf Anzahl der Messpunkte pro Kanton\", fontsize=18, y=0.92, x=0.55)\n",
    "\n",
    "plt.show()"
   ]
  },
  {
   "cell_type": "markdown",
   "id": "47e9de58-92ad-494a-9403-68792e6204f7",
   "metadata": {},
   "source": [
    "#### Interkativer Plot zur maximal zu erwartende Hagelkorngrösse pro Jahr und Kanton von 2002 - 2022"
   ]
  },
  {
   "cell_type": "code",
   "execution_count": null,
   "id": "4372cc22-bc25-4615-b16c-c65e7b42fe14",
   "metadata": {
    "tags": []
   },
   "outputs": [],
   "source": [
    "plt.rcParams[\"figure.figsize\"] = (12, 8)\n",
    "\n",
    "# Colormap Skala Definitionen (Maximum und Minimum definiert über alle Jahre)\n",
    "min_hailsize = canton_data_hailsize[\"hailsize_per_point\"].min()\n",
    "max_hailsize = canton_data_hailsize[\"hailsize_per_point\"].max()\n",
    "\n",
    "# Defintion der Plot Update Funktion für die Jahresauswahl\n",
    "def update_plot(year):\n",
    "    # Filterung der Daten nach Jahresauswahl\n",
    "    year_data = canton_data_hailsize[canton_data_hailsize[\"year\"] == year]\n",
    "    ax = year_data.plot(\n",
    "        column=\"hailsize_per_point\",\n",
    "        cmap=color_map_hailsize,\n",
    "        linewidth=0.1,\n",
    "        legend=False,\n",
    "        vmin=min_hailsize,\n",
    "        vmax=max_hailsize,\n",
    "    )\n",
    "    ax.axis(\"off\")\n",
    "    ax.set_title(\"Summe maximale Hagelkorngrösse in cm normiert auf Messpunkte je Kanton\" + f\" {year}\")\n",
    "    # Axes Objekt von GeoAxesSubplot Objekt extrahieren\n",
    "    ax = ax.axes\n",
    "    # erzeugen und hinzufügen einer Colorbar\n",
    "    sm = plt.cm.ScalarMappable(\n",
    "        cmap=color_map_hailsize,\n",
    "        norm=plt.Normalize(vmin=min_hailsize, vmax=max_hailsize),\n",
    "    )\n",
    "    cbar = plt.colorbar(sm, ax=ax, fraction=0.05, pad=0.03)\n",
    "    cbar.ax.set_ylabel(r\"$\\Sigma$ maximale Hagelkorngrösse [cm] / Anzahl Messpunkte\", rotation=270, labelpad=20)\n",
    "    plt.show()\n",
    "\n",
    "    \n",
    "# interaktiver Slider\n",
    "interactive_plot = interactive(update_plot, year=years, continuous_update=False)\n",
    "\n",
    "# interaktiven Plot darstellen\n",
    "display(interactive_plot)"
   ]
  },
  {
   "cell_type": "markdown",
   "id": "fc562527-c18a-420e-8974-babe8061a625",
   "metadata": {},
   "source": [
    "#### Verlauf der Summe der maximal zu erwartenden Hagelkorngrösse in cm je Kanton und Jahr normiert auf die Anzahl der Messpunkte je Kanton"
   ]
  },
  {
   "cell_type": "code",
   "execution_count": null,
   "id": "b864b73d-6ea0-46f0-945d-030f7165a857",
   "metadata": {
    "tags": []
   },
   "outputs": [],
   "source": [
    "fig = px.line(df_hailsize_canton, x=\"year\", y=\"hailsize_per_point\", color=\"canton\")\n",
    "\n",
    "fig.update_layout(\n",
    "    title=\"Verlauf der Summe der maximal zu erwartenden Hagelkorngrösse in cm je Kanton und Jahr normiert auf die Anzahl der Messpunkte je Kanton\",\n",
    "    xaxis_title=\"Jahr\",\n",
    "    yaxis_title=\"Summe Hagelkorngrösse in cm pro Messpunkt\",\n",
    "    legend_title=\"Kanton\",\n",
    ")\n",
    "fig.show(config= dict(displayModeBar = False))"
   ]
  },
  {
   "cell_type": "code",
   "execution_count": null,
   "id": "7b1995ec-1e42-4457-b7c4-c18ff1efbb0c",
   "metadata": {
    "tags": []
   },
   "outputs": [],
   "source": [
    "# Erzeugen eines Dataframes für die gesamte Schweiz basierend auf obigen Dataframe für Summe der Hagelkorngrösse pro Jahr und Kanton\n",
    "df_hailsize_total = df_hailsize_canton.groupby(\"year\").agg({\"hailsize_sum\": sum, \"lat_lon\": sum}).reset_index()\n",
    "df_hailsize_total[\"hailsize_per_point\"] = df_hailsize_total[\"hailsize_sum\"] / df_hailsize_total[\"lat_lon\"]\n",
    "df_hailsize_total[\"canton\"] = \"All\"\n",
    "df_hailsize_total.head()"
   ]
  },
  {
   "cell_type": "markdown",
   "id": "b252c44e-7504-4c91-b8fe-c90d5eb4a81e",
   "metadata": {},
   "source": [
    "#### Verlauf der Summe der maximal zu erwartenden Hagelkorngrösse in cm pro Jahr normiert auf die Anzahl der Messpunkte in der Schweiz"
   ]
  },
  {
   "cell_type": "code",
   "execution_count": null,
   "id": "edc2b0cf-c207-4997-b0e4-2d77fa6bb3f8",
   "metadata": {
    "tags": []
   },
   "outputs": [],
   "source": [
    "fig = px.line(df_hailsize_total, x=\"year\", y=\"hailsize_per_point\")\n",
    "fig.update_layout(\n",
    "    title=\"Verlauf der Summe der maximal zu erwartenden Hagelkorngrösse in cm pro Jahr normiert auf die Anzahl der Messpunkte in der Schweiz\",\n",
    "    xaxis_title=\"Jahr\",\n",
    "    yaxis_title=\"Summe Hagelkorngrösse in cm pro Messpunkt\",\n",
    ")\n",
    "\n",
    "fig.show(config= dict(displayModeBar = False))"
   ]
  },
  {
   "cell_type": "code",
   "execution_count": null,
   "id": "c34b46a1-d245-4504-ad6d-5ed1a0aca003",
   "metadata": {},
   "outputs": [],
   "source": []
  },
  {
   "cell_type": "code",
   "execution_count": null,
   "id": "55cfc8af-6dfa-4d20-842e-767e8cd0dbb1",
   "metadata": {},
   "outputs": [],
   "source": []
  },
  {
   "cell_type": "code",
   "execution_count": null,
   "id": "f8b09724-5598-4f2e-a787-e8716bc6492f",
   "metadata": {},
   "outputs": [],
   "source": []
  },
  {
   "cell_type": "markdown",
   "id": "1d704a55-65ad-4d0d-bc87-0ea6ef5052c0",
   "metadata": {},
   "source": [
    "<a id=\"hail_canton_month\"></a>\n",
    "## 2.4 Hagelrisiko nach Monat und Kantone"
   ]
  },
  {
   "cell_type": "markdown",
   "id": "3572d13b-0e6f-4c08-aa59-fb26a0f2649b",
   "metadata": {},
   "source": [
    "Im folgenden Abschnitt wird das Hagelrisiko nach Monat und Kanton analysiert und visualisiert. Dabei werden die Daten zu den Hageltage und die maximal zu erwartenden Hagelkorngrösse von 2002 bis 2022 verwendet."
   ]
  },
  {
   "cell_type": "code",
   "execution_count": null,
   "id": "9d0cff75-8842-4e6b-8d50-9fab43c8676b",
   "metadata": {},
   "outputs": [],
   "source": [
    "df_hail.head(n=2)"
   ]
  },
  {
   "cell_type": "markdown",
   "id": "4736a926-59d9-4c7f-a840-310720f6d34a",
   "metadata": {},
   "source": [
    "### 2.4.1 Summe der Hageltage pro Monat und Kanton"
   ]
  },
  {
   "cell_type": "code",
   "execution_count": null,
   "id": "28c7af50-8cac-418e-8a8a-47a3cd1407dc",
   "metadata": {
    "tags": []
   },
   "outputs": [],
   "source": [
    "# Gruppieren der Hageldaten nach Monat und Jahr und Aufsummierung der Hageltage\n",
    "df_hail_month_year = df_hail.groupby([\"month\", \"year\"]).agg(\n",
    "    haildays_sum = (\"haildays\", \"sum\"),\n",
    ").reset_index()\n",
    "# Umbenennung der 'year' und 'month' Spalte in deutsche Namen für sprachlich konsistente Plots\n",
    "df_hail_month_year = df_hail_month_year.rename(\n",
    "    columns={\n",
    "        \"year\": \"Jahr\",\n",
    "        \"month\": \"Monat\",\n",
    "    }\n",
    ")\n",
    "\n",
    "# Normierung auf die Anzahl der Messpunkte in der Schweiz\n",
    "df_hail_month_year[\"haildays_sum\"] /= points_switzerland\n",
    "\n",
    "df_hail_month_year.head()"
   ]
  },
  {
   "cell_type": "markdown",
   "id": "514e4266-304d-4e18-b971-1866b73f25cd",
   "metadata": {},
   "source": [
    "#### Summe der Hageltage pro Monat von 2002-2022"
   ]
  },
  {
   "cell_type": "code",
   "execution_count": null,
   "id": "1c9dac7b-c69c-45be-ab66-04b47fa6d396",
   "metadata": {
    "tags": []
   },
   "outputs": [],
   "source": [
    "fig = px.bar(df_hail_month_year, x=\"Monat\", y=\"haildays_sum\", color=\"Jahr\")\n",
    "\n",
    "fig.update_layout(\n",
    "    title=\"Summe der Hageltage pro Monat von 2002-2022\",\n",
    "    xaxis_title=\"Monat\",\n",
    "    xaxis=dict(\n",
    "        tickmode=\"array\",\n",
    "        tickvals=[4, 5, 6, 7, 8, 9],\n",
    "        ticktext=[\"April\", \"Mai\", \"Juni\", \"Juli\", \"August\", \"September\"],\n",
    "    ),\n",
    "    yaxis_title=\"Summe Hageltage / Anzahl Messpunkte\",\n",
    ")\n",
    "\n",
    "fig.show(config= dict(displayModeBar = False))"
   ]
  },
  {
   "cell_type": "code",
   "execution_count": null,
   "id": "e418c42c-1bbe-4f3e-ba3e-268c34d46d95",
   "metadata": {},
   "outputs": [],
   "source": []
  },
  {
   "cell_type": "code",
   "execution_count": null,
   "id": "b9c74447-aff0-4113-8dbb-369d91e6d0ff",
   "metadata": {
    "tags": []
   },
   "outputs": [],
   "source": [
    "# Gruppieren der Hageldaten nach Kanton und Aufsummierung der Hageltage\n",
    "df_hail_canton_total = df_hail.groupby(\"canton\").agg(\n",
    "    haildays_sum = (\"haildays\", \"sum\"),\n",
    ").reset_index()\n",
    "\n",
    "# Zusammenführen der Hageltage nach Kanton mit Messpunkten im Gitter je Kanton\n",
    "df_hail_canton_total = df_hail_canton_total.merge(\n",
    "    points_per_canton[[\"canton\", \"lat_lon\"]],\n",
    "    left_on=\"canton\",\n",
    "    right_on=\"canton\",\n",
    ")\n",
    "\n",
    "# Normierung der Summe der Hageltage je Kanton auf Messpunkte pro Kanton\n",
    "df_hail_canton_total[\"haildays_per_point\"] = (\n",
    "    df_hail_canton_total[\"haildays_sum\"]\n",
    "    / df_hail_canton_total[\"lat_lon\"]\n",
    "    / len(years)\n",
    ")\n",
    "df_hail_canton_total.head()"
   ]
  },
  {
   "cell_type": "markdown",
   "id": "3afc97c2-e878-468e-b3b7-17b101e22d22",
   "metadata": {},
   "source": [
    "#### Anteil an Summe der Hageltage 2002-2022 pro Kanton normiert auf die Anzahl der Messpunkte je Kanton"
   ]
  },
  {
   "cell_type": "code",
   "execution_count": null,
   "id": "fe1b7e77-e756-4cd3-abac-3e0bc50cf184",
   "metadata": {
    "tags": []
   },
   "outputs": [],
   "source": [
    "fig = px.pie(\n",
    "    df_hail_canton_total,\n",
    "    values=\"haildays_per_point\",\n",
    "    names=\"canton\",\n",
    "    hole=.3,\n",
    "    color_discrete_sequence=px.colors.sequential.YlGnBu\n",
    ")\n",
    "\n",
    "fig.update_layout(\n",
    "    title={\n",
    "        \"text\": \"Anteil an Summe der Hageltage 2002-2022 pro Kanton normiert auf die Anzahl der Messpunkte je Kanton\",\n",
    "        \"y\": 0.1,\n",
    "        \"x\": 0.4,\n",
    "        \"xanchor\": \"center\",\n",
    "        \"yanchor\": \"top\",\n",
    "    },\n",
    "    legend_title=\"Kanton\",\n",
    ")\n",
    "\n",
    "fig.show(config= dict(displayModeBar = False))"
   ]
  },
  {
   "cell_type": "code",
   "execution_count": null,
   "id": "010f144a-c731-496f-9c10-91d441b94fe6",
   "metadata": {},
   "outputs": [],
   "source": []
  },
  {
   "cell_type": "code",
   "execution_count": null,
   "id": "28f86d75-fce6-46cc-b8ac-817ebbd03e84",
   "metadata": {
    "tags": []
   },
   "outputs": [],
   "source": [
    "# Gruppieren der Hageldaten nach Messzeitpunkt und Kanton und Aufsummierung der Hageltage\n",
    "df_hail_date = df_hail.groupby([\"time\", \"canton\"]).agg(\n",
    "    haildays_sum = (\"haildays\", \"sum\"),\n",
    ").reset_index()\n",
    "\n",
    "# Zusammenführen des obigen Dataframes mit Messpunkten im Gitter je Kanton\n",
    "df_hail_date = df_hail_date.merge(\n",
    "    points_per_canton[[\"canton\", \"lat_lon\"]],\n",
    "    left_on=\"canton\",\n",
    "    right_on=\"canton\",\n",
    ")\n",
    "\n",
    "# Normierung der Summe der Hageltage je Zeitpunkt und Kanton auf Messpunkte pro Kanton\n",
    "df_hail_date[\"haildays_per_point\"] = df_hail_date.haildays_sum / df_hail_date.lat_lon\n",
    "\n",
    "df_hail_date.head()"
   ]
  },
  {
   "cell_type": "markdown",
   "id": "6ef32724-bad0-46b1-b097-fefcac35a1cc",
   "metadata": {},
   "source": [
    "#### Summe der Hageltage pro Monat und Jahr je Kanton"
   ]
  },
  {
   "cell_type": "code",
   "execution_count": null,
   "id": "1178383b-380f-4c53-9b0e-79fd1d0daff3",
   "metadata": {
    "tags": []
   },
   "outputs": [],
   "source": [
    "fig = px.line(df_hail_date, x=\"time\", y=\"haildays_sum\", color=\"canton\")\n",
    "\n",
    "fig.update_layout(\n",
    "    title=\"Summe der Hageltage pro Monat und Jahr je Kanton\",\n",
    "    xaxis_title=\"Monat\",\n",
    "    yaxis_title=\"Summe Hageltage\",\n",
    "    legend_title=\"Kanton\",\n",
    ")\n",
    "fig.show(config= dict(displayModeBar = False))"
   ]
  },
  {
   "cell_type": "code",
   "execution_count": null,
   "id": "d11c6305-f7c7-475b-abec-830319f4701f",
   "metadata": {},
   "outputs": [],
   "source": []
  },
  {
   "cell_type": "code",
   "execution_count": null,
   "id": "fc35b674-97de-4fb8-ad24-e21b7bb491c2",
   "metadata": {
    "tags": []
   },
   "outputs": [],
   "source": [
    "# Gruppieren der Hageldaten nach Messzeitpunkt und Aufsummierung der Hageltage\n",
    "df_hail_time_total = df_hail.groupby([\"time\"]).agg(\n",
    "    haildays_sum = (\"haildays\", \"sum\"),\n",
    ").reset_index()\n",
    "\n",
    "# Normierung der Summe der Hageltage je Zeitpunkt auf Anzahl der Messpunkte in der Schweiz\n",
    "df_hail_time_total[\"haildays_per_point\"] = (\n",
    "    df_hail_time_total.haildays_sum\n",
    "    / points_switzerland\n",
    ")\n",
    "df_hail_time_total.head()"
   ]
  },
  {
   "cell_type": "markdown",
   "id": "d9e92adb-7bf4-4732-8c91-91c8d92a1a3e",
   "metadata": {},
   "source": [
    "#### Summe der Hageltage pro Monat und Jahr normiert auf Anzahl der Messpunkte"
   ]
  },
  {
   "cell_type": "code",
   "execution_count": null,
   "id": "1f5cf847-f29b-4f76-a18f-1d9183773e0e",
   "metadata": {
    "tags": []
   },
   "outputs": [],
   "source": [
    "fig = px.line(df_hail_time_total, x=\"time\", y=\"haildays_per_point\")\n",
    "fig.update_layout(\n",
    "    title=\"Summe der Hageltage pro Monat und Jahr normiert auf Anzahl der Messpunkte\",\n",
    "    xaxis_title=\"Monat\",\n",
    "    yaxis_title=\"Summe Hageltage pro Messpunkt\",\n",
    ")\n",
    "fig.show(config= dict(displayModeBar = False))"
   ]
  },
  {
   "cell_type": "code",
   "execution_count": null,
   "id": "66511c5f-1c6d-440d-85da-dce31fabb1d1",
   "metadata": {},
   "outputs": [],
   "source": []
  },
  {
   "cell_type": "code",
   "execution_count": null,
   "id": "605b68fb-8eb4-4a1d-b074-9da5384a8872",
   "metadata": {},
   "outputs": [],
   "source": []
  },
  {
   "cell_type": "markdown",
   "id": "e3bee60d-f17b-473a-b054-ab171d9bf404",
   "metadata": {},
   "source": [
    "### 2.4.2 Hagelkorngrösse pro Monat je Kanton"
   ]
  },
  {
   "cell_type": "code",
   "execution_count": null,
   "id": "a1399bc4-2db0-41d9-99cb-e38115d97fa1",
   "metadata": {
    "tags": []
   },
   "outputs": [],
   "source": [
    "# Gruppieren der Hageldaten nach Monat und Jahr und Aufsummierung der Hageltage und Produkt der Hageltage u. Hagelkorngrösse\n",
    "df_hailsize_month_year = df_hailsize.groupby([\"month\", \"year\"]).agg(\n",
    "    hailsize_sum = (\"haildays_times_hailsize\", \"sum\"),\n",
    "    haildays_sum = (\"haildays\", \"sum\"),\n",
    ").reset_index()\n",
    "\n",
    "# Umbenennung der 'year' und 'month' Spalte in deutsche Namen für sprachlich konsistente Plots\n",
    "df_hailsize_month_year = df_hailsize_month_year.rename(\n",
    "    columns={\n",
    "        \"year\": \"Jahr\",\n",
    "        \"month\": \"Monat\",\n",
    "    }\n",
    ")\n",
    "\n",
    "# Bestimmung der mittleren maximal zu erwartenden Hagelkorngrösse je Monat und Jahr\n",
    "df_hailsize_month_year[\"hailsize_mean\"] = (\n",
    "    df_hailsize_month_year[\"hailsize_sum\"]\n",
    "    / df_hailsize_month_year[\"haildays_sum\"]\n",
    ")\n",
    "\n",
    "df_hailsize_month_year.head()"
   ]
  },
  {
   "cell_type": "markdown",
   "id": "ef4a46eb-cee8-4f4c-9205-246f596356d2",
   "metadata": {},
   "source": [
    "#### Mittlere maximale Hagelkorngrösse in cm pro Monat von 2002-2022"
   ]
  },
  {
   "cell_type": "code",
   "execution_count": null,
   "id": "9677faff-6eea-42aa-bdb9-5055df050b2a",
   "metadata": {
    "tags": []
   },
   "outputs": [],
   "source": [
    "fig = px.bar(df_hailsize_month_year, x=\"Monat\", y=\"hailsize_mean\", color=\"Jahr\")\n",
    "\n",
    "fig.update_layout(\n",
    "    title=\"Mittlere maximale Hagelkorngrösse in cm pro Monat von 2002-2022\",\n",
    "    xaxis_title=\"Monat\",\n",
    "    xaxis=dict(\n",
    "        tickmode=\"array\",\n",
    "        tickvals=[4, 5, 6, 7, 8, 9],\n",
    "        ticktext=[\"April\", \"Mai\", \"Juni\", \"Juli\", \"August\", \"September\"],\n",
    "    ),\n",
    "    yaxis_title=\"Mittlere maximale Hagelkorngrösse [cm]\",\n",
    ")\n",
    "\n",
    "fig.show(config= dict(displayModeBar = False))"
   ]
  },
  {
   "cell_type": "code",
   "execution_count": null,
   "id": "b2612f1a-d233-4bf3-adbf-4ce201ce9cf9",
   "metadata": {},
   "outputs": [],
   "source": []
  },
  {
   "cell_type": "code",
   "execution_count": null,
   "id": "cf5b6ef9-6342-4d8f-90cf-176c5209b159",
   "metadata": {
    "tags": []
   },
   "outputs": [],
   "source": [
    "# Gruppieren der Hageldaten nach Kanton und Aufsummierung des Produktes aus Hageltage und Hagelkorngrösse\n",
    "df_hailsize_canton_total = df_hailsize.groupby(\"canton\").agg(\n",
    "    hailsize_sum = (\"haildays_times_hailsize\", \"sum\"),\n",
    ").reset_index()\n",
    "\n",
    "# Zusammenführn des obigen Dataframes mit Anzahl der Messpuntke pro Kanton\n",
    "df_hailsize_canton_total = df_hailsize_canton_total.merge(\n",
    "    points_per_canton[[\"canton\", \"lat_lon\"]],\n",
    "    left_on=\"canton\",\n",
    "    right_on=\"canton\",\n",
    ")\n",
    "\n",
    "# Normierung der maximal zu erwartenden Hagelkorngrösse je Kanton auf Anzahl der Messpunkte pro Kanton\n",
    "# und Anzhal der Messjahre (2002-2022 -> 21 Jahre)\n",
    "df_hailsize_canton_total[\"hailsize_per_point\"] = (\n",
    "    df_hailsize_canton_total[\"hailsize_sum\"]\n",
    "    / df_hailsize_canton_total[\"lat_lon\"]\n",
    "    / len(years)\n",
    ")\n",
    "df_hailsize_canton_total.head()"
   ]
  },
  {
   "cell_type": "markdown",
   "id": "e1781120-beda-4de5-b353-390d42cfaa87",
   "metadata": {},
   "source": [
    "#### Mittlere maximale Hagelkorngrösse von 2002-2022 pro Kanton normiert auf die Anzahl der Messpunkte je Kanton"
   ]
  },
  {
   "cell_type": "code",
   "execution_count": null,
   "id": "358d83a9-9d4c-45cb-9077-d243fb6422ee",
   "metadata": {
    "tags": []
   },
   "outputs": [],
   "source": [
    "fig = px.pie(\n",
    "    df_hailsize_canton_total,\n",
    "    values=\"hailsize_per_point\",\n",
    "    names=\"canton\",\n",
    "    hole=.3,\n",
    "    color_discrete_sequence=px.colors.sequential.YlOrRd\n",
    ")\n",
    "\n",
    "fig.update_layout(\n",
    "    title={\n",
    "        \"text\": \"Mittlere maximale Hagelkorngrösse von 2002-2022 pro Kanton normiert auf die Anzahl der Messpunkte je Kanton\",\n",
    "        \"y\": 0.1,\n",
    "        \"x\": 0.4,\n",
    "        \"xanchor\": \"center\",\n",
    "        \"yanchor\": \"top\",\n",
    "    },\n",
    "    legend_title=\"Kanton\",\n",
    ")\n",
    "\n",
    "fig.show(config= dict(displayModeBar = False))"
   ]
  },
  {
   "cell_type": "code",
   "execution_count": null,
   "id": "ac29f480-375c-4846-b477-324d2461b29a",
   "metadata": {},
   "outputs": [],
   "source": []
  },
  {
   "cell_type": "code",
   "execution_count": null,
   "id": "d83263f4-135b-4896-9caf-80f3e695d8d9",
   "metadata": {
    "tags": []
   },
   "outputs": [],
   "source": [
    "# Gruppieren der Hageldaten nach Messzeitpunkt und Kanton und Aufsummierung des Produktes aus Hageltage und Hagelkorngrösse\n",
    "df_hailsize_date = df_hailsize.groupby([\"time\", \"canton\"]).agg(\n",
    "    hailsize_sum = (\"haildays_times_hailsize\", \"sum\"),\n",
    ").reset_index()\n",
    "\n",
    "# Zusammenführen des obigen Dataframes mit Anzahl der Messpunkte je Kanton\n",
    "df_hailsize_date = df_hailsize_date.merge(\n",
    "    points_per_canton[[\"canton\", \"lat_lon\"]],\n",
    "    left_on=\"canton\",\n",
    "    right_on=\"canton\",\n",
    ")\n",
    "\n",
    "# Normierung der Summe der maximal zu erwartenden Hagelkorngrösse je Kanton und Messzeitpunkt\n",
    "# auf Anzahl der Messpunkte pro Kanton\n",
    "df_hailsize_date[\"hailsize_per_point\"] = (\n",
    "    df_hailsize_date.hailsize_sum\n",
    "    / df_hailsize_date.lat_lon\n",
    ")\n",
    "\n",
    "df_hailsize_date.head()"
   ]
  },
  {
   "cell_type": "markdown",
   "id": "55f6c9dd-a0eb-4709-8831-e2ec595da5f5",
   "metadata": {},
   "source": [
    "#### Mittlere maximale Hagelkorngrösse in cm pro Monat und Jahr je Kanton"
   ]
  },
  {
   "cell_type": "code",
   "execution_count": null,
   "id": "8a486841-07fe-4cbb-93c6-9f650ef06f71",
   "metadata": {
    "tags": []
   },
   "outputs": [],
   "source": [
    "fig = px.line(df_hailsize_date, x=\"time\", y=\"hailsize_per_point\", color=\"canton\")\n",
    "\n",
    "fig.update_layout(\n",
    "    title=\"Mittlere maximale Hagelkorngrösse in cm pro Monat und Jahr je Kanton\",\n",
    "    xaxis_title=\"Monat\",\n",
    "    yaxis_title=\"Mittlere maximale Hagelkorngrösse [cm]\",\n",
    "    legend_title=\"Kanton\",\n",
    ")\n",
    "fig.show(config= dict(displayModeBar = False))"
   ]
  },
  {
   "cell_type": "code",
   "execution_count": null,
   "id": "3f533397-29a7-4058-8497-d013a1880cd6",
   "metadata": {},
   "outputs": [],
   "source": []
  },
  {
   "cell_type": "code",
   "execution_count": null,
   "id": "6ac7db44-9d1d-4f11-9650-f68574e5fd62",
   "metadata": {
    "tags": []
   },
   "outputs": [],
   "source": [
    "# Gruppieren der Hageldaten nach Messzeitpunkt und Aufsummierung des Produktes aus Hageltage und Hagelkorngrösse\n",
    "df_hailsize_time_total = df_hailsize.groupby([\"time\"]).agg(\n",
    "    hailsize_sum = (\"haildays_times_hailsize\", \"sum\"),\n",
    ").reset_index()\n",
    "\n",
    "# Normierung des Summe der Hagelkrongrösse auf Anzahl der Messpunkte in der Schweiz\n",
    "df_hailsize_time_total[\"hailsize_per_point\"] = (\n",
    "    df_hailsize_time_total.hailsize_sum\n",
    "    / points_switzerland\n",
    ")\n",
    "df_hailsize_time_total.head()"
   ]
  },
  {
   "cell_type": "markdown",
   "id": "fb7d185f-2dcb-4e75-9901-1ee597505d40",
   "metadata": {
    "tags": []
   },
   "source": [
    "#### Mittlere maximale Hagelkorngrösse in cm pro Monat und Jahr normiert auf Anzahl der Messpunkte in der Schweiz"
   ]
  },
  {
   "cell_type": "code",
   "execution_count": null,
   "id": "2b1ba2d6-b080-411d-a995-805a436ab737",
   "metadata": {
    "tags": []
   },
   "outputs": [],
   "source": [
    "fig = px.line(df_hail_time_total, x=\"time\", y=\"haildays_per_point\")\n",
    "fig.update_layout(\n",
    "    title=\"Mittlere maximale Hagelkorngrösse in cm pro Monat und Jahr normiert auf Anzahl der Messpunkte in der Schweiz\",\n",
    "    xaxis_title=\"Monat\",\n",
    "    yaxis_title=\"Mittlere maximale Hagelkorngrösse [cm]\",\n",
    ")\n",
    "fig.show(config= dict(displayModeBar = False))"
   ]
  },
  {
   "cell_type": "code",
   "execution_count": null,
   "id": "10570de6-bb62-4191-87b5-12fd0a844554",
   "metadata": {},
   "outputs": [],
   "source": []
  }
 ],
 "metadata": {
  "kernelspec": {
   "display_name": "Python 3 (ipykernel)",
   "language": "python",
   "name": "python3"
  },
  "language_info": {
   "codemirror_mode": {
    "name": "ipython",
    "version": 3
   },
   "file_extension": ".py",
   "mimetype": "text/x-python",
   "name": "python",
   "nbconvert_exporter": "python",
   "pygments_lexer": "ipython3",
   "version": "3.10.9"
  }
 },
 "nbformat": 4,
 "nbformat_minor": 5
}
